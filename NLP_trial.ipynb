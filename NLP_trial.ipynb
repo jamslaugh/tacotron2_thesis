{
  "nbformat": 4,
  "nbformat_minor": 0,
  "metadata": {
    "colab": {
      "name": "NLP trial",
      "provenance": [],
      "collapsed_sections": [
        "3UpIIWg2nG7r",
        "WkyJm4L4fpuh",
        "QZ6J9scVOG8H",
        "IOirIcBjN6k_"
      ],
      "include_colab_link": true
    },
    "kernelspec": {
      "name": "python3",
      "display_name": "Python 3"
    },
    "accelerator": "GPU"
  },
  "cells": [
    {
      "cell_type": "markdown",
      "metadata": {
        "id": "view-in-github",
        "colab_type": "text"
      },
      "source": [
        "<a href=\"https://colab.research.google.com/github/jamslaugh/tacotron2_thesis/blob/main/NLP_trial.ipynb\" target=\"_parent\"><img src=\"https://colab.research.google.com/assets/colab-badge.svg\" alt=\"Open In Colab\"/></a>"
      ]
    },
    {
      "cell_type": "markdown",
      "metadata": {
        "id": "c1NTK8Ak54xs"
      },
      "source": [
        "# Links and Intro:\n",
        "\n",
        "Questo Notebook presenta differenti approcci mutuati dalle attuali architetture di maggior successo per creare un chatbot.\n",
        "\n",
        "Gli approcci proposti riguardano due possibili strade: una tramite un modello tradizionale di Machine Learning, ancora da implementare, ed un altro basato su tecniche di Deep Learning.\n",
        "\n",
        "- Fine Tuning Approach (keras [tutorial](https://keras.io/examples/nlp/text_extraction_with_bert/)) \n",
        "- Transformer Architecture [here](https://www.tensorflow.org/tutorials/text/transformer)\n",
        "- Bert [transfer learning](https://www.analyticsvidhya.com/blog/2020/07/transfer-learning-for-nlp-fine-tuning-bert-for-text-classification/)\n",
        "- GPT3 [model](https://analyticsindiamag.com/gpt-3-vs-bert-for-nlp-tasks/#:~:text=%20GPT-3%20Vs%20BERT%20For%20NLP%20Tasks%20,BERT%20have%20been%20relatively%20new%20for...%20More%20), [paper](https://arxiv.org/pdf/2005.14165.pdf)\n",
        "- TextVectorization [towards data science](https://towardsdatascience.com/you-should-try-the-new-tensorflows-textvectorization-layer-a80b3c6b00ee)\n",
        "\n",
        "### Lo stato attuale:\n",
        "\n",
        "Il modello creato è un ibrido tra un modello convolutivo ed un modello ricorrente. Il primo permette di catturare eventuali correlazioni tra varie parole, mentre il secondo permette di catturare la struttura delle frasi insierite."
      ]
    },
    {
      "cell_type": "markdown",
      "metadata": {
        "id": "OyRdS7JJxcry"
      },
      "source": [
        "Flusso da sviluppare:\n",
        "\n",
        "- normalize sentence;\n",
        "- Tokenize\n",
        "- w2id\n",
        "- id2w (lookup table)\n",
        "\n",
        "\n",
        "Stato dei lavori: attualmente ho implementato, dopo varie strade percorse, una rete che riesce a trasformare i vocaboli in numeri, integers. Questa rete permette di generare l'input da dare in pasto alla rete neurale dopo.\n",
        "\n",
        "La rete prende in input un dataset espresso come tensore monodirezionale. Quindi la rete avrà la seguente struttura:\n",
        "\n",
        "```python\n",
        "text_dataset = tf.data.Dataset.from_tensor_slices([\"foo\",\"ciao\", \"bar\", \"baz\",...,'zagbria','<UNK>'])\n",
        "```\n",
        "\n",
        "Nel preprocessing, bisogna andare a considerare anche una serie di altri elementi, ovviamente. \n",
        "\n",
        "Importante è valutare se togliendo la punteggiatura o performando word stemmer è possibile o meno ottimizzare le prestazioni della rete.\n",
        "\n",
        "### Steps:\n",
        "\n",
        "1. Carica il dataset tramite csv su pandas\n",
        "2. Tokenizza il dataset tramite keras o tramite stesso nltk (ques'ultimo funziona già bene)\n",
        "3. Crea il vocabolario\n",
        "4. Crea il dataset con l'istruzione di sopra, aggiungendo, però, al vocabolario (dato con `set([el for el in df.apply(word_tokenize)])`, o altro tokenizer)\n",
        "5. Inizializza il \n",
        "```python\n",
        "vectorize_layer = layers.experimental.preprocessing.\\\n",
        "TextVectorization(\n",
        "max_tokens=max_features,\n",
        "output_mode='int',\n",
        "output_sequence_length=max_len)\n",
        "```\n",
        "6. Adatta il TextVectorization al dataset dei tuoi tokens, semplicemente facendo `vectorize_layer.adapt(text_dataset.batch(64))`\n",
        "7. Creiamo il modello seguente:\n",
        "```python\n",
        "model = tf.keras.models.Sequential()\n",
        "model.add(tf.keras.Input(shape=(1,), dtype=tf.string))\n",
        "model.add(vectorize_layer)\n",
        "```\n",
        "8. Alla fine, poi abbiamo: `model.predict(input_data)`\n",
        "\n",
        "---\n",
        "\n",
        "Nota: TextVectorization fa anche la parte di padding, oltre che di tokenization."
      ]
    },
    {
      "cell_type": "code",
      "metadata": {
        "id": "f0T96rz3n9s7",
        "colab": {
          "base_uri": "https://localhost:8080/"
        },
        "outputId": "90777826-1c93-4192-c639-2307d34054f6"
      },
      "source": [
        "!pip install trax\n",
        "import trax as tl"
      ],
      "execution_count": null,
      "outputs": [
        {
          "output_type": "stream",
          "name": "stdout",
          "text": [
            "Collecting trax\n",
            "  Downloading trax-1.3.9-py2.py3-none-any.whl (629 kB)\n",
            "\u001b[?25l\r\u001b[K     |▌                               | 10 kB 41.1 MB/s eta 0:00:01\r\u001b[K     |█                               | 20 kB 30.8 MB/s eta 0:00:01\r\u001b[K     |█▋                              | 30 kB 13.8 MB/s eta 0:00:01\r\u001b[K     |██                              | 40 kB 10.7 MB/s eta 0:00:01\r\u001b[K     |██▋                             | 51 kB 6.9 MB/s eta 0:00:01\r\u001b[K     |███▏                            | 61 kB 7.5 MB/s eta 0:00:01\r\u001b[K     |███▋                            | 71 kB 7.0 MB/s eta 0:00:01\r\u001b[K     |████▏                           | 81 kB 7.9 MB/s eta 0:00:01\r\u001b[K     |████▊                           | 92 kB 7.9 MB/s eta 0:00:01\r\u001b[K     |█████▏                          | 102 kB 6.6 MB/s eta 0:00:01\r\u001b[K     |█████▊                          | 112 kB 6.6 MB/s eta 0:00:01\r\u001b[K     |██████▎                         | 122 kB 6.6 MB/s eta 0:00:01\r\u001b[K     |██████▊                         | 133 kB 6.6 MB/s eta 0:00:01\r\u001b[K     |███████▎                        | 143 kB 6.6 MB/s eta 0:00:01\r\u001b[K     |███████▉                        | 153 kB 6.6 MB/s eta 0:00:01\r\u001b[K     |████████▎                       | 163 kB 6.6 MB/s eta 0:00:01\r\u001b[K     |████████▉                       | 174 kB 6.6 MB/s eta 0:00:01\r\u001b[K     |█████████▍                      | 184 kB 6.6 MB/s eta 0:00:01\r\u001b[K     |██████████                      | 194 kB 6.6 MB/s eta 0:00:01\r\u001b[K     |██████████▍                     | 204 kB 6.6 MB/s eta 0:00:01\r\u001b[K     |███████████                     | 215 kB 6.6 MB/s eta 0:00:01\r\u001b[K     |███████████▌                    | 225 kB 6.6 MB/s eta 0:00:01\r\u001b[K     |████████████                    | 235 kB 6.6 MB/s eta 0:00:01\r\u001b[K     |████████████▌                   | 245 kB 6.6 MB/s eta 0:00:01\r\u001b[K     |█████████████                   | 256 kB 6.6 MB/s eta 0:00:01\r\u001b[K     |█████████████▌                  | 266 kB 6.6 MB/s eta 0:00:01\r\u001b[K     |██████████████                  | 276 kB 6.6 MB/s eta 0:00:01\r\u001b[K     |██████████████▋                 | 286 kB 6.6 MB/s eta 0:00:01\r\u001b[K     |███████████████                 | 296 kB 6.6 MB/s eta 0:00:01\r\u001b[K     |███████████████▋                | 307 kB 6.6 MB/s eta 0:00:01\r\u001b[K     |████████████████▏               | 317 kB 6.6 MB/s eta 0:00:01\r\u001b[K     |████████████████▋               | 327 kB 6.6 MB/s eta 0:00:01\r\u001b[K     |█████████████████▏              | 337 kB 6.6 MB/s eta 0:00:01\r\u001b[K     |█████████████████▊              | 348 kB 6.6 MB/s eta 0:00:01\r\u001b[K     |██████████████████▎             | 358 kB 6.6 MB/s eta 0:00:01\r\u001b[K     |██████████████████▊             | 368 kB 6.6 MB/s eta 0:00:01\r\u001b[K     |███████████████████▎            | 378 kB 6.6 MB/s eta 0:00:01\r\u001b[K     |███████████████████▉            | 389 kB 6.6 MB/s eta 0:00:01\r\u001b[K     |████████████████████▎           | 399 kB 6.6 MB/s eta 0:00:01\r\u001b[K     |████████████████████▉           | 409 kB 6.6 MB/s eta 0:00:01\r\u001b[K     |█████████████████████▍          | 419 kB 6.6 MB/s eta 0:00:01\r\u001b[K     |█████████████████████▉          | 430 kB 6.6 MB/s eta 0:00:01\r\u001b[K     |██████████████████████▍         | 440 kB 6.6 MB/s eta 0:00:01\r\u001b[K     |███████████████████████         | 450 kB 6.6 MB/s eta 0:00:01\r\u001b[K     |███████████████████████▍        | 460 kB 6.6 MB/s eta 0:00:01\r\u001b[K     |████████████████████████        | 471 kB 6.6 MB/s eta 0:00:01\r\u001b[K     |████████████████████████▌       | 481 kB 6.6 MB/s eta 0:00:01\r\u001b[K     |█████████████████████████       | 491 kB 6.6 MB/s eta 0:00:01\r\u001b[K     |█████████████████████████▌      | 501 kB 6.6 MB/s eta 0:00:01\r\u001b[K     |██████████████████████████      | 512 kB 6.6 MB/s eta 0:00:01\r\u001b[K     |██████████████████████████▋     | 522 kB 6.6 MB/s eta 0:00:01\r\u001b[K     |███████████████████████████     | 532 kB 6.6 MB/s eta 0:00:01\r\u001b[K     |███████████████████████████▋    | 542 kB 6.6 MB/s eta 0:00:01\r\u001b[K     |████████████████████████████▏   | 552 kB 6.6 MB/s eta 0:00:01\r\u001b[K     |████████████████████████████▋   | 563 kB 6.6 MB/s eta 0:00:01\r\u001b[K     |█████████████████████████████▏  | 573 kB 6.6 MB/s eta 0:00:01\r\u001b[K     |█████████████████████████████▊  | 583 kB 6.6 MB/s eta 0:00:01\r\u001b[K     |██████████████████████████████▏ | 593 kB 6.6 MB/s eta 0:00:01\r\u001b[K     |██████████████████████████████▊ | 604 kB 6.6 MB/s eta 0:00:01\r\u001b[K     |███████████████████████████████▎| 614 kB 6.6 MB/s eta 0:00:01\r\u001b[K     |███████████████████████████████▊| 624 kB 6.6 MB/s eta 0:00:01\r\u001b[K     |████████████████████████████████| 629 kB 6.6 MB/s \n",
            "\u001b[?25hCollecting t5\n",
            "  Downloading t5-0.9.2-py3-none-any.whl (152 kB)\n",
            "\u001b[?25l\r\u001b[K     |██▏                             | 10 kB 53.8 MB/s eta 0:00:01\r\u001b[K     |████▎                           | 20 kB 57.1 MB/s eta 0:00:01\r\u001b[K     |██████▌                         | 30 kB 65.0 MB/s eta 0:00:01\r\u001b[K     |████████▋                       | 40 kB 67.4 MB/s eta 0:00:01\r\u001b[K     |██████████▊                     | 51 kB 67.9 MB/s eta 0:00:01\r\u001b[K     |█████████████                   | 61 kB 71.8 MB/s eta 0:00:01\r\u001b[K     |███████████████                 | 71 kB 71.3 MB/s eta 0:00:01\r\u001b[K     |█████████████████▏              | 81 kB 69.5 MB/s eta 0:00:01\r\u001b[K     |███████████████████▍            | 92 kB 69.6 MB/s eta 0:00:01\r\u001b[K     |█████████████████████▌          | 102 kB 71.1 MB/s eta 0:00:01\r\u001b[K     |███████████████████████▋        | 112 kB 71.1 MB/s eta 0:00:01\r\u001b[K     |█████████████████████████▉      | 122 kB 71.1 MB/s eta 0:00:01\r\u001b[K     |████████████████████████████    | 133 kB 71.1 MB/s eta 0:00:01\r\u001b[K     |██████████████████████████████  | 143 kB 71.1 MB/s eta 0:00:01\r\u001b[K     |████████████████████████████████| 152 kB 71.1 MB/s \n",
            "\u001b[?25hRequirement already satisfied: jaxlib in /usr/local/lib/python3.7/dist-packages (from trax) (0.1.71+cuda111)\n",
            "Requirement already satisfied: gym in /usr/local/lib/python3.7/dist-packages (from trax) (0.17.3)\n",
            "Requirement already satisfied: absl-py in /usr/local/lib/python3.7/dist-packages (from trax) (0.12.0)\n",
            "Requirement already satisfied: matplotlib in /usr/local/lib/python3.7/dist-packages (from trax) (3.2.2)\n",
            "Requirement already satisfied: numpy in /usr/local/lib/python3.7/dist-packages (from trax) (1.19.5)\n",
            "Requirement already satisfied: tensorflow-datasets in /usr/local/lib/python3.7/dist-packages (from trax) (4.0.1)\n",
            "Collecting tensorflow-text\n",
            "  Downloading tensorflow_text-2.6.0-cp37-cp37m-manylinux1_x86_64.whl (4.4 MB)\n",
            "\u001b[K     |████████████████████████████████| 4.4 MB 50.4 MB/s \n",
            "\u001b[?25hRequirement already satisfied: six in /usr/local/lib/python3.7/dist-packages (from trax) (1.15.0)\n",
            "Requirement already satisfied: jax in /usr/local/lib/python3.7/dist-packages (from trax) (0.2.20)\n",
            "Requirement already satisfied: gin-config in /usr/local/lib/python3.7/dist-packages (from trax) (0.4.0)\n",
            "Requirement already satisfied: psutil in /usr/local/lib/python3.7/dist-packages (from trax) (5.4.8)\n",
            "Requirement already satisfied: scipy in /usr/local/lib/python3.7/dist-packages (from trax) (1.4.1)\n",
            "Collecting funcsigs\n",
            "  Downloading funcsigs-1.0.2-py2.py3-none-any.whl (17 kB)\n",
            "Requirement already satisfied: pyglet<=1.5.0,>=1.4.0 in /usr/local/lib/python3.7/dist-packages (from gym->trax) (1.5.0)\n",
            "Requirement already satisfied: cloudpickle<1.7.0,>=1.2.0 in /usr/local/lib/python3.7/dist-packages (from gym->trax) (1.3.0)\n",
            "Requirement already satisfied: future in /usr/local/lib/python3.7/dist-packages (from pyglet<=1.5.0,>=1.4.0->gym->trax) (0.16.0)\n",
            "Requirement already satisfied: opt-einsum in /usr/local/lib/python3.7/dist-packages (from jax->trax) (3.3.0)\n",
            "Requirement already satisfied: flatbuffers<3.0,>=1.12 in /usr/local/lib/python3.7/dist-packages (from jaxlib->trax) (1.12)\n",
            "Requirement already satisfied: pyparsing!=2.0.4,!=2.1.2,!=2.1.6,>=2.0.1 in /usr/local/lib/python3.7/dist-packages (from matplotlib->trax) (2.4.7)\n",
            "Requirement already satisfied: cycler>=0.10 in /usr/local/lib/python3.7/dist-packages (from matplotlib->trax) (0.10.0)\n",
            "Requirement already satisfied: python-dateutil>=2.1 in /usr/local/lib/python3.7/dist-packages (from matplotlib->trax) (2.8.2)\n",
            "Requirement already satisfied: kiwisolver>=1.0.1 in /usr/local/lib/python3.7/dist-packages (from matplotlib->trax) (1.3.2)\n",
            "Collecting seqio\n",
            "  Downloading seqio-0.0.6-py3-none-any.whl (269 kB)\n",
            "\u001b[K     |████████████████████████████████| 269 kB 69.8 MB/s \n",
            "\u001b[?25hCollecting sacrebleu\n",
            "  Downloading sacrebleu-2.0.0-py3-none-any.whl (90 kB)\n",
            "\u001b[K     |████████████████████████████████| 90 kB 13.3 MB/s \n",
            "\u001b[?25hCollecting sentencepiece\n",
            "  Downloading sentencepiece-0.1.96-cp37-cp37m-manylinux_2_17_x86_64.manylinux2014_x86_64.whl (1.2 MB)\n",
            "\u001b[K     |████████████████████████████████| 1.2 MB 53.8 MB/s \n",
            "\u001b[?25hRequirement already satisfied: torch in /usr/local/lib/python3.7/dist-packages (from t5->trax) (1.9.0+cu102)\n",
            "Collecting mesh-tensorflow[transformer]>=0.1.13\n",
            "  Downloading mesh_tensorflow-0.1.19-py3-none-any.whl (366 kB)\n",
            "\u001b[K     |████████████████████████████████| 366 kB 76.6 MB/s \n",
            "\u001b[?25hRequirement already satisfied: pandas in /usr/local/lib/python3.7/dist-packages (from t5->trax) (1.1.5)\n",
            "Requirement already satisfied: nltk in /usr/local/lib/python3.7/dist-packages (from t5->trax) (3.2.5)\n",
            "Collecting tfds-nightly\n",
            "  Downloading tfds_nightly-4.4.0.dev202109250107-py3-none-any.whl (4.0 MB)\n",
            "\u001b[K     |████████████████████████████████| 4.0 MB 50.7 MB/s \n",
            "\u001b[?25hCollecting rouge-score\n",
            "  Downloading rouge_score-0.0.4-py2.py3-none-any.whl (22 kB)\n",
            "Collecting transformers>=2.7.0\n",
            "  Downloading transformers-4.10.3-py3-none-any.whl (2.8 MB)\n",
            "\u001b[K     |████████████████████████████████| 2.8 MB 45.6 MB/s \n",
            "\u001b[?25hRequirement already satisfied: babel in /usr/local/lib/python3.7/dist-packages (from t5->trax) (2.9.1)\n",
            "Requirement already satisfied: editdistance in /usr/local/lib/python3.7/dist-packages (from t5->trax) (0.5.3)\n",
            "Requirement already satisfied: scikit-learn in /usr/local/lib/python3.7/dist-packages (from t5->trax) (0.22.2.post1)\n",
            "Requirement already satisfied: packaging in /usr/local/lib/python3.7/dist-packages (from transformers>=2.7.0->t5->trax) (21.0)\n",
            "Requirement already satisfied: regex!=2019.12.17 in /usr/local/lib/python3.7/dist-packages (from transformers>=2.7.0->t5->trax) (2019.12.20)\n",
            "Collecting huggingface-hub>=0.0.12\n",
            "  Downloading huggingface_hub-0.0.17-py3-none-any.whl (52 kB)\n",
            "\u001b[K     |████████████████████████████████| 52 kB 2.0 MB/s \n",
            "\u001b[?25hCollecting sacremoses\n",
            "  Downloading sacremoses-0.0.46-py3-none-any.whl (895 kB)\n",
            "\u001b[K     |████████████████████████████████| 895 kB 67.7 MB/s \n",
            "\u001b[?25hCollecting tokenizers<0.11,>=0.10.1\n",
            "  Downloading tokenizers-0.10.3-cp37-cp37m-manylinux_2_5_x86_64.manylinux1_x86_64.manylinux_2_12_x86_64.manylinux2010_x86_64.whl (3.3 MB)\n",
            "\u001b[K     |████████████████████████████████| 3.3 MB 70.8 MB/s \n",
            "\u001b[?25hCollecting pyyaml>=5.1\n",
            "  Downloading PyYAML-5.4.1-cp37-cp37m-manylinux1_x86_64.whl (636 kB)\n",
            "\u001b[K     |████████████████████████████████| 636 kB 78.3 MB/s \n",
            "\u001b[?25hRequirement already satisfied: tqdm>=4.27 in /usr/local/lib/python3.7/dist-packages (from transformers>=2.7.0->t5->trax) (4.62.2)\n",
            "Requirement already satisfied: importlib-metadata in /usr/local/lib/python3.7/dist-packages (from transformers>=2.7.0->t5->trax) (4.8.1)\n",
            "Requirement already satisfied: requests in /usr/local/lib/python3.7/dist-packages (from transformers>=2.7.0->t5->trax) (2.23.0)\n",
            "Requirement already satisfied: filelock in /usr/local/lib/python3.7/dist-packages (from transformers>=2.7.0->t5->trax) (3.0.12)\n",
            "Requirement already satisfied: typing-extensions in /usr/local/lib/python3.7/dist-packages (from huggingface-hub>=0.0.12->transformers>=2.7.0->t5->trax) (3.7.4.3)\n",
            "Requirement already satisfied: pytz>=2015.7 in /usr/local/lib/python3.7/dist-packages (from babel->t5->trax) (2018.9)\n",
            "Requirement already satisfied: zipp>=0.5 in /usr/local/lib/python3.7/dist-packages (from importlib-metadata->transformers>=2.7.0->t5->trax) (3.5.0)\n",
            "Requirement already satisfied: idna<3,>=2.5 in /usr/local/lib/python3.7/dist-packages (from requests->transformers>=2.7.0->t5->trax) (2.10)\n",
            "Requirement already satisfied: certifi>=2017.4.17 in /usr/local/lib/python3.7/dist-packages (from requests->transformers>=2.7.0->t5->trax) (2021.5.30)\n",
            "Requirement already satisfied: urllib3!=1.25.0,!=1.25.1,<1.26,>=1.21.1 in /usr/local/lib/python3.7/dist-packages (from requests->transformers>=2.7.0->t5->trax) (1.24.3)\n",
            "Requirement already satisfied: chardet<4,>=3.0.2 in /usr/local/lib/python3.7/dist-packages (from requests->transformers>=2.7.0->t5->trax) (3.0.4)\n",
            "Collecting portalocker\n",
            "  Downloading portalocker-2.3.2-py2.py3-none-any.whl (15 kB)\n",
            "Requirement already satisfied: tabulate>=0.8.9 in /usr/local/lib/python3.7/dist-packages (from sacrebleu->t5->trax) (0.8.9)\n",
            "Collecting colorama\n",
            "  Downloading colorama-0.4.4-py2.py3-none-any.whl (16 kB)\n",
            "Requirement already satisfied: joblib in /usr/local/lib/python3.7/dist-packages (from sacremoses->transformers>=2.7.0->t5->trax) (1.0.1)\n",
            "Requirement already satisfied: click in /usr/local/lib/python3.7/dist-packages (from sacremoses->transformers>=2.7.0->t5->trax) (7.1.2)\n",
            "Requirement already satisfied: dm-tree in /usr/local/lib/python3.7/dist-packages (from tensorflow-datasets->trax) (0.1.6)\n",
            "Requirement already satisfied: termcolor in /usr/local/lib/python3.7/dist-packages (from tensorflow-datasets->trax) (1.1.0)\n",
            "Requirement already satisfied: dill in /usr/local/lib/python3.7/dist-packages (from tensorflow-datasets->trax) (0.3.4)\n",
            "Requirement already satisfied: tensorflow-metadata in /usr/local/lib/python3.7/dist-packages (from tensorflow-datasets->trax) (1.2.0)\n",
            "Requirement already satisfied: attrs>=18.1.0 in /usr/local/lib/python3.7/dist-packages (from tensorflow-datasets->trax) (21.2.0)\n",
            "Requirement already satisfied: importlib-resources in /usr/local/lib/python3.7/dist-packages (from tensorflow-datasets->trax) (5.2.2)\n",
            "Requirement already satisfied: promise in /usr/local/lib/python3.7/dist-packages (from tensorflow-datasets->trax) (2.3)\n",
            "Requirement already satisfied: protobuf>=3.6.1 in /usr/local/lib/python3.7/dist-packages (from tensorflow-datasets->trax) (3.17.3)\n",
            "Requirement already satisfied: googleapis-common-protos<2,>=1.52.0 in /usr/local/lib/python3.7/dist-packages (from tensorflow-metadata->tensorflow-datasets->trax) (1.53.0)\n",
            "Requirement already satisfied: tensorflow-hub>=0.8.0 in /usr/local/lib/python3.7/dist-packages (from tensorflow-text->trax) (0.12.0)\n",
            "Requirement already satisfied: tensorflow<2.7,>=2.6.0 in /usr/local/lib/python3.7/dist-packages (from tensorflow-text->trax) (2.6.0)\n",
            "Requirement already satisfied: google-pasta~=0.2 in /usr/local/lib/python3.7/dist-packages (from tensorflow<2.7,>=2.6.0->tensorflow-text->trax) (0.2.0)\n",
            "Requirement already satisfied: astunparse~=1.6.3 in /usr/local/lib/python3.7/dist-packages (from tensorflow<2.7,>=2.6.0->tensorflow-text->trax) (1.6.3)\n",
            "Requirement already satisfied: keras-preprocessing~=1.1.2 in /usr/local/lib/python3.7/dist-packages (from tensorflow<2.7,>=2.6.0->tensorflow-text->trax) (1.1.2)\n",
            "Requirement already satisfied: h5py~=3.1.0 in /usr/local/lib/python3.7/dist-packages (from tensorflow<2.7,>=2.6.0->tensorflow-text->trax) (3.1.0)\n",
            "Requirement already satisfied: tensorflow-estimator~=2.6 in /usr/local/lib/python3.7/dist-packages (from tensorflow<2.7,>=2.6.0->tensorflow-text->trax) (2.6.0)\n",
            "Requirement already satisfied: keras~=2.6 in /usr/local/lib/python3.7/dist-packages (from tensorflow<2.7,>=2.6.0->tensorflow-text->trax) (2.6.0)\n",
            "Requirement already satisfied: tensorboard~=2.6 in /usr/local/lib/python3.7/dist-packages (from tensorflow<2.7,>=2.6.0->tensorflow-text->trax) (2.6.0)\n",
            "Requirement already satisfied: gast==0.4.0 in /usr/local/lib/python3.7/dist-packages (from tensorflow<2.7,>=2.6.0->tensorflow-text->trax) (0.4.0)\n",
            "Requirement already satisfied: grpcio<2.0,>=1.37.0 in /usr/local/lib/python3.7/dist-packages (from tensorflow<2.7,>=2.6.0->tensorflow-text->trax) (1.40.0)\n",
            "Requirement already satisfied: wheel~=0.35 in /usr/local/lib/python3.7/dist-packages (from tensorflow<2.7,>=2.6.0->tensorflow-text->trax) (0.37.0)\n",
            "Requirement already satisfied: wrapt~=1.12.1 in /usr/local/lib/python3.7/dist-packages (from tensorflow<2.7,>=2.6.0->tensorflow-text->trax) (1.12.1)\n",
            "Requirement already satisfied: clang~=5.0 in /usr/local/lib/python3.7/dist-packages (from tensorflow<2.7,>=2.6.0->tensorflow-text->trax) (5.0)\n",
            "Requirement already satisfied: cached-property in /usr/local/lib/python3.7/dist-packages (from h5py~=3.1.0->tensorflow<2.7,>=2.6.0->tensorflow-text->trax) (1.5.2)\n",
            "Requirement already satisfied: tensorboard-plugin-wit>=1.6.0 in /usr/local/lib/python3.7/dist-packages (from tensorboard~=2.6->tensorflow<2.7,>=2.6.0->tensorflow-text->trax) (1.8.0)\n",
            "Requirement already satisfied: google-auth<2,>=1.6.3 in /usr/local/lib/python3.7/dist-packages (from tensorboard~=2.6->tensorflow<2.7,>=2.6.0->tensorflow-text->trax) (1.35.0)\n",
            "Requirement already satisfied: tensorboard-data-server<0.7.0,>=0.6.0 in /usr/local/lib/python3.7/dist-packages (from tensorboard~=2.6->tensorflow<2.7,>=2.6.0->tensorflow-text->trax) (0.6.1)\n",
            "Requirement already satisfied: markdown>=2.6.8 in /usr/local/lib/python3.7/dist-packages (from tensorboard~=2.6->tensorflow<2.7,>=2.6.0->tensorflow-text->trax) (3.3.4)\n",
            "Requirement already satisfied: werkzeug>=0.11.15 in /usr/local/lib/python3.7/dist-packages (from tensorboard~=2.6->tensorflow<2.7,>=2.6.0->tensorflow-text->trax) (1.0.1)\n",
            "Requirement already satisfied: google-auth-oauthlib<0.5,>=0.4.1 in /usr/local/lib/python3.7/dist-packages (from tensorboard~=2.6->tensorflow<2.7,>=2.6.0->tensorflow-text->trax) (0.4.6)\n",
            "Requirement already satisfied: setuptools>=41.0.0 in /usr/local/lib/python3.7/dist-packages (from tensorboard~=2.6->tensorflow<2.7,>=2.6.0->tensorflow-text->trax) (57.4.0)\n",
            "Requirement already satisfied: rsa<5,>=3.1.4 in /usr/local/lib/python3.7/dist-packages (from google-auth<2,>=1.6.3->tensorboard~=2.6->tensorflow<2.7,>=2.6.0->tensorflow-text->trax) (4.7.2)\n",
            "Requirement already satisfied: cachetools<5.0,>=2.0.0 in /usr/local/lib/python3.7/dist-packages (from google-auth<2,>=1.6.3->tensorboard~=2.6->tensorflow<2.7,>=2.6.0->tensorflow-text->trax) (4.2.2)\n",
            "Requirement already satisfied: pyasn1-modules>=0.2.1 in /usr/local/lib/python3.7/dist-packages (from google-auth<2,>=1.6.3->tensorboard~=2.6->tensorflow<2.7,>=2.6.0->tensorflow-text->trax) (0.2.8)\n",
            "Requirement already satisfied: requests-oauthlib>=0.7.0 in /usr/local/lib/python3.7/dist-packages (from google-auth-oauthlib<0.5,>=0.4.1->tensorboard~=2.6->tensorflow<2.7,>=2.6.0->tensorflow-text->trax) (1.3.0)\n",
            "Requirement already satisfied: pyasn1<0.5.0,>=0.4.6 in /usr/local/lib/python3.7/dist-packages (from pyasn1-modules>=0.2.1->google-auth<2,>=1.6.3->tensorboard~=2.6->tensorflow<2.7,>=2.6.0->tensorflow-text->trax) (0.4.8)\n",
            "Requirement already satisfied: oauthlib>=3.0.0 in /usr/local/lib/python3.7/dist-packages (from requests-oauthlib>=0.7.0->google-auth-oauthlib<0.5,>=0.4.1->tensorboard~=2.6->tensorflow<2.7,>=2.6.0->tensorflow-text->trax) (3.1.1)\n",
            "Installing collected packages: tokenizers, tfds-nightly, tensorflow-text, sentencepiece, sacremoses, pyyaml, portalocker, mesh-tensorflow, huggingface-hub, colorama, transformers, seqio, sacrebleu, rouge-score, t5, funcsigs, trax\n",
            "  Attempting uninstall: pyyaml\n",
            "    Found existing installation: PyYAML 3.13\n",
            "    Uninstalling PyYAML-3.13:\n",
            "      Successfully uninstalled PyYAML-3.13\n",
            "Successfully installed colorama-0.4.4 funcsigs-1.0.2 huggingface-hub-0.0.17 mesh-tensorflow-0.1.19 portalocker-2.3.2 pyyaml-5.4.1 rouge-score-0.0.4 sacrebleu-2.0.0 sacremoses-0.0.46 sentencepiece-0.1.96 seqio-0.0.6 t5-0.9.2 tensorflow-text-2.6.0 tfds-nightly-4.4.0.dev202109250107 tokenizers-0.10.3 transformers-4.10.3 trax-1.3.9\n"
          ]
        }
      ]
    },
    {
      "cell_type": "code",
      "metadata": {
        "id": "TdmOSUnK0erC",
        "colab": {
          "base_uri": "https://localhost:8080/"
        },
        "outputId": "cc2386bf-2962-4981-c6aa-6fbaef50d777"
      },
      "source": [
        "import tensorflow as tf\n",
        "from tensorflow.keras.preprocessing.sequence import pad_sequences\n",
        "from tensorflow.keras.preprocessing.text import one_hot\n",
        "from tensorflow.keras.preprocessing.text import Tokenizer\n",
        "from tensorflow.keras.layers import dot,Concatenate,Add, Average, AveragePooling1D,Input,LSTM,Bidirectional, Reshape,SpatialDropout1D, Dropout, Conv1D, GRU, MaxPool1D, Conv2D, TimeDistributed, MaxPool2D,Dense, ReLU, BatchNormalization, Embedding, Flatten\n",
        "from tensorflow.keras.callbacks import EarlyStopping, History, LearningRateScheduler\n",
        "from tensorflow.keras.models import Model, Sequential\n",
        "from tensorflow.keras.optimizers import Adam, SGD, RMSprop\n",
        "from tensorflow.keras.losses import LogCosh, MeanSquaredError, CategoricalCrossentropy\n",
        "from tensorflow.keras.regularizers import L1, L2, L1L2\n",
        "from tensorflow.keras.utils import plot_model\n",
        "from sklearn.model_selection import train_test_split\n",
        "from tensorflow.keras import layers\n",
        "import tensorflow_datasets as tfds\n",
        "import pandas as pd\n",
        "import numpy as np\n",
        "import re\n",
        "import os\n",
        "from nltk.tokenize import word_tokenize\n",
        "import nltk\n",
        "import spacy\n",
        "import matplotlib.pyplot as plt\n",
        "%matplotlib inline\n",
        "import json\n",
        "from sklearn.preprocessing import LabelEncoder\n",
        "nltk.download('punkt')\n",
        "nltk.download('wordnet')"
      ],
      "execution_count": null,
      "outputs": [
        {
          "output_type": "stream",
          "name": "stdout",
          "text": [
            "[nltk_data] Downloading package punkt to /root/nltk_data...\n",
            "[nltk_data]   Unzipping tokenizers/punkt.zip.\n",
            "[nltk_data] Downloading package wordnet to /root/nltk_data...\n",
            "[nltk_data]   Unzipping corpora/wordnet.zip.\n"
          ]
        },
        {
          "output_type": "execute_result",
          "data": {
            "text/plain": [
              "True"
            ]
          },
          "metadata": {},
          "execution_count": 2
        }
      ]
    },
    {
      "cell_type": "code",
      "metadata": {
        "id": "wc7qbECF28lD",
        "colab": {
          "base_uri": "https://localhost:8080/"
        },
        "outputId": "9cd864d8-5e12-458c-f65b-e440cc4fae44"
      },
      "source": [
        "from google.colab import drive\n",
        "drive.mount('/content/drive')"
      ],
      "execution_count": null,
      "outputs": [
        {
          "output_type": "stream",
          "name": "stdout",
          "text": [
            "Mounted at /content/drive\n"
          ]
        }
      ]
    },
    {
      "cell_type": "code",
      "metadata": {
        "id": "66dIRVa3aw9R",
        "cellView": "form"
      },
      "source": [
        "#@title Usecases\n",
        "\n",
        "data1 = {\n",
        "    \"intents\": [\n",
        "        {\n",
        "            \"tag\": \"ciao\",\n",
        "            \"context_label\": \"[[START_CHAT]]\",\n",
        "            \"patterns\": [\n",
        "                \"hi\",\n",
        "                \"good morning\",\n",
        "                \"hello\",\n",
        "                \"good evening\",\n",
        "                \"good afternoon\"\n",
        "            ],\n",
        "            \"responses\": [\n",
        "                \"<msg>How can I help you?</msg>\"\n",
        "            ],\n",
        "            \"context_set\": \"[[START_CHAT]]\"\n",
        "        },\n",
        "        {\n",
        "            \"tag\": \"cambio_valore_programmazione_settimanale_MRP\",\n",
        "            \"context_label\": \"[[START_CHAT]]\",\n",
        "            \"patterns\": [\n",
        "                \"can you change the weekly MRP schedule?\",\n",
        "                \"Is is possible to change the weekly MRP schedule?\",\n",
        "                \"Change the weekly MRP schedule\",\n",
        "                \"Please, change the weekly MRP schedule\",\n",
        "                \"I'd like to change the weekly MRP schedule\",\n",
        "                \"MRP schedule change\",\n",
        "                \"change MRP schedule for the next week\",\n",
        "                \"change MRP schedule for the next month\"\n",
        "            ],\n",
        "            \"responses\": [\n",
        "                \"<msg>Please choose the Plant on which you want to set it:</msg><att><br/><ul><li><a href='#' onclick=callBot('[TAG]programmazione_settimanale_MRP')>AGAP - Maserati</a></li><li><a href='#' onclick=callBot('[TAG]programmazione_settimanale_MRP')>Cassino</a></li><li><a href='#' onclick=callBot('[TAG]programmazione_settimanale_MRP')>Kragujevac - Serbia</a></li><li><a href='#' onclick=callBot('[TAG]programmazione_settimanale_MRP')>Maserati Modena</a></li><li><a href='#' onclick=callBot('[TAG]programmazione_settimanale_MRP')>Melfi - SATA</a></li><li><a href='#' onclick=callBot('[TAG]programmazione_settimanale_MRP')>Mirafiori</a></li><li><a href='#' onclick=callBot('[TAG]programmazione_settimanale_MRP')>Rajangaon - India</a></li><li><a href='#' onclick=callBot('[TAG]programmazione_settimanale_MRP')>Val Di Sangro - SEVEL Sud</a></li><li><a href='#' onclick=callBot('[TAG]programmazione_settimanale_MRP')>Vico</a></li></ul></att>\"\n",
        "            ],\n",
        "            \"context_set\": \"[[START_CHAT]]\"\n",
        "        },\n",
        "        {\n",
        "            \"tag\": \"programmazione_settimanale_MRP\",\n",
        "            \"context_label\": \"[[START_CHAT]]\",\n",
        "            \"patterns\": [\n",
        "                         \"Show me the last week MRP schedule\",\n",
        "                         \"What is the last week MRP schedule?\",\n",
        "                         \"last week MRP schedule\",\n",
        "                         \"I would see last week MRP schedule\",\n",
        "                         \"Can you show me the last week MRP schedule?\",\n",
        "                         \"give me the last week MRP schedule.\",\n",
        "                         \"give me the last week MRP schedule!\"\n",
        "                         ],\n",
        "            \"responses\": [\n",
        "                \"<msg>please choose a value</msg>\"\n",
        "            ],\n",
        "            \"context_set\": \"programmazione_settimanale_MRP\"\n",
        "        },\n",
        "        {\n",
        "            \"tag\": \"cosa_approvare\",\n",
        "            \"context_label\": \"[[START_CHAT]]\",\n",
        "            \"patterns\": [\n",
        "                \"can you show me what is in pending approval on DRIVE-IT?\",\n",
        "                \"show me what is in pending approval on DRIVE-IT\",\n",
        "                \"can you show me what is in pending approval?\",\n",
        "                \"can we see what is pending approval on DRIVE-IT?\",\n",
        "                \"can I see what is pending approval on DRIVE-IT?\",\n",
        "                \"Pending approvals on DRIVE-IT?\"\n",
        "            ],\n",
        "            \"responses\": [\n",
        "                \"<msg>The following are all the processes for which an approval is still needed:</msg><att><ul class='list-group'><li class='list-group-item customListHeader'>ENHANCEMENTS</li><li class='list-group-item customListItem'>ENHC0145088</li><li class='list-group-item customListItem'>CHG0439969</li><li class='list-group-item customListItem'>CHG0439979</li><li class='list-group-item customListItem'>ENHC0145085</li></ul></att>\"\n",
        "            ],\n",
        "            \"context_set\": \"[[START_CHAT]]\"\n",
        "        },\n",
        "        {\n",
        "            \"tag\": \"enhancement_ultimo_mese\",\n",
        "            \"context_label\": \"[[START_CHAT]]\",\n",
        "            \"patterns\": [\n",
        "                \"Can you show me the last month ticket distribution on OSS?\",\n",
        "                \"Can you show me the last month OSS ticket distribution?\",\n",
        "                \"OSS ticket distribution\",\n",
        "                \"What is the last month OSS ticket distribution?\",\n",
        "                \"I need OSS ticket distribution\",\n",
        "                \"which is the OSS ticket distribution?\"\n",
        "            ],\n",
        "            \"responses\": [\n",
        "                \"<msg>Here you are:</msg><att><div class='messageAtt'><div class='row'><a class='imagePopup' href='./images/assets/fca/grafico2.png'><img src='./images/assets/fca/grafico2.png' style='max-width: 60%;'></a></div></div></att>\"\n",
        "            ],\n",
        "            \"context_set\": \"[[START_CHAT]]\"\n",
        "        },\n",
        "        {\n",
        "            \"tag\": \"ciao\",\n",
        "            \"context_label\": \"[[START_CHAT]]\",\n",
        "            \"patterns\": [\n",
        "                \"hi\",\n",
        "                \"good morning\",\n",
        "                \"hello\",\n",
        "                \"good evening\",\n",
        "                \"good afternoon\"\n",
        "            ],\n",
        "            \"responses\": [\n",
        "                \"<msg>How can I help you?</msg>\"\n",
        "            ],\n",
        "            \"context_set\": \"[[START_CHAT]]\"\n",
        "        },\n",
        "        {\n",
        "            \"tag\": \"subPKOSS_1\",\n",
        "            \"context_label\": \"Create a new SubPK on OSS\",\n",
        "            \"patterns\": [\n",
        "                \"how can I create a new SubPK on OSS?\",\n",
        "                \"Create a new SubPK on OSS\",\n",
        "                \"I want to create a new SubPK on OSS\",\n",
        "                \"I'd like to create a new SubPK on OSS\",\n",
        "                \"how to create new SubPK on OSS\"\n",
        "            ],\n",
        "            \"responses\": [\n",
        "                \"<msg>From CDM access to the 'Sub PK Maintenance' menu</msg> <att><div class='messageAtt'><div class='row'><a class='imagePopup' href='./images/assets/fca/wiz_step1.png'><img src='./images/assets/fca/wiz_step1.png' style='max-width: 60%;' alt='conf_01' ></a></div><div class='row containerButton'><div><br/><button class='btn btn-primary btn-sm' onclick=callBot('[TAG]subPKOSS_2')>Continue</button> <button class='btn btn-secondary btn-sm' onclick=callBot('[TAG]subPKOSS_exit')>Exit</button></div></div></div></att>\"\n",
        "            ],\n",
        "            \"context_set\": \"subPKOSS\",\n",
        "            \"context_filter\": [\n",
        "                \"[[START_CHAT]]\"\n",
        "            ]\n",
        "        },\n",
        "        {\n",
        "            \"tag\": \"MTM\",\n",
        "            \"context_label\": \"[[START_CHAT]]\",\n",
        "            \"patterns\": [\n",
        "                \"what is MTM?\",\n",
        "                \"about MTM\",\n",
        "                \"tell me about MTM\",\n",
        "                \"I want to know MTM\",\n",
        "                \"Just tell me MTM\",\n",
        "                \"I'd like to know MTM\",\n",
        "                \"What can you tell me about MTM?\",\n",
        "                \"want MTM\",\n",
        "                \"real MTM\",\n",
        "                \"MTM definition\",\n",
        "                \"How to MTM\",\n",
        "                \"know MTM\"\n",
        "                \"MTM\",\n",
        "                \"definition of MTM\"\n",
        "            ],\n",
        "            \"responses\": [\n",
        "                \"<msg>Market Target Maintenance is the UI that manages market's requests.</msg>\"\n",
        "            ],\n",
        "            \"context_set\": \"[[START_CHAT]]\"\n",
        "        },\n",
        "        {\n",
        "            \"tag\": \"anticipo_OSS\",\n",
        "            \"context_label\": \"[[START_CHAT]]\",\n",
        "            \"patterns\": [\n",
        "                \"what is an OSS advance?\",\n",
        "                \"define OSS advance\",\n",
        "                \"tell me about OSS advance\",\n",
        "                \"I want to know OSS advance\",\n",
        "                \"OSS advance?\",\n",
        "                \"what OSS advance?\"\n",
        "            ],\n",
        "            \"responses\": [\n",
        "                \"<msg>It is the activity that is carried out by the Supply Chain when an order for which it is responsible is moved (anticipated) in the hands of the Factory.</msg>\"\n",
        "            ],\n",
        "            \"context_set\": \"[[START_CHAT]]\"\n",
        "        },\n",
        "        {\n",
        "            \"tag\": \"ordini_su_OSS\",\n",
        "            \"context_label\": \"[[START_CHAT]]\",\n",
        "            \"patterns\": [\n",
        "                \"who manages orders made via OSS?\",\n",
        "                \"I want to know who manages orders made via OSS\",\n",
        "                \"tell me OSS orders manager\"\n",
        "            ],\n",
        "            \"responses\": [\n",
        "                \"<msg>Orders on OSS are managed by Supply Chain or by the plant according to the horizon in which they are planned.</msg><att><br/>We can have:<ul><li>WSL: Order in Supply Chain Management</li><li>DSL: Order under management at the plant</li><li>POP: Order under management at the plant</li><li>GIR: Order present on the production line of the factory</li><li>DIF: Order that has been produced</li><li>ASF: Order that has been assigned</li></ul></att>\"\n",
        "            ],\n",
        "            \"context_set\": \"[[START_CHAT]]\"\n",
        "        },\n",
        "        {\n",
        "            \"tag\": \"report_MTM\",\n",
        "            \"context_label\": \"[[START_CHAT]]\",\n",
        "            \"patterns\": [\n",
        "                \"can you show me MTM reports?\",\n",
        "                \"show me MTM reports\",\n",
        "                \"I'd like to know MTM reports\",\n",
        "                \"What is MTM reports\",\n",
        "                \"What are MTM reports\",\n",
        "                \"I want to know MTM reports\"\n",
        "            ],\n",
        "            \"responses\": [\n",
        "                \"<msg>Please, select which one you want to read:</msg><att><ul class='list-group'><li class='list-group-item customListHeader'>REPORTS</li><li class='list-group-item customListItem'><a target='_blank' href='doc_repository/documenti/fca/EMEA_MTM_Veloce_MKT_solo_dettaglio_MESE_Backlog.xlsx'>EMEA_MTM_Veloce_MKT_solo_dettaglio_MESE_Backlog</a></li><li class='list-group-item customListItem'><a href='doc_repository/documenti/fca/MTM_Veloce_Torrini_LEAD_TIME_OCF_220_giorni.xlsx' target='_blank'>MTM_Veloce_Torrini_LEAD_TIME_OCF_220_giorni</a></li></ul></att>\"\n",
        "            ],\n",
        "            \"context_set\": \"[[START_CHAT]]\"\n",
        "        },\n",
        "        {\n",
        "            \"tag\": \"guide_MTM\",\n",
        "            \"context_label\": \"[[START_CHAT]]\",\n",
        "            \"patterns\": [\n",
        "                \"can you show me the MTM guidelines?\",\n",
        "                \"What are the MTM guidelines?\",\n",
        "                \"show me the MTM guidelines\",\n",
        "                \"I'd like to know MTM guidelines\",\n",
        "                \"show MTM guidelines\",\n",
        "                \"tell me the MTM guidelines\",\n",
        "                \"MTM guidelines\",\n",
        "                \"MTM guidelines info\",\n",
        "                \"about MTM guidelines\"\n",
        "            ],\n",
        "            \"responses\": [\n",
        "                \"<msg>I have retrieved the available guides:</msg><att><ul class='list-group'><li class='list-group-item customListHeader'>GUIDE</li><li class='list-group-item customListItem'><a target='_blank' href='doc_repository/documenti/fca/MTM_Training.pptx'>MTM Training</a></li><li class='list-group-item customListItem'><a href='doc_repository/documenti/fca/OSS_Bulletin_024_OSS_MTM_nuove_funzionalita.pptx' target='_blank'>OSS Bulletin 024 OSS MTM nuove funzionalita'</a></li><li class='list-group-item customListItem'><a href='doc_repository/documenti/fca/OSS_Bulletin_031_OSS_MTM_CM_nuovi_campi.pptx' target='_blank'>OSS Bulletin 031 OSS MTM CM nuovi campi</a></li></ul></att>\"\n",
        "            ],\n",
        "            \"context_set\": \"[[START_CHAT]]\"\n",
        "        },\n",
        "        {\n",
        "            \"tag\": \"apertura_ticket\",\n",
        "            \"context_label\": \"[[START_CHAT]]\",\n",
        "            \"patterns\": [\n",
        "                \"I would like OSS team support\",\n",
        "                \"OSS team support\",\n",
        "                \"Open a ticket on OSS\",\n",
        "                \"I would like to open a ticket on OSS\",\n",
        "                \"Need to open a ticket on OSS\",\n",
        "                \"OSS open ticket\",\n",
        "                \"How can I open a ticket on OSS?\",\n",
        "                \"team OSS support\",\n",
        "                \"OSS support team\",\n",
        "                \"open a ticket on OSS\"\n",
        "            ],\n",
        "            \"responses\": [\n",
        "                \"<msg>Ok. What's the issue?</msg>\"\n",
        "            ],\n",
        "            \"context_set\": \"ticket\",\n",
        "            \"context_filter\": [\n",
        "                \"[[START_CHAT]]\"\n",
        "            ]\n",
        "        },\n",
        "        {\n",
        "            \"tag\": \"apertura_ticket_modale\",\n",
        "            \"context_label\": \"Open ticket\",\n",
        "            \"patterns\": [\n",
        "                \"Melfi 2021 roof towers completely empty for all models\",\n",
        "                \"Melfi 2021 roof towers are completely empty\",\n",
        "                \"Roof towers completely empty for all models for 2021\"\n",
        "                \n",
        "            ],\n",
        "            \"responses\": [\n",
        "                \"<msg>Ok. To proceed with the opening of the ticket it is possible to use the key shown below.<br/>Fields will already be pre-populated (albeit modifiable if needed).</msg><att><div class='row containerButton'><div class='col-12'><att><button class='btn btn-success btn-sm' onclick=\\\"$('#ticketModalFca').modal('show')\\\">Open ticket modal</button></att></div></div></att>\"\n",
        "            ],\n",
        "            \"context_set\": \"[[START_CHAT]]\",\n",
        "            \"context_filter\": [\n",
        "                \"ticket\"\n",
        "            ]\n",
        "        },\n",
        "        {\n",
        "            \"tag\": \"programmazione settimanale MRP\",\n",
        "            \"context_label\": \"[[START_CHAT]]\",\n",
        "            \"patterns\": [\n",
        "                \"can you change the weekly MRP schedule?\",\n",
        "                \"I want to change MRP weekly schedule\",\n",
        "                \"change MRP weekly schedule\",\n",
        "                \"please change MRP weekly schedule\"\n",
        "            ],\n",
        "            \"responses\": [\n",
        "                \"<msg>If you intend to perform such operation it is necessary to authenticate yourself.</msg><att><br/><br/><button class='btn btn-primary btn-sm' onclick=\\\"$('#loginLink').click()\\\">Login</button></att>\"\n",
        "            ],\n",
        "            \"context_set\": \"[[START_CHAT]]\"\n",
        "        }\n",
        "    ]\n",
        "}\n",
        "\n",
        "data_all = pd.DataFrame(data1['intents'])\n",
        "#data2 = pd.DataFrame(data2['intents'])"
      ],
      "execution_count": null,
      "outputs": []
    },
    {
      "cell_type": "code",
      "metadata": {
        "id": "8vGeWDuhbOjx",
        "colab": {
          "base_uri": "https://localhost:8080/",
          "height": 293
        },
        "outputId": "56efb3c6-894f-4bb2-b88b-6f8e004f2e17"
      },
      "source": [
        "data_all.head()"
      ],
      "execution_count": null,
      "outputs": [
        {
          "output_type": "execute_result",
          "data": {
            "text/html": [
              "<div>\n",
              "<style scoped>\n",
              "    .dataframe tbody tr th:only-of-type {\n",
              "        vertical-align: middle;\n",
              "    }\n",
              "\n",
              "    .dataframe tbody tr th {\n",
              "        vertical-align: top;\n",
              "    }\n",
              "\n",
              "    .dataframe thead th {\n",
              "        text-align: right;\n",
              "    }\n",
              "</style>\n",
              "<table border=\"1\" class=\"dataframe\">\n",
              "  <thead>\n",
              "    <tr style=\"text-align: right;\">\n",
              "      <th></th>\n",
              "      <th>tag</th>\n",
              "      <th>context_label</th>\n",
              "      <th>patterns</th>\n",
              "      <th>responses</th>\n",
              "      <th>context_set</th>\n",
              "      <th>context_filter</th>\n",
              "    </tr>\n",
              "  </thead>\n",
              "  <tbody>\n",
              "    <tr>\n",
              "      <th>0</th>\n",
              "      <td>ciao</td>\n",
              "      <td>[[START_CHAT]]</td>\n",
              "      <td>[hi, good morning, hello, good evening, good a...</td>\n",
              "      <td>[&lt;msg&gt;How can I help you?&lt;/msg&gt;]</td>\n",
              "      <td>[[START_CHAT]]</td>\n",
              "      <td>NaN</td>\n",
              "    </tr>\n",
              "    <tr>\n",
              "      <th>1</th>\n",
              "      <td>cambio_valore_programmazione_settimanale_MRP</td>\n",
              "      <td>[[START_CHAT]]</td>\n",
              "      <td>[can you change the weekly MRP schedule?, Is i...</td>\n",
              "      <td>[&lt;msg&gt;Please choose the Plant on which you wan...</td>\n",
              "      <td>[[START_CHAT]]</td>\n",
              "      <td>NaN</td>\n",
              "    </tr>\n",
              "    <tr>\n",
              "      <th>2</th>\n",
              "      <td>programmazione_settimanale_MRP</td>\n",
              "      <td>[[START_CHAT]]</td>\n",
              "      <td>[Show me the last week MRP schedule, What is t...</td>\n",
              "      <td>[&lt;msg&gt;please choose a value&lt;/msg&gt;]</td>\n",
              "      <td>programmazione_settimanale_MRP</td>\n",
              "      <td>NaN</td>\n",
              "    </tr>\n",
              "    <tr>\n",
              "      <th>3</th>\n",
              "      <td>cosa_approvare</td>\n",
              "      <td>[[START_CHAT]]</td>\n",
              "      <td>[can you show me what is in pending approval o...</td>\n",
              "      <td>[&lt;msg&gt;The following are all the processes for ...</td>\n",
              "      <td>[[START_CHAT]]</td>\n",
              "      <td>NaN</td>\n",
              "    </tr>\n",
              "    <tr>\n",
              "      <th>4</th>\n",
              "      <td>enhancement_ultimo_mese</td>\n",
              "      <td>[[START_CHAT]]</td>\n",
              "      <td>[Can you show me the last month ticket distrib...</td>\n",
              "      <td>[&lt;msg&gt;Here you are:&lt;/msg&gt;&lt;att&gt;&lt;div class='mess...</td>\n",
              "      <td>[[START_CHAT]]</td>\n",
              "      <td>NaN</td>\n",
              "    </tr>\n",
              "  </tbody>\n",
              "</table>\n",
              "</div>"
            ],
            "text/plain": [
              "                                            tag  ... context_filter\n",
              "0                                          ciao  ...            NaN\n",
              "1  cambio_valore_programmazione_settimanale_MRP  ...            NaN\n",
              "2                programmazione_settimanale_MRP  ...            NaN\n",
              "3                                cosa_approvare  ...            NaN\n",
              "4                       enhancement_ultimo_mese  ...            NaN\n",
              "\n",
              "[5 rows x 6 columns]"
            ]
          },
          "metadata": {},
          "execution_count": 5
        }
      ]
    },
    {
      "cell_type": "code",
      "metadata": {
        "id": "KpqPD1Y5ZR6t",
        "colab": {
          "base_uri": "https://localhost:8080/"
        },
        "outputId": "a2fa712b-bbac-401d-a42f-b9a55d5d2f05"
      },
      "source": [
        "!cp ./data_all.json /content/drive/My\\ Drive/indra_challenge/"
      ],
      "execution_count": null,
      "outputs": [
        {
          "output_type": "stream",
          "name": "stdout",
          "text": [
            "cp: cannot stat './data_all.json': No such file or directory\n"
          ]
        }
      ]
    },
    {
      "cell_type": "code",
      "metadata": {
        "id": "WualEPoj3_Gw",
        "colab": {
          "base_uri": "https://localhost:8080/"
        },
        "outputId": "059c2c69-7662-4022-c8e4-670fc6f00f1c"
      },
      "source": [
        "!cp -r /content/drive/My\\ Drive/indra_challenge ./"
      ],
      "execution_count": null,
      "outputs": [
        {
          "output_type": "stream",
          "name": "stdout",
          "text": [
            "cp: cannot open '/content/drive/My Drive/indra_challenge/train_dataset_intent.gsheet' for reading: Operation not supported\n"
          ]
        }
      ]
    },
    {
      "cell_type": "code",
      "metadata": {
        "id": "fNuEXQlv4Z_U",
        "colab": {
          "base_uri": "https://localhost:8080/",
          "height": 206
        },
        "outputId": "96f83449-0065-4c81-ffe2-5948a115e023"
      },
      "source": [
        "train = pd.read_csv('./indra_challenge/train_dataset_intent.csv',sep=';')\n",
        "test_label = pd.read_csv('./indra_challenge/test_dataset_intent_to_share_labels.csv')\n",
        "test_intent = pd.read_csv('./indra_challenge/test_dataset_intent_to_share.csv')\n",
        "train.head()"
      ],
      "execution_count": null,
      "outputs": [
        {
          "output_type": "execute_result",
          "data": {
            "text/html": [
              "<div>\n",
              "<style scoped>\n",
              "    .dataframe tbody tr th:only-of-type {\n",
              "        vertical-align: middle;\n",
              "    }\n",
              "\n",
              "    .dataframe tbody tr th {\n",
              "        vertical-align: top;\n",
              "    }\n",
              "\n",
              "    .dataframe thead th {\n",
              "        text-align: right;\n",
              "    }\n",
              "</style>\n",
              "<table border=\"1\" class=\"dataframe\">\n",
              "  <thead>\n",
              "    <tr style=\"text-align: right;\">\n",
              "      <th></th>\n",
              "      <th>question</th>\n",
              "      <th>scenario</th>\n",
              "      <th>intent</th>\n",
              "    </tr>\n",
              "  </thead>\n",
              "  <tbody>\n",
              "    <tr>\n",
              "      <th>0</th>\n",
              "      <td>have i got any alarms set</td>\n",
              "      <td>alarm</td>\n",
              "      <td>query</td>\n",
              "    </tr>\n",
              "    <tr>\n",
              "      <th>1</th>\n",
              "      <td>what's the current temperature</td>\n",
              "      <td>weather</td>\n",
              "      <td>query</td>\n",
              "    </tr>\n",
              "    <tr>\n",
              "      <th>2</th>\n",
              "      <td>tell me about lisa ann</td>\n",
              "      <td>qa</td>\n",
              "      <td>factoid</td>\n",
              "    </tr>\n",
              "    <tr>\n",
              "      <th>3</th>\n",
              "      <td>play jumper by third eye blind</td>\n",
              "      <td>play</td>\n",
              "      <td>music</td>\n",
              "    </tr>\n",
              "    <tr>\n",
              "      <th>4</th>\n",
              "      <td>if there any alarm is set then let me know</td>\n",
              "      <td>alarm</td>\n",
              "      <td>query</td>\n",
              "    </tr>\n",
              "  </tbody>\n",
              "</table>\n",
              "</div>"
            ],
            "text/plain": [
              "                                     question scenario   intent\n",
              "0                   have i got any alarms set    alarm    query\n",
              "1              what's the current temperature  weather    query\n",
              "2                      tell me about lisa ann       qa  factoid\n",
              "3              play jumper by third eye blind     play    music\n",
              "4  if there any alarm is set then let me know    alarm    query"
            ]
          },
          "metadata": {},
          "execution_count": 8
        }
      ]
    },
    {
      "cell_type": "code",
      "metadata": {
        "id": "YNmtKVLL_V7z"
      },
      "source": [
        "train.to_excel(\"/content/drive/My Drive/indra_challenge/train_dataset.xlsx\")"
      ],
      "execution_count": null,
      "outputs": []
    },
    {
      "cell_type": "code",
      "metadata": {
        "colab": {
          "base_uri": "https://localhost:8080/"
        },
        "id": "mEm85iFK7NNW",
        "outputId": "d0edfe20-567e-40f1-fc9e-abfd63f345bb"
      },
      "source": [
        "wt = train.question.apply(word_tokenize)\n",
        "wt"
      ],
      "execution_count": null,
      "outputs": [
        {
          "output_type": "execute_result",
          "data": {
            "text/plain": [
              "0                         [have, i, got, any, alarms, set]\n",
              "1                    [what, 's, the, current, temperature]\n",
              "2                             [tell, me, about, lisa, ann]\n",
              "3                    [play, jumper, by, third, eye, blind]\n",
              "4        [if, there, any, alarm, is, set, then, let, me...\n",
              "                               ...                        \n",
              "14509                    [i, want, to, mute, the, speaker]\n",
              "14510      [are, there, any, alarms, set, what, are, they]\n",
              "14511               [put, on, some, techno, music, please]\n",
              "14512                    [kill, all, the, frogs, you, see]\n",
              "14513            [can, you, shut, off, my, bedroom, light]\n",
              "Name: question, Length: 14514, dtype: object"
            ]
          },
          "metadata": {
            "tags": []
          },
          "execution_count": 10
        }
      ]
    },
    {
      "cell_type": "markdown",
      "metadata": {
        "id": "RFx-33IwZeGU"
      },
      "source": [
        "# Deep Learning Approach"
      ]
    },
    {
      "cell_type": "markdown",
      "metadata": {
        "id": "3UpIIWg2nG7r"
      },
      "source": [
        "## This can be skipped"
      ]
    },
    {
      "cell_type": "code",
      "metadata": {
        "id": "0fy9-Mq0HY0h",
        "cellView": "form"
      },
      "source": [
        "#@title TPU support, fix later\n",
        "#print(\"Tensorflow version \" + tf.__version__)\n",
        "\n",
        "#try:\n",
        "#  tpu = tf.distribute.cluster_resolver.TPUClusterResolver()  # TPU detection\n",
        "#  print('Running on TPU ', tpu.cluster_spec().as_dict()['worker'])\n",
        "#except ValueError:\n",
        "#  raise BaseException('ERROR: Not connected to a TPU runtime; please see the previous cell in this notebook for instructions!')\n",
        "#\n",
        "#tf.config.experimental_connect_to_cluster(tpu)\n",
        "#tf.tpu.experimental.initialize_tpu_system(tpu)\n",
        "#tpu_strategy = tf.distribute.experimental.TPUStrategy(tpu)"
      ],
      "execution_count": null,
      "outputs": []
    },
    {
      "cell_type": "code",
      "metadata": {
        "id": "kwWDSZceBowp",
        "cellView": "form"
      },
      "source": [
        "#@title VectorizationLayer class - works but need to wait.\n",
        "# class VectorizationLayer(layers.experimental.preprocessing.PreprocessingLayer):\n",
        "    \n",
        "#     def __init__(self,vocabulary=None,depth=None,minimum=None,standardize=None,output_mode='int',max_features=6554,max_len=51):\n",
        "#         super().__init__()\n",
        "#         self.vectorize_layer = layers.experimental.preprocessing.TextVectorization(\n",
        "#                                                             max_tokens=max_features,\n",
        "#                                                             output_sequence_length=max_len,\n",
        "#                                                             standardize=standardize,\n",
        "#                                                             output_mode=output_mode)\n",
        "#         if vocabulary:\n",
        "#             self.vectorize_layer.set_vocabulary(vocabulary)\n",
        "#         self.depth = depth\n",
        "#         self.minimum = minimum\n",
        "#         self.vocab = self.vectorize_layer.get_vocabulary()\n",
        "\n",
        "#     def adapt(self, data):\n",
        "#         try:\n",
        "#             assert type(text_dataset) == tf.python.data.ops.dataset_ops.TensorSliceDataset\n",
        "#         except:\n",
        "#             raise TypeError('Invalid data format, expected tensorflow.python.data.ops.dataset_ops.TensorSliceDataset received %s'%(type(text_dataset)))\n",
        "#         self.vectorize_layer.adapt(data.batch(64))\n",
        "#         vocab = self.vectorize_layer.get_vocabulary()\n",
        "#         self.depth = len(vocab)\n",
        "#         indices = [i[0] for i in self.vectorize_layer([[v] for v in vocab]).numpy()]\n",
        "#         self.minimum = min(indices)\n",
        "    \n",
        "#     def call(self,inputs):\n",
        "#         vectorized_layer = self.vectorize_layer.call(inputs)\n",
        "#         return vectorized_layer\n"
      ],
      "execution_count": null,
      "outputs": []
    },
    {
      "cell_type": "code",
      "metadata": {
        "id": "ozJlEpxHUe3g"
      },
      "source": [
        "#raw = [[re.sub('\\s{2,}', ' ', re.sub('([\\[.,!?()\\'\\]])', r' \\1 ', el)).lower()] for el in train['question'].to_list()]"
      ],
      "execution_count": null,
      "outputs": []
    },
    {
      "cell_type": "code",
      "metadata": {
        "id": "jqkdbYppoRTm"
      },
      "source": [
        "#vect = VectorizationLayer()\n",
        "#vect.adapt(tf.data.Dataset.from_tensor_slices(list(set([k for el in raw for k in el[0].split()]))))\n",
        "#vect.call(input_data)"
      ],
      "execution_count": null,
      "outputs": []
    },
    {
      "cell_type": "code",
      "metadata": {
        "id": "CYtOqCb8C-TA"
      },
      "source": [
        "#type(text_dataset) == tf.python.data.ops.dataset_ops.TensorSliceDataset"
      ],
      "execution_count": null,
      "outputs": []
    },
    {
      "cell_type": "code",
      "metadata": {
        "id": "hTaofrHQDi_O"
      },
      "source": [
        "# text_dataset = tf.data.Dataset.from_tensor_slices(list(set([k for el in raw for k in el[0].split()])))\n",
        "# max_features = len(set([k for el in raw for k in el[0].split()]))  # Maximum vocab size.\n",
        "# max_len = max([len(el[0].split()) for el in raw])  # Sequence length to pad the outputs to.\n",
        "# #embedding_dims = 2\n",
        "\n",
        "# # Create the layer.\n",
        "# vectorize_layer = layers.experimental.preprocessing.TextVectorization(\n",
        "#  max_tokens=max_features,\n",
        "#  output_mode='int',\n",
        "#  output_sequence_length=max_len,\n",
        "#  standardize=None) #standardize none funziona!\n",
        "\n",
        "# # Now that the vocab layer has been created, call `adapt` on the text-only\n",
        "# # dataset to create the vocabulary. You don't have to batch, but for large\n",
        "# # datasets this means we're not keeping spare copies of the dataset.\n",
        "# vectorize_layer.adapt(text_dataset.batch(64)) #alternativamente vectorize_layer.adapt(text_dataset)\n",
        "\n",
        "# # Create the model that uses the vectorize text layer\n",
        "# model = tf.keras.models.Sequential()\n",
        "\n",
        "# # Start by creating an explicit input layer. It needs to have a shape of\n",
        "# # (1,) (because we need to guarantee that there is exactly one string\n",
        "# # input per batch), and the dtype needs to be 'string'.\n",
        "# model.add(tf.keras.Input(shape=(1,), dtype=tf.string))\n",
        "\n",
        "# # The first layer in our model is the vectorization layer. After this\n",
        "# # layer, we have a tensor of shape (batch_size, max_len) containing vocab\n",
        "# # indices.\n",
        "# model.add(vectorize_layer)\n",
        "# #model.add(Embedding(max_features,max_len))\n",
        "\n",
        "# # Now, the model can map strings to integers, and you can add an embedding\n",
        "# # layer to map these integers to learned embeddings.\n",
        "# input_data = raw\n",
        "# model.predict(input_data)\n",
        "\n"
      ],
      "execution_count": null,
      "outputs": []
    },
    {
      "cell_type": "code",
      "metadata": {
        "id": "_4FrgE6PbUrm"
      },
      "source": [
        "def preprocessing_pipeline(train,text_col = 'question'):\n",
        "    import re\n",
        "    train[text_col] = train[text_col]\n",
        "    train[text_col] = train[text_col].str.lower().apply(lambda x: \\\n",
        "                                                                      re.sub('\\s{2,}', ' ', re.sub('([.,!?()\\'])', r' \\1 ', x)))\n",
        "    data = train[text_col].str.lower().apply(word_tokenize)\n",
        "    vocabulary = set([el for k in data for el in k ])\n",
        "    voc_len = len(vocabulary)\n",
        "    oh_data = train.question.apply(one_hot,args=[len(vocabulary)])\n",
        "    pad_max_len=np.array([len(el) for el in data]).max()\n",
        "    sequences = pad_sequences(oh_data.to_list(),pad_max_len,padding = 'post')\n",
        "    \n",
        "    y = pd.get_dummies(train[['scenario','intent']],prefix=['scen','int'])\n",
        "    x_train,x_test,y_train,y_test = train_test_split(sequences,y,stratify=y,test_size=0.1)\n",
        "    y_train_scen = y_train[[el for el in y_train.columns if re.match('scen',el)]]\n",
        "    y_train_int = y_train[[el for el in y_train.columns if re.match('int',el)]]\n",
        "    y_train = [y_train_int,y_train_scen]\n",
        "    y_test_scen = y_test[[el for el in y_test.columns if re.match('scen',el)]]\n",
        "    y_test_int = y_test[[el for el in y_test.columns if re.match('int',el)]]\n",
        "    y_test = [y_test_int,y_test_scen]\n",
        "    output = {'sequences':sequences,\n",
        "              'train_set':[x_train,y_train],\n",
        "              'test_set':[x_test,y_test],\n",
        "             'pad_max_len':pad_max_len,\n",
        "             'voc_len':voc_len,\n",
        "             'oh_data':oh_data,\n",
        "             'vocabulary':vocabulary}\n",
        "    return output"
      ],
      "execution_count": null,
      "outputs": []
    },
    {
      "cell_type": "code",
      "metadata": {
        "id": "wIKQJEhiCcoY"
      },
      "source": [
        "def preprocessing_pipeline(train,text_col = 'question'):\n",
        "    import re\n",
        "    train[text_col] = train[text_col]\n",
        "    \n",
        "    raw = [[re.sub('\\s{2,}', ' ', re.sub('([\\[.,!?()\\'\\]])', r' \\1 ', el)).lower()] for el in train[text_col].to_list()]\n",
        "    vocabulary = list(set([k for el in raw for k in el[0].split()]))\n",
        "    voc_len = len(vocabulary)\n",
        "    oh_data = train.question.apply(one_hot,args=[len(vocabulary)])\n",
        "    pad_max_len=max([len(el[0].split()) for el in raw])\n",
        "    sequences = raw\n",
        "    \n",
        "    y = pd.get_dummies(train[['scenario','intent']],prefix=['scen','int'])\n",
        "    x_train,x_test,y_train,y_test = train_test_split(sequences,y,stratify=y,test_size=0.1)\n",
        "    y_train_scen = y_train[[el for el in y_train.columns if re.match('scen',el)]]\n",
        "    y_train_int = y_train[[el for el in y_train.columns if re.match('int',el)]]\n",
        "    y_train = [y_train_int,y_train_scen]\n",
        "    y_test_scen = y_test[[el for el in y_test.columns if re.match('scen',el)]]\n",
        "    y_test_int = y_test[[el for el in y_test.columns if re.match('int',el)]]\n",
        "    y_test = [y_test_int,y_test_scen]\n",
        "    output = {'train_set':[x_train,y_train],\n",
        "              'test_set':[x_test,y_test],\n",
        "             'pad_max_len':pad_max_len,\n",
        "             'voc_len':voc_len,\n",
        "             'vocabulary':vocabulary}\n",
        "    return output"
      ],
      "execution_count": null,
      "outputs": []
    },
    {
      "cell_type": "code",
      "metadata": {
        "id": "XdvCT8Nu15s0"
      },
      "source": [
        ""
      ],
      "execution_count": null,
      "outputs": []
    },
    {
      "cell_type": "code",
      "metadata": {
        "id": "J_u1lbtY3fts"
      },
      "source": [
        "trial = preprocessing_pipeline(train)"
      ],
      "execution_count": null,
      "outputs": []
    },
    {
      "cell_type": "code",
      "metadata": {
        "id": "Qpg4V8575HpD"
      },
      "source": [
        "y = pd.get_dummies(train[['scenario','intent']],prefix=['scen','int'])"
      ],
      "execution_count": null,
      "outputs": []
    },
    {
      "cell_type": "code",
      "metadata": {
        "id": "yiicvr-c6HIs"
      },
      "source": [
        "data = train.question.apply(word_tokenize)"
      ],
      "execution_count": null,
      "outputs": []
    },
    {
      "cell_type": "code",
      "metadata": {
        "id": "ZRBdOKsJ8f88"
      },
      "source": [
        "vocabulary = set([el for k in data for el in k ])"
      ],
      "execution_count": null,
      "outputs": []
    },
    {
      "cell_type": "code",
      "metadata": {
        "id": "sIH2wWpB852W",
        "colab": {
          "base_uri": "https://localhost:8080/"
        },
        "outputId": "1ca6bb55-82f7-4b15-b912-e27ad403d440"
      },
      "source": [
        "len(vocabulary)"
      ],
      "execution_count": null,
      "outputs": [
        {
          "output_type": "execute_result",
          "data": {
            "text/plain": [
              "6586"
            ]
          },
          "metadata": {
            "tags": []
          },
          "execution_count": 23
        }
      ]
    },
    {
      "cell_type": "code",
      "metadata": {
        "id": "uVVMMFBB9UHu"
      },
      "source": [
        "oh_data = train.question.apply(one_hot,args=[len(vocabulary)])"
      ],
      "execution_count": null,
      "outputs": []
    },
    {
      "cell_type": "code",
      "metadata": {
        "id": "Jy7WISrq_-fS",
        "colab": {
          "base_uri": "https://localhost:8080/"
        },
        "outputId": "ce01ef35-028c-4bcb-a785-508520345053"
      },
      "source": [
        "oh_data"
      ],
      "execution_count": null,
      "outputs": [
        {
          "output_type": "execute_result",
          "data": {
            "text/plain": [
              "0                      [910, 5521, 3548, 4342, 2158, 2355]\n",
              "1                                 [1912, 5386, 3833, 4675]\n",
              "2                           [1116, 1164, 6088, 1771, 4662]\n",
              "3                      [5859, 4816, 1775, 179, 3238, 3057]\n",
              "4        [1277, 1906, 4342, 3742, 6087, 2355, 5961, 657...\n",
              "                               ...                        \n",
              "14509                   [5521, 902, 247, 2683, 5386, 1845]\n",
              "14510     [2615, 1906, 4342, 2158, 2355, 6053, 2615, 1606]\n",
              "14511                  [1775, 5518, 117, 6530, 3098, 1291]\n",
              "14512                  [552, 2193, 5386, 1430, 2515, 2324]\n",
              "14513              [2169, 2515, 5024, 927, 5312, 105, 169]\n",
              "Name: question, Length: 14514, dtype: object"
            ]
          },
          "metadata": {
            "tags": []
          },
          "execution_count": 25
        }
      ]
    },
    {
      "cell_type": "code",
      "metadata": {
        "id": "yYTg4L8mWruu"
      },
      "source": [
        "pad_max_len=np.array([len(el) for el in data]).max()"
      ],
      "execution_count": null,
      "outputs": []
    },
    {
      "cell_type": "code",
      "metadata": {
        "id": "iLFMl3epXF9L"
      },
      "source": [
        "sequences = pad_sequences(oh_data.to_list(),pad_max_len,padding = 'post')"
      ],
      "execution_count": null,
      "outputs": []
    },
    {
      "cell_type": "code",
      "metadata": {
        "id": "NroveDMyXYbb",
        "colab": {
          "base_uri": "https://localhost:8080/"
        },
        "outputId": "2b5beca6-cd5e-449e-aaa6-193815ac0b05"
      },
      "source": [
        "sequences"
      ],
      "execution_count": null,
      "outputs": [
        {
          "output_type": "execute_result",
          "data": {
            "text/plain": [
              "array([[ 910, 5521, 3548, ...,    0,    0,    0],\n",
              "       [1912, 5386, 3833, ...,    0,    0,    0],\n",
              "       [1116, 1164, 6088, ...,    0,    0,    0],\n",
              "       ...,\n",
              "       [1775, 5518,  117, ...,    0,    0,    0],\n",
              "       [ 552, 2193, 5386, ...,    0,    0,    0],\n",
              "       [2169, 2515, 5024, ...,    0,    0,    0]], dtype=int32)"
            ]
          },
          "metadata": {
            "tags": []
          },
          "execution_count": 28
        }
      ]
    },
    {
      "cell_type": "code",
      "metadata": {
        "id": "jgJcr_uMYqDL"
      },
      "source": [
        "target = pd.get_dummies(train.intent)"
      ],
      "execution_count": null,
      "outputs": []
    },
    {
      "cell_type": "code",
      "metadata": {
        "id": "nR7tr93H7L7z"
      },
      "source": [
        "#model.add(GRU(512,return_sequences=True,dropout=0.4))\n",
        "#model.add(TimeDistributed(Dense(200, activation='sigmoid')))\n",
        "#model.add(GRU(256,return_sequences=True,dropout=0.2))\n",
        "#model.add(TimeDistributed(Dense(200, activation='sigmoid')))"
      ],
      "execution_count": null,
      "outputs": []
    },
    {
      "cell_type": "markdown",
      "metadata": {
        "id": "WkyJm4L4fpuh"
      },
      "source": [
        "### OLD ASKy"
      ]
    },
    {
      "cell_type": "code",
      "metadata": {
        "id": "jzL2hsKgfsNe"
      },
      "source": [
        "#model_old = Sequential()\n",
        "#model_old.add(Dense(180,input_shape=(49,),activation='relu'))\n",
        "#model_old.add(Dense(60,activation='relu'))\n",
        "#model_old.add(Dense(46,activation='softmax'))"
      ],
      "execution_count": null,
      "outputs": []
    },
    {
      "cell_type": "code",
      "metadata": {
        "id": "NFb1VjxtgHZW"
      },
      "source": [
        "#model_old.compile(optimizer=Adam(learning_rate=0.001,decay=1e-8,beta_1=0.95,beta_2=0.999),loss='categorical_crossentropy',metrics=['accuracy'])"
      ],
      "execution_count": null,
      "outputs": []
    },
    {
      "cell_type": "code",
      "metadata": {
        "id": "hzfLdH-OgWvX"
      },
      "source": [
        "#model_old.fit(sequences,target,epochs=500,validation_split=0.05,batch_size = 512)"
      ],
      "execution_count": null,
      "outputs": []
    },
    {
      "cell_type": "markdown",
      "metadata": {
        "id": "MEAa9kGigC0-"
      },
      "source": [
        "###New Asky"
      ]
    },
    {
      "cell_type": "code",
      "metadata": {
        "id": "im6sRAQI2o9l"
      },
      "source": [
        "def gru_layer(X_in,n_neurons=128,l1_reg = [0,0,0,0], l2_reg = [0.01,0.02,0.03,0.03],dropout = [0.4,0.4,0.6,0.6]):\n",
        "    X = Bidirectional(GRU(n_neurons, recurrent_regularizer=L1L2(l1=l1_reg[0],l2=l2_reg[0]), dropout=dropout[0], return_sequences=True),name='gru_1')(X_in)\n",
        "    #X = BatchNormalization()(X)\n",
        "    X = Bidirectional(GRU(n_neurons, recurrent_regularizer=L1L2(l1=l1_reg[1],l2=l2_reg[1]), dropout=dropout[1], return_sequences=True),name='gru_2')(X)\n",
        "    #X = BatchNormalization()(X)\n",
        "    X = Bidirectional(GRU(n_neurons, recurrent_regularizer=L1L2(l1=l1_reg[2],l2=l2_reg[2]), dropout=dropout[2], return_sequences=True),name='gru_3')(X)\n",
        "    #X = BatchNormalization()(X)\n",
        "    X = Bidirectional(GRU(n_neurons, recurrent_regularizer=L1L2(l1=l1_reg[3],l2=l2_reg[3]), dropout=dropout[3], return_sequences=True),name='gru_4')(X)\n",
        "    #X = BatchNormalization()(X)\n",
        "    return X\n",
        "def encoder_decoder(X_in,n_neurons=[256,64,256]):\n",
        "\n",
        "    X = Dense(n_neurons[0],kernel_initializer='VarianceScaling',activation=None)(X_in)\n",
        "    X = BatchNormalization()(X)\n",
        "    X = ReLU()(X) \n",
        "    X = Dense(n_neurons[1],kernel_initializer='VarianceScaling',activation=None)(X)\n",
        "    X = BatchNormalization()(X)\n",
        "    X = ReLU()(X)\n",
        "    X = Dense(n_neurons[2],kernel_initializer='VarianceScaling',activation=None)(X)\n",
        "    X = BatchNormalization()(X)\n",
        "    X = ReLU()(X)\n",
        "    X = Dropout(0.4)(X)\n",
        "    \n",
        "    return X\n",
        "\n",
        "def gru_head(X_in,n_classes,n_neurons = [128,64],dropout=[0.4,0.2],names='int'):\n",
        "    \n",
        "    X = Flatten()(X_in)\n",
        "    X = Dense(n_neurons[0],activation=None)(X)\n",
        "    X = BatchNormalization()(X)\n",
        "    X = ReLU()(X)\n",
        "    #X = Dropout(dropout[0])(X)\n",
        "    #X = Dense(n_neurons[1],  'relu',name='last_stage_'+names)(X)\n",
        "    X = Dropout(dropout[1])(X)\n",
        "    X = Dense(n_classes, 'softmax',name='classification_layer_'+names)(X)\n",
        "    return X\n",
        "\n",
        "def gru_model(input_shape,voc_len,emb_neurons=128,n_classes=49): #old model\n",
        "    X_input = Input(input_shape)\n",
        "    X = Embedding(voc_len, emb_neurons, input_length=input_shape)(X_input)\n",
        "    X1 = encoder_decoder(X)\n",
        "    #X_gru = gru_layer(X)\n",
        "    X_short = Embedding(voc_len, 256, input_length=input_shape)(X_input)\n",
        "    X_short = Conv1D(256,7,padding='causal')(X_short)\n",
        "    X_short = ReLU()(X_short)\n",
        "    X_short = Conv1D(128,5,padding='causal')(X_short)\n",
        "    X_short = ReLU()(X_short)\n",
        "    X_short = Conv1D(64,3,padding='causal')(X_short)\n",
        "    X_short = BatchNormalization()(X_short)\n",
        "    X_short = ReLU()(X_short)\n",
        "    #X = Add()([X,X_short])\n",
        "    \n",
        "    #X2 = encoder_decoder(X_gru)\n",
        "    X3 = encoder_decoder(X_short)\n",
        "    X4 = encoder_decoder(X1)\n",
        "    X = Concatenate()([X3,X_short]) # to readd X1,X4,X2,\n",
        "    X = Dropout(0.4)(X)\n",
        "    X = gru_head(X,n_classes)\n",
        "\n",
        "    return Model(inputs=X_input,outputs=X,name='gru_model')\n"
      ],
      "execution_count": null,
      "outputs": []
    },
    {
      "cell_type": "code",
      "metadata": {
        "id": "KLQWihwh3Wzl"
      },
      "source": [
        "def gru_layer(X_in,n_neurons=128,l1_reg = [0,0,0,0], l2_reg = [0.01,0.02,0.03,0.03],dropout = [0.4,0.4,0.6,0.6]):\n",
        "    X = Bidirectional(GRU(n_neurons, recurrent_regularizer=L1L2(l1=l1_reg[0],l2=l2_reg[0]), dropout=dropout[0], return_sequences=True),name='gru_1')(X_in)\n",
        "    #X = BatchNormalization()(X)\n",
        "    X = Bidirectional(GRU(n_neurons, recurrent_regularizer=L1L2(l1=l1_reg[1],l2=l2_reg[1]), dropout=dropout[1], return_sequences=True),name='gru_2')(X)\n",
        "    #X = BatchNormalization()(X)\n",
        "    X = Bidirectional(GRU(n_neurons, recurrent_regularizer=L1L2(l1=l1_reg[2],l2=l2_reg[2]), dropout=dropout[2], return_sequences=True),name='gru_3')(X)\n",
        "    #X = BatchNormalization()(X)\n",
        "    X = Bidirectional(GRU(n_neurons, recurrent_regularizer=L1L2(l1=l1_reg[3],l2=l2_reg[3]), dropout=dropout[3], return_sequences=True),name='gru_4')(X)\n",
        "    #X = BatchNormalization()(X)\n",
        "    return X\n",
        "def encoder_decoder(X_in,n_neurons=[256,64,256]):\n",
        "\n",
        "    X = Dense(n_neurons[0],kernel_initializer='VarianceScaling',activation=None)(X_in)\n",
        "    X = BatchNormalization()(X)\n",
        "    X = ReLU()(X) \n",
        "    X = Dense(n_neurons[1],kernel_initializer='VarianceScaling',activation=None)(X)\n",
        "    X = BatchNormalization()(X)\n",
        "    X = ReLU()(X)\n",
        "    X = Dense(n_neurons[2],kernel_initializer='VarianceScaling',activation=None)(X)\n",
        "    X = BatchNormalization()(X)\n",
        "    X = ReLU()(X)\n",
        "    X = Dropout(0.4)(X)\n",
        "    \n",
        "    return X\n",
        "\n",
        "def gru_head(X_in,n_classes,n_neurons = [128,64],dropout=[0.4,0.2],names='int'):\n",
        "    \n",
        "    X = Flatten()(X_in)\n",
        "    X = Dense(n_neurons[0],activation=None)(X)\n",
        "    X = BatchNormalization()(X)\n",
        "    X = ReLU()(X)\n",
        "    #X = Dropout(dropout[0])(X)\n",
        "    #X = Dense(n_neurons[1],  'relu',name='last_stage_'+names)(X)\n",
        "    X = Dropout(dropout[1])(X)\n",
        "    X = Dense(n_classes, 'softmax',name='classification_layer_'+names)(X)\n",
        "    return X\n",
        "\n",
        "def gru_model(vocab_data,voc_len,emb_neurons=128,n_classes=49): #old model\n",
        "    vect = VectorizationLayer()\n",
        "    vect.adapt(tf.data.Dataset.from_tensor_slices(list(set([k for el in vocab_data for k in el[0].split()]))))\n",
        "    X_input = Input(input_shape=(1,),dtype=tf.string)\n",
        "    X_input = vect.call(X_input)    \n",
        "    X = Embedding(voc_len, emb_neurons, input_length=input_shape)(X_input)\n",
        "    X1 = encoder_decoder(X)\n",
        "    #X_gru = gru_layer(X)\n",
        "    X_short = Embedding(voc_len, 256, input_length=input_shape)(X_input)\n",
        "    X_short = Conv1D(64,3,padding='causal')(X_short)\n",
        "    X_short = ReLU()(X_short)\n",
        "    X_short = Conv1D(128,5,padding='causal')(X_short)\n",
        "    X_short = ReLU()(X_short)\n",
        "    X_short = Conv1D(256,7,padding='causal')(X_short)\n",
        "    X_short = BatchNormalization()(X_short)\n",
        "    X_short = ReLU()(X_short)\n",
        "    #X = Add()([X,X_short])\n",
        "    \n",
        "    #X2 = encoder_decoder(X_gru)\n",
        "    X3 = encoder_decoder(X_short)\n",
        "    X4 = encoder_decoder(X1)\n",
        "    X = Concatenate()([X3,X_short]) # to readd X1,X4,X2,\n",
        "    X = Dropout(0.4)(X)\n",
        "    X = gru_head(X,n_classes)\n",
        "\n",
        "    return Model(inputs=X_input,outputs=X,name='gru_model')\n"
      ],
      "execution_count": null,
      "outputs": []
    },
    {
      "cell_type": "code",
      "metadata": {
        "id": "vSJxaxdyMKh4"
      },
      "source": [
        "def gru_layer(X_in,n_neurons=128,l1_reg = [0,0,0,0], l2_reg = [0.01,0.02,0.03,0.03],dropout = [0.4,0.4,0.6,0.6]):\n",
        "    X = Bidirectional(GRU(n_neurons, recurrent_regularizer=L1L2(l1=l1_reg[0],l2=l2_reg[0]), dropout=dropout[0], return_sequences=True),name='gru_1')(X_in)\n",
        "    #X = BatchNormalization()(X)\n",
        "    X = Bidirectional(GRU(n_neurons, recurrent_regularizer=L1L2(l1=l1_reg[1],l2=l2_reg[1]), dropout=dropout[1], return_sequences=True),name='gru_2')(X)\n",
        "    #X = BatchNormalization()(X)\n",
        "    X = Bidirectional(GRU(n_neurons, recurrent_regularizer=L1L2(l1=l1_reg[2],l2=l2_reg[2]), dropout=dropout[2], return_sequences=True),name='gru_3')(X)\n",
        "    #X = BatchNormalization()(X)\n",
        "    X = Bidirectional(GRU(n_neurons, recurrent_regularizer=L1L2(l1=l1_reg[3],l2=l2_reg[3]), dropout=dropout[3], return_sequences=True),name='gru_4')(X)\n",
        "    #X = BatchNormalization()(X)\n",
        "    return X\n",
        "def encoder_decoder(X_in,n_neurons=[256,64,256]):\n",
        "\n",
        "    X = Dense(n_neurons[0],kernel_initializer='VarianceScaling',activation=None)(X_in)\n",
        "    X = BatchNormalization()(X)\n",
        "    X = ReLU()(X) \n",
        "    X = Dense(n_neurons[1],kernel_initializer='VarianceScaling',activation=None)(X)\n",
        "    X = BatchNormalization()(X)\n",
        "    X = ReLU()(X)\n",
        "    X = Dense(n_neurons[2],kernel_initializer='VarianceScaling',activation=None)(X)\n",
        "    X = BatchNormalization()(X)\n",
        "    X = ReLU()(X)\n",
        "    X = Dropout(0.4)(X)\n",
        "    \n",
        "    return X\n",
        "\n",
        "def gru_head(X_in,n_classes,n_neurons = [128,64],dropout=[0.4,0.2],names='int'):\n",
        "    \n",
        "    X = Flatten()(X_in)\n",
        "    X = Dense(n_neurons[0],activation=None)(X)\n",
        "    X = BatchNormalization()(X)\n",
        "    X = ReLU()(X)\n",
        "    #X = Dropout(dropout[0])(X)\n",
        "    #X = Dense(n_neurons[1],  'relu',name='last_stage_'+names)(X)\n",
        "    X = Dropout(dropout[1])(X)\n",
        "    X = Dense(n_classes, 'softmax',name='classification_layer_'+names)(X)\n",
        "    return X\n",
        "\n",
        "def gru_model(vocab_data,seq_len,voc_len,emb_neurons=128,n_classes=49): #old model\n",
        "    X_input = Input((1,),dtype=tf.string)\n",
        "    X = VectorizationLayer()\n",
        "    X = Embedding(voc_len, emb_neurons, input_length=input_shape)(X_input)\n",
        "    X1 = encoder_decoder(X)\n",
        "    #X_gru = gru_layer(X)\n",
        "    X_short = Embedding(voc_len, 256, input_length=input_shape)(X_input)\n",
        "    X_short = Conv1D(256,7,padding='causal')(X_short)\n",
        "    X_short = ReLU()(X_short)\n",
        "    X_short = Conv1D(128,5,padding='causal')(X_short)\n",
        "    X_short = ReLU()(X_short)\n",
        "    X_short = Conv1D(64,3,padding='causal')(X_short)\n",
        "    X_short = BatchNormalization()(X_short)\n",
        "    X_short = ReLU()(X_short)\n",
        "    #X = Add()([X,X_short])\n",
        "    \n",
        "    #X2 = encoder_decoder(X_gru)\n",
        "    X3 = encoder_decoder(X_short)\n",
        "    X4 = encoder_decoder(X1)\n",
        "    X = Concatenate()([X3,X_short]) # to readd X1,X4,X2,\n",
        "    X = Dropout(0.4)(X)\n",
        "    X = gru_head(X,n_classes)\n",
        "\n",
        "    return Model(inputs=X_input,outputs=X,name='gru_model')\n"
      ],
      "execution_count": null,
      "outputs": []
    },
    {
      "cell_type": "code",
      "metadata": {
        "id": "8OTMI67rL_ba"
      },
      "source": [
        "def gru_model_2(input_shape,voc_len,emb_neurons=128,n_classes_int=49,n_classes_scen=18):\n",
        "    X_input = Input(input_shape)\n",
        "    X = Embedding(voc_len, emb_neurons, input_length=input_shape)(X_input)\n",
        "    #X1 = encoder_decoder(X)\n",
        "    #X_gru = gru_layer(X)\n",
        "    X_short = Embedding(voc_len, 256, input_length=input_shape)(X_input)\n",
        "    X_short = Conv1D(64,5,padding='causal')(X_short)\n",
        "    X_short = Conv1D(128,5,padding='causal')(X_short)\n",
        "    X_short = Conv1D(256,5,padding='causal')(X_short)\n",
        "    X = Add()([X,X_short])\n",
        "    \n",
        "    #X2 = encoder_decoder(X)\n",
        "    #X3 = encoder_decoder(X_short)\n",
        "    #X4 = encoder_decoder(X_input)\n",
        "    #X = Concatenate()([X,X2,X3,X_short])\n",
        "    X = Dropout(0.2)(X)\n",
        "    X_intent = gru_head(X,n_classes_int,names='int')\n",
        "    X_scenario = gru_head(X,n_classes_scen,names='scen')\n",
        "\n",
        "    return Model(inputs=X_input,outputs=[X_intent,X_scenario],name='gru_model')"
      ],
      "execution_count": null,
      "outputs": []
    },
    {
      "cell_type": "code",
      "metadata": {
        "id": "UK8EVaIjTpzc"
      },
      "source": [
        "def gru_model_3(input_shape,voc_len,emb_neurons=128,n_classes_int=46,n_classes_scen=18):\n",
        "    X_input = Input(input_shape)\n",
        "    K = Embedding(voc_len, emb_neurons)(X_input[1:])\n",
        "    Q = Embedding(voc_len, emb_neurons)(X_input)\n",
        "    X1 = encoder_decoder(X)\n",
        "    X_gru = gru_layer(X)\n",
        "    X_short = Embedding(voc_len, 256, input_length=input_shape)(X_input)\n",
        "    #X_short = Conv1D(64,5,padding='causal')(X_short)\n",
        "    #X_short = Conv1D(128,5,padding='causal')(X_short)\n",
        "    #X_short = Conv1D(256,5,padding='causal')(X_short)\n",
        "    #X = Add()([X,X_short])\n",
        "    \n",
        "    #X2 = encoder_decoder(X_gru)\n",
        "    X3 = encoder_decoder(X_short)\n",
        "    #X4 = encoder_decoder(X_input)\n",
        "    X = Concatenate()([X1,X3,X_short])\n",
        "    X = Dropout(0.2)(X)\n",
        "    X_intent = gru_head(X,n_classes_int)\n",
        "    X_scenario = gru_head(X,n_classes_scen)\n",
        "\n",
        "    return Model(inputs=X_input,outputs=X,name='gru_model')"
      ],
      "execution_count": null,
      "outputs": []
    },
    {
      "cell_type": "code",
      "metadata": {
        "id": "c1bqB9vkP8pV",
        "colab": {
          "base_uri": "https://localhost:8080/"
        },
        "outputId": "4c522261-a091-4c52-b541-544178971e3e"
      },
      "source": [
        "target_scen = pd.get_dummies(train.scenario)\n",
        "target.sum(axis=0)"
      ],
      "execution_count": null,
      "outputs": [
        {
          "output_type": "execute_result",
          "data": {
            "text/plain": [
              "addcontact           62\n",
              "audiobook           167\n",
              "cleaning            120\n",
              "coffee              139\n",
              "convert              68\n",
              "createoradd         206\n",
              "currency            265\n",
              "definition          353\n",
              "dislikeness          17\n",
              "events              225\n",
              "factoid             736\n",
              "game                164\n",
              "greet                17\n",
              "hue_lightchange     157\n",
              "hue_lightdim         88\n",
              "hue_lightoff        172\n",
              "hue_lighton          27\n",
              "hue_lightup          99\n",
              "joke                 85\n",
              "likeness            143\n",
              "locations           179\n",
              "maths               113\n",
              "movies               78\n",
              "music               841\n",
              "order               139\n",
              "podcasts            265\n",
              "post                379\n",
              "query              4166\n",
              "querycontact        155\n",
              "quirky              740\n",
              "radio               385\n",
              "recipe              289\n",
              "remove              689\n",
              "sendemail           482\n",
              "set                1213\n",
              "settings             56\n",
              "stock               189\n",
              "taxi                129\n",
              "ticket              167\n",
              "traffic             140\n",
              "volume_down          53\n",
              "volume_mute         114\n",
              "volume_other         17\n",
              "volume_up           101\n",
              "wemo_off             69\n",
              "wemo_on              56\n",
              "dtype: int64"
            ]
          },
          "metadata": {
            "tags": []
          },
          "execution_count": 38
        }
      ]
    },
    {
      "cell_type": "code",
      "metadata": {
        "id": "YjCvSMW2Xfhi",
        "colab": {
          "base_uri": "https://localhost:8080/"
        },
        "outputId": "013e36f1-8b32-4fa3-f5d8-04c13c98ec1b"
      },
      "source": [
        "len(vocabulary)"
      ],
      "execution_count": null,
      "outputs": [
        {
          "output_type": "execute_result",
          "data": {
            "text/plain": [
              "6586"
            ]
          },
          "metadata": {
            "tags": []
          },
          "execution_count": 39
        }
      ]
    },
    {
      "cell_type": "code",
      "metadata": {
        "id": "7Mb1kk_bfxSS"
      },
      "source": [
        "def scheduler(epoch, lr):\n",
        "    if lr < 0.0001:\n",
        "        lr = 0.001\n",
        "    if epoch < 20:\n",
        "        return lr\n",
        "    elif epoch < 100:\n",
        "        return lr * tf.math.exp(-0.01)\n",
        "    elif epoch < 150:\n",
        "        return lr * tf.math.exp(-0.02)\n",
        "    elif epoch < 250:\n",
        "        return lr * tf.math.exp(-0.03)\n",
        "    else:\n",
        "        return lr*tf.math.exp(-0.04)\n"
      ],
      "execution_count": null,
      "outputs": []
    },
    {
      "cell_type": "code",
      "metadata": {
        "id": "t6swoz4ZT0r-",
        "colab": {
          "base_uri": "https://localhost:8080/"
        },
        "outputId": "f9730671-619d-46ce-89e3-72f37d018141"
      },
      "source": [
        "np.arange(0,300)"
      ],
      "execution_count": null,
      "outputs": [
        {
          "output_type": "execute_result",
          "data": {
            "text/plain": [
              "array([  0,   1,   2,   3,   4,   5,   6,   7,   8,   9,  10,  11,  12,\n",
              "        13,  14,  15,  16,  17,  18,  19,  20,  21,  22,  23,  24,  25,\n",
              "        26,  27,  28,  29,  30,  31,  32,  33,  34,  35,  36,  37,  38,\n",
              "        39,  40,  41,  42,  43,  44,  45,  46,  47,  48,  49,  50,  51,\n",
              "        52,  53,  54,  55,  56,  57,  58,  59,  60,  61,  62,  63,  64,\n",
              "        65,  66,  67,  68,  69,  70,  71,  72,  73,  74,  75,  76,  77,\n",
              "        78,  79,  80,  81,  82,  83,  84,  85,  86,  87,  88,  89,  90,\n",
              "        91,  92,  93,  94,  95,  96,  97,  98,  99, 100, 101, 102, 103,\n",
              "       104, 105, 106, 107, 108, 109, 110, 111, 112, 113, 114, 115, 116,\n",
              "       117, 118, 119, 120, 121, 122, 123, 124, 125, 126, 127, 128, 129,\n",
              "       130, 131, 132, 133, 134, 135, 136, 137, 138, 139, 140, 141, 142,\n",
              "       143, 144, 145, 146, 147, 148, 149, 150, 151, 152, 153, 154, 155,\n",
              "       156, 157, 158, 159, 160, 161, 162, 163, 164, 165, 166, 167, 168,\n",
              "       169, 170, 171, 172, 173, 174, 175, 176, 177, 178, 179, 180, 181,\n",
              "       182, 183, 184, 185, 186, 187, 188, 189, 190, 191, 192, 193, 194,\n",
              "       195, 196, 197, 198, 199, 200, 201, 202, 203, 204, 205, 206, 207,\n",
              "       208, 209, 210, 211, 212, 213, 214, 215, 216, 217, 218, 219, 220,\n",
              "       221, 222, 223, 224, 225, 226, 227, 228, 229, 230, 231, 232, 233,\n",
              "       234, 235, 236, 237, 238, 239, 240, 241, 242, 243, 244, 245, 246,\n",
              "       247, 248, 249, 250, 251, 252, 253, 254, 255, 256, 257, 258, 259,\n",
              "       260, 261, 262, 263, 264, 265, 266, 267, 268, 269, 270, 271, 272,\n",
              "       273, 274, 275, 276, 277, 278, 279, 280, 281, 282, 283, 284, 285,\n",
              "       286, 287, 288, 289, 290, 291, 292, 293, 294, 295, 296, 297, 298,\n",
              "       299])"
            ]
          },
          "metadata": {
            "tags": []
          },
          "execution_count": 41
        }
      ]
    },
    {
      "cell_type": "code",
      "metadata": {
        "id": "n5GCyG4DTMW3",
        "colab": {
          "base_uri": "https://localhost:8080/",
          "height": 283
        },
        "outputId": "e8dc3438-b3e9-4300-fea1-338b2f916856"
      },
      "source": [
        "import matplotlib.pyplot as plt\n",
        "lr_data = []\n",
        "epochs = np.arange(0,300)\n",
        "lr = 0.001\n",
        "for epoch in epochs:\n",
        "    lr = scheduler(epoch,lr)\n",
        "    lr_data.append(lr)\n",
        "plt.plot(epochs,lr_data)"
      ],
      "execution_count": null,
      "outputs": [
        {
          "output_type": "execute_result",
          "data": {
            "text/plain": [
              "[<matplotlib.lines.Line2D at 0x7f3eb64404e0>]"
            ]
          },
          "metadata": {
            "tags": []
          },
          "execution_count": 42
        },
        {
          "output_type": "display_data",
          "data": {
            "image/png": "[encoded data removed]",
            "text/plain": [
              "<Figure size 432x288 with 1 Axes>"
            ]
          },
          "metadata": {
            "tags": [],
            "needs_background": "light"
          }
        }
      ]
    },
    {
      "cell_type": "code",
      "metadata": {
        "id": "Sv7J6FOLNC0c",
        "colab": {
          "base_uri": "https://localhost:8080/",
          "height": 391
        },
        "outputId": "c9f1fcf0-3138-498a-d799-df8d3be38ba8"
      },
      "source": [
        "# To be inserded: EarlyStopping(patience=10,min_delta=0.0001,restore_best_weights=True)\n",
        "callb = [History(),EarlyStopping(patience=10,min_delta=0.0001,restore_best_weights=True),LearningRateScheduler(scheduler,verbose=True)]\n",
        "\n",
        "model = gru_model_3(input_shape = sequences.shape[1],voc_len = len(vocabulary),n_classes_int=target.shape[1],n_classes_scen=target_scen.shape[1],emb_neurons=256)\n",
        "model.compile(optimizer=Adam(learning_rate=0.001,decay=1e-10,beta_1=0.9955,beta_2=0.9995),loss='categorical_crossentropy',metrics=['accuracy'])\n",
        "plot_model(model,show_shapes=True)"
      ],
      "execution_count": null,
      "outputs": [
        {
          "output_type": "error",
          "ename": "UnboundLocalError",
          "evalue": "ignored",
          "traceback": [
            "\u001b[0;31m---------------------------------------------------------------------------\u001b[0m",
            "\u001b[0;31mUnboundLocalError\u001b[0m                         Traceback (most recent call last)",
            "\u001b[0;32m<ipython-input-53-b601428e5309>\u001b[0m in \u001b[0;36m<module>\u001b[0;34m()\u001b[0m\n\u001b[1;32m      2\u001b[0m \u001b[0mcallb\u001b[0m \u001b[0;34m=\u001b[0m \u001b[0;34m[\u001b[0m\u001b[0mHistory\u001b[0m\u001b[0;34m(\u001b[0m\u001b[0;34m)\u001b[0m\u001b[0;34m,\u001b[0m\u001b[0mEarlyStopping\u001b[0m\u001b[0;34m(\u001b[0m\u001b[0mpatience\u001b[0m\u001b[0;34m=\u001b[0m\u001b[0;36m10\u001b[0m\u001b[0;34m,\u001b[0m\u001b[0mmin_delta\u001b[0m\u001b[0;34m=\u001b[0m\u001b[0;36m0.0001\u001b[0m\u001b[0;34m,\u001b[0m\u001b[0mrestore_best_weights\u001b[0m\u001b[0;34m=\u001b[0m\u001b[0;32mTrue\u001b[0m\u001b[0;34m)\u001b[0m\u001b[0;34m,\u001b[0m\u001b[0mLearningRateScheduler\u001b[0m\u001b[0;34m(\u001b[0m\u001b[0mscheduler\u001b[0m\u001b[0;34m,\u001b[0m\u001b[0mverbose\u001b[0m\u001b[0;34m=\u001b[0m\u001b[0;32mTrue\u001b[0m\u001b[0;34m)\u001b[0m\u001b[0;34m]\u001b[0m\u001b[0;34m\u001b[0m\u001b[0;34m\u001b[0m\u001b[0m\n\u001b[1;32m      3\u001b[0m \u001b[0;34m\u001b[0m\u001b[0m\n\u001b[0;32m----> 4\u001b[0;31m \u001b[0mmodel\u001b[0m \u001b[0;34m=\u001b[0m \u001b[0mgru_model_3\u001b[0m\u001b[0;34m(\u001b[0m\u001b[0minput_shape\u001b[0m \u001b[0;34m=\u001b[0m \u001b[0msequences\u001b[0m\u001b[0;34m.\u001b[0m\u001b[0mshape\u001b[0m\u001b[0;34m[\u001b[0m\u001b[0;36m1\u001b[0m\u001b[0;34m]\u001b[0m\u001b[0;34m,\u001b[0m\u001b[0mvoc_len\u001b[0m \u001b[0;34m=\u001b[0m \u001b[0mlen\u001b[0m\u001b[0;34m(\u001b[0m\u001b[0mvocabulary\u001b[0m\u001b[0;34m)\u001b[0m\u001b[0;34m,\u001b[0m\u001b[0mn_classes_int\u001b[0m\u001b[0;34m=\u001b[0m\u001b[0mtarget\u001b[0m\u001b[0;34m.\u001b[0m\u001b[0mshape\u001b[0m\u001b[0;34m[\u001b[0m\u001b[0;36m1\u001b[0m\u001b[0;34m]\u001b[0m\u001b[0;34m,\u001b[0m\u001b[0mn_classes_scen\u001b[0m\u001b[0;34m=\u001b[0m\u001b[0mtarget_scen\u001b[0m\u001b[0;34m.\u001b[0m\u001b[0mshape\u001b[0m\u001b[0;34m[\u001b[0m\u001b[0;36m1\u001b[0m\u001b[0;34m]\u001b[0m\u001b[0;34m,\u001b[0m\u001b[0memb_neurons\u001b[0m\u001b[0;34m=\u001b[0m\u001b[0;36m256\u001b[0m\u001b[0;34m)\u001b[0m\u001b[0;34m\u001b[0m\u001b[0;34m\u001b[0m\u001b[0m\n\u001b[0m\u001b[1;32m      5\u001b[0m \u001b[0mmodel\u001b[0m\u001b[0;34m.\u001b[0m\u001b[0mcompile\u001b[0m\u001b[0;34m(\u001b[0m\u001b[0moptimizer\u001b[0m\u001b[0;34m=\u001b[0m\u001b[0mAdam\u001b[0m\u001b[0;34m(\u001b[0m\u001b[0mlearning_rate\u001b[0m\u001b[0;34m=\u001b[0m\u001b[0;36m0.001\u001b[0m\u001b[0;34m,\u001b[0m\u001b[0mdecay\u001b[0m\u001b[0;34m=\u001b[0m\u001b[0;36m1e-10\u001b[0m\u001b[0;34m,\u001b[0m\u001b[0mbeta_1\u001b[0m\u001b[0;34m=\u001b[0m\u001b[0;36m0.9955\u001b[0m\u001b[0;34m,\u001b[0m\u001b[0mbeta_2\u001b[0m\u001b[0;34m=\u001b[0m\u001b[0;36m0.9995\u001b[0m\u001b[0;34m)\u001b[0m\u001b[0;34m,\u001b[0m\u001b[0mloss\u001b[0m\u001b[0;34m=\u001b[0m\u001b[0;34m'categorical_crossentropy'\u001b[0m\u001b[0;34m,\u001b[0m\u001b[0mmetrics\u001b[0m\u001b[0;34m=\u001b[0m\u001b[0;34m[\u001b[0m\u001b[0;34m'accuracy'\u001b[0m\u001b[0;34m]\u001b[0m\u001b[0;34m)\u001b[0m\u001b[0;34m\u001b[0m\u001b[0;34m\u001b[0m\u001b[0m\n\u001b[1;32m      6\u001b[0m \u001b[0mplot_model\u001b[0m\u001b[0;34m(\u001b[0m\u001b[0mmodel\u001b[0m\u001b[0;34m,\u001b[0m\u001b[0mshow_shapes\u001b[0m\u001b[0;34m=\u001b[0m\u001b[0;32mTrue\u001b[0m\u001b[0;34m)\u001b[0m\u001b[0;34m\u001b[0m\u001b[0;34m\u001b[0m\u001b[0m\n",
            "\u001b[0;32m<ipython-input-52-04975c6e211c>\u001b[0m in \u001b[0;36mgru_model_3\u001b[0;34m(input_shape, voc_len, emb_neurons, n_classes_int, n_classes_scen)\u001b[0m\n\u001b[1;32m      3\u001b[0m     \u001b[0mK\u001b[0m \u001b[0;34m=\u001b[0m \u001b[0mEmbedding\u001b[0m\u001b[0;34m(\u001b[0m\u001b[0mvoc_len\u001b[0m\u001b[0;34m,\u001b[0m \u001b[0memb_neurons\u001b[0m\u001b[0;34m)\u001b[0m\u001b[0;34m(\u001b[0m\u001b[0mX_input\u001b[0m\u001b[0;34m[\u001b[0m\u001b[0;36m1\u001b[0m\u001b[0;34m:\u001b[0m\u001b[0;34m]\u001b[0m\u001b[0;34m)\u001b[0m\u001b[0;34m\u001b[0m\u001b[0;34m\u001b[0m\u001b[0m\n\u001b[1;32m      4\u001b[0m     \u001b[0mQ\u001b[0m \u001b[0;34m=\u001b[0m \u001b[0mEmbedding\u001b[0m\u001b[0;34m(\u001b[0m\u001b[0mvoc_len\u001b[0m\u001b[0;34m,\u001b[0m \u001b[0memb_neurons\u001b[0m\u001b[0;34m)\u001b[0m\u001b[0;34m(\u001b[0m\u001b[0mX_input\u001b[0m\u001b[0;34m)\u001b[0m\u001b[0;34m\u001b[0m\u001b[0;34m\u001b[0m\u001b[0m\n\u001b[0;32m----> 5\u001b[0;31m     \u001b[0mX1\u001b[0m \u001b[0;34m=\u001b[0m \u001b[0mencoder_decoder\u001b[0m\u001b[0;34m(\u001b[0m\u001b[0mX\u001b[0m\u001b[0;34m)\u001b[0m\u001b[0;34m\u001b[0m\u001b[0;34m\u001b[0m\u001b[0m\n\u001b[0m\u001b[1;32m      6\u001b[0m     \u001b[0mX_gru\u001b[0m \u001b[0;34m=\u001b[0m \u001b[0mgru_layer\u001b[0m\u001b[0;34m(\u001b[0m\u001b[0mX\u001b[0m\u001b[0;34m)\u001b[0m\u001b[0;34m\u001b[0m\u001b[0;34m\u001b[0m\u001b[0m\n\u001b[1;32m      7\u001b[0m     \u001b[0mX_short\u001b[0m \u001b[0;34m=\u001b[0m \u001b[0mEmbedding\u001b[0m\u001b[0;34m(\u001b[0m\u001b[0mvoc_len\u001b[0m\u001b[0;34m,\u001b[0m \u001b[0;36m256\u001b[0m\u001b[0;34m,\u001b[0m \u001b[0minput_length\u001b[0m\u001b[0;34m=\u001b[0m\u001b[0minput_shape\u001b[0m\u001b[0;34m)\u001b[0m\u001b[0;34m(\u001b[0m\u001b[0mX_input\u001b[0m\u001b[0;34m)\u001b[0m\u001b[0;34m\u001b[0m\u001b[0;34m\u001b[0m\u001b[0m\n",
            "\u001b[0;31mUnboundLocalError\u001b[0m: local variable 'X' referenced before assignment"
          ]
        }
      ]
    },
    {
      "cell_type": "code",
      "metadata": {
        "id": "8e9JdxL-y4oF",
        "colab": {
          "base_uri": "https://localhost:8080/",
          "height": 17
        },
        "outputId": "b8c555e8-5a12-4ccc-8756-bdf78e3f659a"
      },
      "source": [
        "from google.colab import files\n",
        "files.download('model.png')"
      ],
      "execution_count": null,
      "outputs": [
        {
          "output_type": "display_data",
          "data": {
            "application/javascript": [
              "\n",
              "    async function download(id, filename, size) {\n",
              "      if (!google.colab.kernel.accessAllowed) {\n",
              "        return;\n",
              "      }\n",
              "      const div = document.createElement('div');\n",
              "      const label = document.createElement('label');\n",
              "      label.textContent = `Downloading \"${filename}\": `;\n",
              "      div.appendChild(label);\n",
              "      const progress = document.createElement('progress');\n",
              "      progress.max = size;\n",
              "      div.appendChild(progress);\n",
              "      document.body.appendChild(div);\n",
              "\n",
              "      const buffers = [];\n",
              "      let downloaded = 0;\n",
              "\n",
              "      const channel = await google.colab.kernel.comms.open(id);\n",
              "      // Send a message to notify the kernel that we're ready.\n",
              "      channel.send({})\n",
              "\n",
              "      for await (const message of channel.messages) {\n",
              "        // Send a message to notify the kernel that we're ready.\n",
              "        channel.send({})\n",
              "        if (message.buffers) {\n",
              "          for (const buffer of message.buffers) {\n",
              "            buffers.push(buffer);\n",
              "            downloaded += buffer.byteLength;\n",
              "            progress.value = downloaded;\n",
              "          }\n",
              "        }\n",
              "      }\n",
              "      const blob = new Blob(buffers, {type: 'application/binary'});\n",
              "      const a = document.createElement('a');\n",
              "      a.href = window.URL.createObjectURL(blob);\n",
              "      a.download = filename;\n",
              "      div.appendChild(a);\n",
              "      a.click();\n",
              "      div.remove();\n",
              "    }\n",
              "  "
            ],
            "text/plain": [
              "<IPython.core.display.Javascript object>"
            ]
          },
          "metadata": {
            "tags": []
          }
        },
        {
          "output_type": "display_data",
          "data": {
            "application/javascript": [
              "download(\"download_870fc325-da16-4365-b88a-70866d6c102b\", \"model.png\", 144394)"
            ],
            "text/plain": [
              "<IPython.core.display.Javascript object>"
            ]
          },
          "metadata": {
            "tags": []
          }
        }
      ]
    },
    {
      "cell_type": "code",
      "metadata": {
        "id": "gzk1nBsHaTIM",
        "cellView": "form",
        "colab": {
          "base_uri": "https://localhost:8080/"
        },
        "outputId": "6e7078ba-3ac4-4cce-9f4d-e03c8ce51e26"
      },
      "source": [
        "#@title Model Fit\n",
        "\n",
        "train_data = model.fit(sequences,[target,target_scen],epochs=300,validation_split=0.1,batch_size = 512,callbacks=callb,use_multiprocessing=True)"
      ],
      "execution_count": null,
      "outputs": [
        {
          "output_type": "stream",
          "text": [
            "Epoch 1/300\n",
            "\n",
            "Epoch 00001: LearningRateScheduler reducing learning rate to 0.0010000000474974513.\n",
            "26/26 [==============================] - 11s 107ms/step - loss: 5.3478 - classification_layer_int_loss: 3.1190 - classification_layer_scen_loss: 2.2288 - classification_layer_int_accuracy: 0.2743 - classification_layer_scen_accuracy: 0.3546 - val_loss: 5.3088 - val_classification_layer_int_loss: 3.0411 - val_classification_layer_scen_loss: 2.2677 - val_classification_layer_int_accuracy: 0.5627 - val_classification_layer_scen_accuracy: 0.6591\n",
            "Epoch 2/300\n",
            "\n",
            "Epoch 00002: LearningRateScheduler reducing learning rate to 0.0010000000474974513.\n",
            "26/26 [==============================] - 2s 64ms/step - loss: 2.2768 - classification_layer_int_loss: 1.4562 - classification_layer_scen_loss: 0.8206 - classification_layer_int_accuracy: 0.6446 - classification_layer_scen_accuracy: 0.7748 - val_loss: 3.7019 - val_classification_layer_int_loss: 2.2140 - val_classification_layer_scen_loss: 1.4879 - val_classification_layer_int_accuracy: 0.6371 - val_classification_layer_scen_accuracy: 0.7686\n",
            "Epoch 3/300\n",
            "\n",
            "Epoch 00003: LearningRateScheduler reducing learning rate to 0.0010000000474974513.\n",
            "26/26 [==============================] - 2s 63ms/step - loss: 1.5133 - classification_layer_int_loss: 0.9991 - classification_layer_scen_loss: 0.5142 - classification_layer_int_accuracy: 0.7520 - classification_layer_scen_accuracy: 0.8720 - val_loss: 2.4929 - val_classification_layer_int_loss: 1.5795 - val_classification_layer_scen_loss: 0.9135 - val_classification_layer_int_accuracy: 0.7121 - val_classification_layer_scen_accuracy: 0.8202\n",
            "Epoch 4/300\n",
            "\n",
            "Epoch 00004: LearningRateScheduler reducing learning rate to 0.0010000000474974513.\n",
            "26/26 [==============================] - 2s 63ms/step - loss: 1.0798 - classification_layer_int_loss: 0.7323 - classification_layer_scen_loss: 0.3475 - classification_layer_int_accuracy: 0.8140 - classification_layer_scen_accuracy: 0.9166 - val_loss: 1.7929 - val_classification_layer_int_loss: 1.1213 - val_classification_layer_scen_loss: 0.6717 - val_classification_layer_int_accuracy: 0.7534 - val_classification_layer_scen_accuracy: 0.8471\n",
            "Epoch 5/300\n",
            "\n",
            "Epoch 00005: LearningRateScheduler reducing learning rate to 0.0010000000474974513.\n",
            "26/26 [==============================] - 2s 62ms/step - loss: 0.7948 - classification_layer_int_loss: 0.5500 - classification_layer_scen_loss: 0.2447 - classification_layer_int_accuracy: 0.8644 - classification_layer_scen_accuracy: 0.9407 - val_loss: 1.4924 - val_classification_layer_int_loss: 0.9139 - val_classification_layer_scen_loss: 0.5785 - val_classification_layer_int_accuracy: 0.7755 - val_classification_layer_scen_accuracy: 0.8464\n",
            "Epoch 6/300\n",
            "\n",
            "Epoch 00006: LearningRateScheduler reducing learning rate to 0.0010000000474974513.\n",
            "26/26 [==============================] - 2s 64ms/step - loss: 0.5999 - classification_layer_int_loss: 0.4201 - classification_layer_scen_loss: 0.1798 - classification_layer_int_accuracy: 0.8985 - classification_layer_scen_accuracy: 0.9595 - val_loss: 1.3590 - val_classification_layer_int_loss: 0.7909 - val_classification_layer_scen_loss: 0.5681 - val_classification_layer_int_accuracy: 0.7893 - val_classification_layer_scen_accuracy: 0.8444\n",
            "Epoch 7/300\n",
            "\n",
            "Epoch 00007: LearningRateScheduler reducing learning rate to 0.0010000000474974513.\n",
            "26/26 [==============================] - 2s 64ms/step - loss: 0.4677 - classification_layer_int_loss: 0.3351 - classification_layer_scen_loss: 0.1326 - classification_layer_int_accuracy: 0.9188 - classification_layer_scen_accuracy: 0.9681 - val_loss: 1.3357 - val_classification_layer_int_loss: 0.7694 - val_classification_layer_scen_loss: 0.5663 - val_classification_layer_int_accuracy: 0.7975 - val_classification_layer_scen_accuracy: 0.8519\n",
            "Epoch 8/300\n",
            "\n",
            "Epoch 00008: LearningRateScheduler reducing learning rate to 0.0010000000474974513.\n",
            "26/26 [==============================] - 2s 64ms/step - loss: 0.3790 - classification_layer_int_loss: 0.2719 - classification_layer_scen_loss: 0.1071 - classification_layer_int_accuracy: 0.9444 - classification_layer_scen_accuracy: 0.9768 - val_loss: 1.3872 - val_classification_layer_int_loss: 0.7983 - val_classification_layer_scen_loss: 0.5889 - val_classification_layer_int_accuracy: 0.8037 - val_classification_layer_scen_accuracy: 0.8519\n",
            "Epoch 9/300\n",
            "\n",
            "Epoch 00009: LearningRateScheduler reducing learning rate to 0.0010000000474974513.\n",
            "26/26 [==============================] - 2s 64ms/step - loss: 0.2930 - classification_layer_int_loss: 0.2093 - classification_layer_scen_loss: 0.0837 - classification_layer_int_accuracy: 0.9553 - classification_layer_scen_accuracy: 0.9790 - val_loss: 1.4113 - val_classification_layer_int_loss: 0.8013 - val_classification_layer_scen_loss: 0.6100 - val_classification_layer_int_accuracy: 0.8023 - val_classification_layer_scen_accuracy: 0.8430\n",
            "Epoch 10/300\n",
            "\n",
            "Epoch 00010: LearningRateScheduler reducing learning rate to 0.0010000000474974513.\n",
            "26/26 [==============================] - 2s 65ms/step - loss: 0.2387 - classification_layer_int_loss: 0.1719 - classification_layer_scen_loss: 0.0668 - classification_layer_int_accuracy: 0.9630 - classification_layer_scen_accuracy: 0.9849 - val_loss: 1.4750 - val_classification_layer_int_loss: 0.8386 - val_classification_layer_scen_loss: 0.6363 - val_classification_layer_int_accuracy: 0.7906 - val_classification_layer_scen_accuracy: 0.8395\n",
            "Epoch 11/300\n",
            "\n",
            "Epoch 00011: LearningRateScheduler reducing learning rate to 0.0010000000474974513.\n",
            "26/26 [==============================] - 2s 64ms/step - loss: 0.2007 - classification_layer_int_loss: 0.1439 - classification_layer_scen_loss: 0.0567 - classification_layer_int_accuracy: 0.9703 - classification_layer_scen_accuracy: 0.9865 - val_loss: 1.5432 - val_classification_layer_int_loss: 0.8763 - val_classification_layer_scen_loss: 0.6669 - val_classification_layer_int_accuracy: 0.8003 - val_classification_layer_scen_accuracy: 0.8388\n",
            "Epoch 12/300\n",
            "\n",
            "Epoch 00012: LearningRateScheduler reducing learning rate to 0.0010000000474974513.\n",
            "26/26 [==============================] - 2s 66ms/step - loss: 0.1602 - classification_layer_int_loss: 0.1147 - classification_layer_scen_loss: 0.0455 - classification_layer_int_accuracy: 0.9758 - classification_layer_scen_accuracy: 0.9898 - val_loss: 1.5572 - val_classification_layer_int_loss: 0.8656 - val_classification_layer_scen_loss: 0.6916 - val_classification_layer_int_accuracy: 0.8037 - val_classification_layer_scen_accuracy: 0.8395\n",
            "Epoch 13/300\n",
            "\n",
            "Epoch 00013: LearningRateScheduler reducing learning rate to 0.0010000000474974513.\n",
            "26/26 [==============================] - 2s 66ms/step - loss: 0.1408 - classification_layer_int_loss: 0.1028 - classification_layer_scen_loss: 0.0380 - classification_layer_int_accuracy: 0.9765 - classification_layer_scen_accuracy: 0.9916 - val_loss: 1.5992 - val_classification_layer_int_loss: 0.8692 - val_classification_layer_scen_loss: 0.7300 - val_classification_layer_int_accuracy: 0.8051 - val_classification_layer_scen_accuracy: 0.8368\n",
            "Epoch 14/300\n",
            "\n",
            "Epoch 00014: LearningRateScheduler reducing learning rate to 0.0010000000474974513.\n",
            "26/26 [==============================] - 2s 65ms/step - loss: 0.1157 - classification_layer_int_loss: 0.0826 - classification_layer_scen_loss: 0.0331 - classification_layer_int_accuracy: 0.9830 - classification_layer_scen_accuracy: 0.9932 - val_loss: 1.6541 - val_classification_layer_int_loss: 0.8899 - val_classification_layer_scen_loss: 0.7641 - val_classification_layer_int_accuracy: 0.8092 - val_classification_layer_scen_accuracy: 0.8361\n",
            "Epoch 15/300\n",
            "\n",
            "Epoch 00015: LearningRateScheduler reducing learning rate to 0.0010000000474974513.\n",
            "26/26 [==============================] - 2s 65ms/step - loss: 0.0989 - classification_layer_int_loss: 0.0709 - classification_layer_scen_loss: 0.0280 - classification_layer_int_accuracy: 0.9839 - classification_layer_scen_accuracy: 0.9919 - val_loss: 1.7001 - val_classification_layer_int_loss: 0.9160 - val_classification_layer_scen_loss: 0.7841 - val_classification_layer_int_accuracy: 0.8037 - val_classification_layer_scen_accuracy: 0.8354\n",
            "Epoch 16/300\n",
            "\n",
            "Epoch 00016: LearningRateScheduler reducing learning rate to 0.0010000000474974513.\n",
            "26/26 [==============================] - 2s 66ms/step - loss: 0.0847 - classification_layer_int_loss: 0.0627 - classification_layer_scen_loss: 0.0220 - classification_layer_int_accuracy: 0.9856 - classification_layer_scen_accuracy: 0.9955 - val_loss: 1.7588 - val_classification_layer_int_loss: 0.9495 - val_classification_layer_scen_loss: 0.8093 - val_classification_layer_int_accuracy: 0.8017 - val_classification_layer_scen_accuracy: 0.8306\n",
            "Epoch 17/300\n",
            "\n",
            "Epoch 00017: LearningRateScheduler reducing learning rate to 0.0010000000474974513.\n",
            "26/26 [==============================] - 2s 66ms/step - loss: 0.0716 - classification_layer_int_loss: 0.0515 - classification_layer_scen_loss: 0.0201 - classification_layer_int_accuracy: 0.9886 - classification_layer_scen_accuracy: 0.9961 - val_loss: 1.8283 - val_classification_layer_int_loss: 0.9879 - val_classification_layer_scen_loss: 0.8404 - val_classification_layer_int_accuracy: 0.7982 - val_classification_layer_scen_accuracy: 0.8326\n"
          ],
          "name": "stdout"
        }
      ]
    },
    {
      "cell_type": "code",
      "metadata": {
        "id": "AZ3MH0PDacmn",
        "cellView": "form",
        "colab": {
          "base_uri": "https://localhost:8080/",
          "height": 563
        },
        "outputId": "46758ee1-0149-4075-ec21-a384c7dbafe0"
      },
      "source": [
        "#@title Dataframe creation and plotting\n",
        "tr_df = pd.DataFrame(train_data.history)\n",
        "tr_df[['loss','classification_layer_int_loss','classification_layer_scen_loss','val_loss','val_classification_layer_int_loss','val_classification_layer_scen_loss']].plot(title='losses')\n",
        "tr_df[['classification_layer_int_accuracy','classification_layer_scen_accuracy','val_classification_layer_int_accuracy','val_classification_layer_scen_accuracy']].plot(title='accuracy')"
      ],
      "execution_count": null,
      "outputs": [
        {
          "output_type": "execute_result",
          "data": {
            "text/plain": [
              "<matplotlib.axes._subplots.AxesSubplot at 0x7f3ec0957160>"
            ]
          },
          "metadata": {
            "tags": []
          },
          "execution_count": 46
        },
        {
          "output_type": "display_data",
          "data": {
            "image/png": "[encoded data removed]",
            "text/plain": [
              "<Figure size 432x288 with 1 Axes>"
            ]
          },
          "metadata": {
            "tags": [],
            "needs_background": "light"
          }
        },
        {
          "output_type": "display_data",
          "data": {
            "image/png": "[encoded data removed]",
            "text/plain": [
              "<Figure size 432x288 with 1 Axes>"
            ]
          },
          "metadata": {
            "tags": [],
            "needs_background": "light"
          }
        }
      ]
    },
    {
      "cell_type": "code",
      "metadata": {
        "colab": {
          "base_uri": "https://localhost:8080/"
        },
        "id": "-nK4s-mFAXiA",
        "outputId": "9c373c41-0ee8-4727-bc94-579dbe3404ed"
      },
      "source": [
        "tf.math.exp(-12.0)"
      ],
      "execution_count": null,
      "outputs": [
        {
          "output_type": "execute_result",
          "data": {
            "text/plain": [
              "<tf.Tensor: shape=(), dtype=float32, numpy=6.1442124e-06>"
            ]
          },
          "metadata": {
            "tags": []
          },
          "execution_count": 47
        }
      ]
    },
    {
      "cell_type": "markdown",
      "metadata": {
        "id": "I4PkEfLqAUtQ"
      },
      "source": [
        ""
      ]
    },
    {
      "cell_type": "markdown",
      "metadata": {
        "id": "4S6ecOgwsJv5"
      },
      "source": [
        "## Class Trial"
      ]
    },
    {
      "cell_type": "code",
      "metadata": {
        "id": "rJpomtCyWQ2z",
        "cellView": "form"
      },
      "source": [
        "#@title Old GRU Model\n",
        "# class GruModel():\n",
        "\n",
        "#     @staticmethod\n",
        "#     def scheduler(epoch, lr):\n",
        "#         if lr < 0.0001:\n",
        "#             lr = 0.001\n",
        "#         if epoch < 20:\n",
        "#             return lr\n",
        "#         elif epoch < 100:\n",
        "#             return lr * tf.math.exp(-0.1)\n",
        "#         elif epoch < 150:\n",
        "#             return lr * tf.math.exp(-0.2)\n",
        "#         elif epoch < 250:\n",
        "#             return lr * tf.math.exp(-0.3)\n",
        "#         else:\n",
        "#             return lr*tf.math.exp(-0.4)\n",
        "    \n",
        "#     @staticmethod\n",
        "#     def schedule_plotter(lr):\n",
        "#         import matplotlib.pyplot as plt\n",
        "#         lr_data = []\n",
        "#         epochs = np.arange(0,300)\n",
        "        \n",
        "#         for epoch in epochs:\n",
        "#             lr = scheduler(epoch,lr)\n",
        "#             lr_data.append(lr)\n",
        "#         plt.figure()\n",
        "#         plt.plot(epochs,lr_data)\n",
        "#         plt.title(\"Learning Rate Schedule Simulation\")\n",
        "#         plt.xlabel(\"Epochs\")\n",
        "#         plt.ylabel(\"Learning rate\")\n",
        "#         plt.show()\n",
        "    \n",
        "#     @classmethod\n",
        "#     def preprocessor(cls,vocab_list,max_features,max_len):\n",
        "#         text_dataset = tf.data.Dataset.from_tensor_slices(vocab_list)\n",
        "\n",
        "#         # Create the layer.\n",
        "#         vectorize_layer = layers.experimental.preprocessing.TextVectorization(\n",
        "#         max_tokens=max_features,\n",
        "#         output_mode='int',\n",
        "#         output_sequence_length=max_len,\n",
        "#         standardize=None) #standardize none funziona!\n",
        "\n",
        "#         # Now that the vocab layer has been created, call `adapt` on the text-only\n",
        "#         # dataset to create the vocabulary. You don't have to batch, but for large\n",
        "#         # datasets this means we're not keeping spare copies of the dataset.\n",
        "#         vectorize_layer.adapt(text_dataset.batch(64)) #alternativamente vectorize_layer.adapt(text_dataset)\n",
        "\n",
        "#         # Create the model that uses the vectorize text layer\n",
        "#         #model = tf.keras.models.Sequential()\n",
        "\n",
        "#         # Start by creating an explicit input layer. It needs to have a shape of\n",
        "#         # (1,) (because we need to guarantee that there is exactly one string\n",
        "#         # input per batch), and the dtype needs to be 'string'.\n",
        "#         X_in = tf.keras.Input(shape=(1,), dtype=tf.string)\n",
        "\n",
        "#         # The first layer in our model is the vectorization layer. After this\n",
        "#         # layer, we have a tensor of shape (batch_size, max_len) containing vocab\n",
        "#         # indices.\n",
        "#         X = vectorize_layer(X_in)\n",
        "#         #model.add(Embedding(max_features,max_len))\n",
        "\n",
        "#         # Now, the model can map strings to integers, and you can add an embedding\n",
        "#         # layer to map these integers to learned embeddings.\n",
        "#         return X\n",
        "        \n",
        "\n",
        "#     @classmethod\n",
        "#     def gru_layer(cls,X_in, n_neurons=128, l1_reg=[0, 0, 0, 0], l2_reg=[0.01, 0.02, 0.03, 0.03],\n",
        "#                   dropout=[0.4, 0.4, 0.6, 0.6]):\n",
        "#         X = Bidirectional(GRU(n_neurons, recurrent_regularizer=L1L2(l1=l1_reg[0], l2=l2_reg[0]), dropout=dropout[0],\n",
        "#                               return_sequences=True), name='gru_1')(X_in)\n",
        "#         # X = BatchNormalization()(X)\n",
        "#         X = Bidirectional(GRU(n_neurons, recurrent_regularizer=L1L2(l1=l1_reg[1], l2=l2_reg[1]), dropout=dropout[1],\n",
        "#                               return_sequences=True), name='gru_2')(X)\n",
        "#         # X = BatchNormalization()(X)\n",
        "#         X = Bidirectional(GRU(n_neurons, recurrent_regularizer=L1L2(l1=l1_reg[2], l2=l2_reg[2]), dropout=dropout[2],\n",
        "#                               return_sequences=True), name='gru_3')(X)\n",
        "#         # X = BatchNormalization()(X)\n",
        "#         X = Bidirectional(GRU(n_neurons, recurrent_regularizer=L1L2(l1=l1_reg[3], l2=l2_reg[3]), dropout=dropout[3]),\n",
        "#                           name='gru_4')(X)\n",
        "#         # X = BatchNormalization()(X)\n",
        "#         return X\n",
        "#     @classmethod\n",
        "#     def encoder_decoder(cls,X_in, n_neurons=[256, 64, 256]):\n",
        "\n",
        "#         X = Dense(n_neurons[0], kernel_initializer='VarianceScaling', activation=None)(X_in)\n",
        "#         X = BatchNormalization()(X)\n",
        "#         X = ReLU()(X)\n",
        "#         X = Dense(n_neurons[1], kernel_initializer='VarianceScaling', activation=None)(X)\n",
        "#         X = BatchNormalization()(X)\n",
        "#         X = ReLU()(X)\n",
        "#         X = Dense(n_neurons[2], kernel_initializer='VarianceScaling', activation=None)(X)\n",
        "#         X = BatchNormalization()(X)\n",
        "#         X = ReLU()(X)\n",
        "#         X = Dropout(0.4)(X)\n",
        "\n",
        "#         return X\n",
        "#     @classmethod\n",
        "#     def gru_head(cls,X_in, n_classes, n_neurons=[128, 64], dropout=[0.4, 0.2],name_custom = 'int'):\n",
        "\n",
        "#         #X = Flatten()(X_in)\n",
        "#         X = Dense(n_neurons[0], activation=None)(X)\n",
        "#         X = BatchNormalization()(X)\n",
        "#         X = ReLU()(X)\n",
        "#         X = Dropout(dropout[0])(X)\n",
        "#         X = Dense(n_neurons[1], 'relu', name='last_stage_'+name_custom)(X)\n",
        "#         X = Dropout(dropout[1])(X)\n",
        "#         X = Dense(n_classes, 'softmax', name='classification_layer_'+name_custom)(X)\n",
        "#         return X\n",
        "#     @classmethod\n",
        "#     def gru_model(cls,input_shape, voc_len, emb_neurons=128, n_classes_int=49,n_classes_scen=19):\n",
        "#         X_input = Input(input_shape)\n",
        "#         X = Embedding(voc_len, emb_neurons, input_length=input_shape)(X_input)\n",
        "#         X1 = encoder_decoder(X)\n",
        "#         X_gru = gru_layer(X)\n",
        "#         X_short = Embedding(voc_len, 256, input_length=input_shape)(X_input)\n",
        "#         X_short = Conv1D(64,5,padding='causal',activation='relu')(X_short)\n",
        "#         X_short = Conv1D(128,5,padding='causal',activation='relu')(X_short)\n",
        "#         X_short = Conv1D(256,5,padding='causal',activation='relu')(X_short)\n",
        "#         X = Concatenate()([X,X_short])\n",
        "#         X = Dropout(0.6)(X) #last added\n",
        "#         X2 = encoder_decoder(X_gru)\n",
        "#         X3 = encoder_decoder(X_short)\n",
        "#         #X4 = encoder_decoder(X_input)\n",
        "#         X = Concatenate()([X,X1,X2,X3,X_short])\n",
        "#         X = Dropout(0.6)(X) # last modified: dropout augmented to 0.6 from 0.2\n",
        "#         X_intent = gru_head(X,n_classes_int,names='int')\n",
        "#         X_scenario = gru_head(X,n_classes_scen,names='scen')\n",
        "\n",
        "#         return Model(inputs=X_input,outputs=[X_intent,X_scenario],name='gru_model')"
      ],
      "execution_count": null,
      "outputs": []
    },
    {
      "cell_type": "markdown",
      "metadata": {
        "id": "dDim5AY-fXv-"
      },
      "source": [
        "### skip that, fix later\n",
        "\n",
        "Preprocessing:\n",
        "\n",
        "- Tensorflow keras tokenizer (documentation)[https://www.tensorflow.org/api_docs/python/tf/keras/preprocessing/text/Tokenizer]\n",
        "\n",
        "Model improvements:\n",
        "\n",
        "- Attention models ([tf_tutorial](https://www.tensorflow.org/tutorials/text/nmt_with_attention))\n",
        "\n",
        "- Transformer models ([tf_tutorial](https://www.tensorflow.org/tutorials/text/transformer))\n",
        "\n",
        "- Transformer chatbot ([tf_tutorial](https://blog.tensorflow.org/2019/05/transformer-chatbot-tutorial-with-tensorflow-2.html))"
      ]
    },
    {
      "cell_type": "code",
      "metadata": {
        "id": "IQ9gy7_sYIRq"
      },
      "source": [
        "#class data_preprocess_alt():\n",
        "#\n",
        "#    def __init__(self,filename=None,text_col='question',json=False,sep=';'):\n",
        "#        \n",
        "#        if filename:\n",
        "#            self.sep = sep\n",
        "#            self.filename = filename\n",
        "#            self.json = json\n",
        "#\n",
        "#            if json:\n",
        "#                json_data = json.loads(self.filename)\n",
        "#                self.train = pd.DataFrame(json_data)\n",
        "#\n",
        "#            else:\n",
        "#\n",
        "#                self.train = pd.read_csv(filename,sep=sep)\n",
        "#        \n",
        "#    \n",
        "#    def normalize_sentence(self,sentence):\n",
        "#        sentence = sentence.lower().strip()\n",
        "#        \n",
        "#        sentence = re.sub(r\"([?.!,])\", r\" \\1 \", sentence)\n",
        "#        sentence = re.sub(r'[\" \"]+', \" \", sentence)\n",
        "#        \n",
        "#        sentence = re.sub(r\"[^a-zA-Z?.!,:]+\", \" \", sentence)\n",
        "#        sentence = sentence.strip()\n",
        "#\n",
        "#        return sentence\n",
        "#\n",
        "#    def tokenize_sentence(self,corpus,tgt_vocab_size=6400):                                          # A tgt_vocab_size diamo un valore arbitrario, in realtà. Però da problemi così nell'embeddings...\n",
        "#        tokenizer = tfds.features.text.SubwordTextEncoder.build_from_corpus(                            # Funziona sulle serie solo! Attenzione!\n",
        "#                                                            corpus, target_vocab_size=tgt_vocab_size) \n",
        "#                                                        \n",
        "#\n",
        "#        # Definiamo start e fine di una frase\n",
        "#        START_TOKEN, END_TOKEN = [tokenizer.vocab_size], [tokenizer.vocab_size + 1]\n",
        "#\n",
        "#        # size del vocabolario, piu' token di inizio e fine.\n",
        "#        VOCAB_SIZE = tokenizer.vocab_size + 2\n",
        "#\n",
        "#        return {'start_token':START_TOKEN,'end_token':END_TOKEN,'vocab_size':VOCAB_SIZE,'tokenizer':tokenizer}\n",
        "#\n",
        "#    def tokenize_and_filter(self,inputs,max_length=49,tgt_vocab_size=6400,tokenizer=None):\n",
        "#        tokenized_inputs = []\n",
        "#\n",
        "#        if not tokenizer:\n",
        "#            tokenize_Sentence = self.tokenize_sentence(inputs,tgt_vocab_size)\n",
        "#            tokenizer = tokenize_Sentence['tokenizer']\n",
        "#            START_TOKEN = tokenize_Sentence['start_token']\n",
        "#            END_TOKEN = tokenize_Sentence['end_token']\n",
        "#        else:\n",
        "#            START_TOKEN, END_TOKEN = [tokenizer.vocab_size], [tokenizer.vocab_size + 1]\n",
        "#            \n",
        "#        if not max_length:\n",
        "#            print(\"max_len is: %d\"%(np.array([len(el) for el in data]).max()))\n",
        "#            MAX_LENGTH = np.array([len(el) for el in data]).max()# per avere max len devo prima ottenere la tokenization dei dati. Steps: 1) preprocess_sentence 2) \n",
        "#        else:\n",
        "#            MAX_LENGTH = max_length\n",
        "#        for sentence1 in inputs:\n",
        "#            \n",
        "#            sentence1 = START_TOKEN + tokenizer.encode(sentence1) + END_TOKEN\n",
        "#            \n",
        "#            \n",
        "#            #if len(sentence1) <= MAX_LENGTH:\n",
        "#            tokenized_inputs.append(sentence1) # da approfondire perchè taglia il dataset...\n",
        "#            \n",
        "#        \n",
        "#        # pad tokenized sentences\n",
        "#        tokenized_inputs = pad_sequences(\n",
        "#            tokenized_inputs, maxlen=MAX_LENGTH, padding='post')\n",
        "#        # Da aggiungere possibilita' di avere tokenizer a parte. Quindi, con ciclo if: se flag, allora solo tokenized_inputs, altrimenti anche tokenize_sentence\n",
        "#        return tokenized_inputs, tokenizer\n",
        "#\n",
        "#    def preprocess_df(self,text_col='question'):\n",
        "#        data = self.train[text_col].apply(self.normalize_sentence)\n",
        "#        tokenized_data,tokenizer = self.tokenize_and_filter(data)\n",
        "#        max_voc = tokenized_data.max()\n",
        "#        return [tokenized_data,tokenizer,max_voc]\n",
        "#        \n",
        "#    def train_preprocessing_pipeline(self,test_size=0.1,regex_match=['scen','int']):\n",
        "#\n",
        "#        data,tokenizer,max_voc = self.preprocess_df()\n",
        "#        y = pd.get_dummies(self.train[['scenario', 'intent']], prefix=['scen', 'int'])\n",
        "#        x_train, x_test, y_train, y_test = train_test_split(data, y, stratify=y, test_size=test_size)\n",
        "#        y_train_scen = y_train[[el for el in y_train.columns if re.match(regex_match[0], el)]]\n",
        "#        y_train_int = y_train[[el for el in y_train.columns if re.match(regex_match[1], el)]]\n",
        "#        y_train = [y_train_int, y_train_scen]\n",
        "#        y_test_scen = y_test[[el for el in y_test.columns if re.match(regex_match[0], el)]]\n",
        "#        y_test_int = y_test[[el for el in y_test.columns if re.match(regex_match[1], el)]]\n",
        "#        y_test = [y_test_int, y_test_scen]\n",
        "#        output = {\n",
        "#            'train_set': [x_train, y_train],\n",
        "#            'test_set':  [x_test, y_test],\n",
        "#                  }\n",
        "#        return [tokenizer,output,max_voc]"
      ],
      "execution_count": null,
      "outputs": []
    },
    {
      "cell_type": "code",
      "metadata": {
        "id": "Uct7fE-ksI1y"
      },
      "source": [
        "#grumodel = GruModel()\n",
        "#display(grumodel.schedule_plotter(0.001))\n",
        "#callb = [History(),EarlyStopping(patience=5,min_delta=0.0001,restore_best_weights=True,monitor='val_loss'),LearningRateScheduler(grumodel.scheduler,verbose=True)]\n",
        "#\n",
        "#model = grumodel.gru_model(input_shape = lot_data['train_set'][0].shape[1],voc_len = tokenizer.vocab_size+2,n_classes_int=target.shape[1],n_classes_scen=target_scen.shape[1],emb_neurons=256)\n",
        "#model.compile(optimizer=Adam(learning_rate=0.003,decay=1e-10,beta_1=0.9955,beta_2=0.9995),loss='categorical_crossentropy',metrics=['accuracy'])\n",
        "#plot_model(model,show_shapes=True)\n",
        "#train_data = model.fit(lot_data['train_set'][0],lot_data['train_set'][1],epochs=300,validation_data=(lot_data['test_set'][0],lot_data['test_set'][1]),batch_size = 512,callbacks=callb,use_multiprocessing=True)\n",
        "#\n",
        "#tr_df = pd.DataFrame(train_data.history)\n",
        "#display(tr_df[['loss','classification_layer_int_loss','classification_layer_scen_loss','val_loss','val_classification_layer_int_loss','val_classification_layer_scen_loss']].plot(title='losses'))\n",
        "#display(tr_df[['classification_layer_int_accuracy','classification_layer_scen_accuracy','val_classification_layer_int_accuracy','val_classification_layer_scen_accuracy']].plot(title='accuracy'))"
      ],
      "execution_count": null,
      "outputs": []
    },
    {
      "cell_type": "code",
      "metadata": {
        "id": "clt8JW3Q9YAj"
      },
      "source": [
        "#tokenizer, lot_data,max_voc = elements2.train_preprocessing_pipeline() #nota: tokenizer.voc_size non tiene conto dei punti di ingresso e di uscita dei tokenizer. Quindi va rivisto.\n",
        "#elements.sequences.shape[0]"
      ],
      "execution_count": null,
      "outputs": []
    },
    {
      "cell_type": "code",
      "metadata": {
        "id": "Uzztoc_9pJ5O"
      },
      "source": [
        "#lot_data['train_set'][0]"
      ],
      "execution_count": null,
      "outputs": []
    },
    {
      "cell_type": "code",
      "metadata": {
        "id": "mPWXig9_0dF5"
      },
      "source": [
        "#import tensorflow.keras.backend as K\n",
        "#def customLoss(true_matrix, alpha = 0.5, beta = 0.5): #prova\n",
        "#    def combined_loss(y_true,y_pred):\n",
        "#        y_pred, pred_matrix = y_pred\n",
        "#        a = K.mean( K.square(y_pred - y_true) * K.exp(-K.log(1.7) * (K.log(1. + K.exp((y_true - 3)/5 )))),axis=-1  )\n",
        "#        b = K.mean( K.square(pred_matrix - true_matrix) * K.exp(-K.log(1.7) * (K.log(1. + K.exp((true_matrix - 3)/5 )))),axis=-1)\n",
        "#        loss1, loss2 = K.abs(y_true-y_pred), a+b\n",
        "#        return alpha*loss1 + beta*loss2 \n",
        "#    return combined_loss"
      ],
      "execution_count": null,
      "outputs": []
    },
    {
      "cell_type": "markdown",
      "metadata": {
        "id": "ZgsbZh_ifbVt"
      },
      "source": [
        "### from here!"
      ]
    },
    {
      "cell_type": "code",
      "metadata": {
        "id": "CHEU4rfzJylN"
      },
      "source": [
        "class GruModel_orig():\n",
        "\n",
        "    def scheduler(self,epoch, lr):\n",
        "        if lr < 0.0001:\n",
        "            lr = 0.001\n",
        "        if epoch < 5:\n",
        "            return lr*tf.math.exp(0.09855555)\n",
        "        elif epoch < 100:\n",
        "            return lr * tf.math.exp(-0.01)\n",
        "        elif epoch < 150:\n",
        "            return lr * tf.math.exp(-0.02)\n",
        "        elif epoch < 250:\n",
        "            return lr * tf.math.exp(-0.03)\n",
        "        else:\n",
        "            return lr*tf.math.exp(-0.04)\n",
        "    \n",
        "    def schedule_plotter(self,lr):\n",
        "        import matplotlib.pyplot as plt\n",
        "        lr_data = []\n",
        "        epochs = np.arange(0,300)\n",
        "        \n",
        "        for epoch in epochs:\n",
        "            lr = self.scheduler(epoch,lr)\n",
        "            lr_data.append(lr)\n",
        "        plt.figure()\n",
        "        plt.plot(epochs,lr_data)\n",
        "        plt.title(\"Learning Rate Schedule Simulation\")\n",
        "        plt.xlabel(\"Epochs\")\n",
        "        plt.ylabel(\"Learning rate\")\n",
        "        plt.show()\n",
        "    \n",
        "       \n",
        "    def gru_layer(self,X_in,n_neurons=128,l1_reg = [0,0,0,0], l2_reg = [0.01,0.02,0.03,0.03],dropout = [0.4,0.4,0.6,0.6],name_cust='orig'):\n",
        "        X = Bidirectional(GRU(n_neurons, recurrent_regularizer=L1L2(l1=l1_reg[0],l2=l2_reg[0]), dropout=dropout[0], return_sequences=True,activity_regularizer=L1L2(l2=0.006)),name='gru_1_'+name_cust)(X_in)\n",
        "        Dropout(0.2)(X)\n",
        "        #X = BatchNormalization()(X)\n",
        "        X = Bidirectional(GRU(n_neurons, recurrent_regularizer=L1L2(l1=l1_reg[1],l2=l2_reg[1]), dropout=dropout[1], return_sequences=True,activity_regularizer=L1L2(l2=0.001)),name='gru_2_'+name_cust)(X)\n",
        "        Dropout(0.2)(X)\n",
        "        #X = BatchNormalization()(X)\n",
        "        X = Bidirectional(GRU(n_neurons, recurrent_regularizer=L1L2(l1=l1_reg[1],l2=l2_reg[1]), dropout=dropout[1], return_sequences=False,activity_regularizer=L1L2(l2=0.001)),name='gru_3_'+name_cust)(X)\n",
        "        Dropout(0.2)(X)        \n",
        "        return X\n",
        "   \n",
        "    def encoder_decoder(self,X_in,n_neurons=[256,64,256]):\n",
        "\n",
        "        X = Dense(n_neurons[0],kernel_initializer='VarianceScaling',activation=None,activity_regularizer=L1L2(l2=0.0003))(X_in)\n",
        "        X = BatchNormalization()(X)\n",
        "        X = ReLU()(X) \n",
        "        X = Dense(n_neurons[1],kernel_initializer='VarianceScaling',activation=None,activity_regularizer=L1L2(l2=0.0003))(X)\n",
        "        X = BatchNormalization()(X)\n",
        "        X = ReLU()(X)\n",
        "        X = Dense(n_neurons[2],kernel_initializer='VarianceScaling',activation=None,activity_regularizer=L1L2(l2=0.0003))(X)\n",
        "        X = BatchNormalization()(X)\n",
        "        X = ReLU()(X)\n",
        "        X = Dropout(0.4)(X)\n",
        "        \n",
        "        return X\n",
        "        \n",
        "    def gru_head(self,X_in,n_classes,n_neurons = [128,64],dropout=[0.4,0.2],names='int'):\n",
        "        \n",
        "        X = Flatten()(X_in)\n",
        "        X = Dense(n_neurons[0],activation=None)(X)\n",
        "        X = BatchNormalization()(X)\n",
        "        X = ReLU()(X)\n",
        "        #X = Dropout(dropout[0])(X)\n",
        "        #X = Dense(n_neurons[1],  'relu',name='last_stage_'+names)(X)\n",
        "        X = Dropout(dropout[1])(X)\n",
        "        X = Dense(n_classes, 'softmax',name='classification_layer_'+names)(X)\n",
        "        return X\n",
        "\n",
        "    \n",
        "    def gru_model(self,input_shape, voc_len, emb_neurons=256, n_classes_int=49,n_classes_scen=19):\n",
        "        X_input = Input(input_shape)\n",
        "        X_short = Embedding(voc_len, emb_neurons, input_length=input_shape)(X_input)\n",
        "        X_short = Conv1D(64 ,5,padding='causal',activation='relu',activity_regularizer=L1L2(l2=0.0003))(X_short)\n",
        "        X_short = Conv1D(128,5,padding='causal',activation='relu',activity_regularizer=L1L2(l2=0.0003))(X_short)\n",
        "        X_short = Conv1D(256,5,padding='causal',activation='relu',activity_regularizer=L1L2(l2=0.0003))(X_short)\n",
        "        X_short = Conv1D(512,7,padding='causal',activation='relu',activity_regularizer=L1L2(l2=0.0003))(X_short)\n",
        "        X_short = self.gru_layer(X_short,name_cust='grugru')\n",
        "#        X = AveragePooling1D(7)(X_short)\n",
        "        X = Dropout(0.2)(X_short) # last modified: dropout augmented to 0.6 from 0.2\n",
        "        X_intent = self.gru_head(X,n_classes_int,names='int')\n",
        "        X_scenario = self.gru_head(X,n_classes_scen,names='scen')\n",
        "\n",
        "        return Model(inputs=X_input,outputs=[X_intent,X_scenario],name='gru_model')"
      ],
      "execution_count": null,
      "outputs": []
    },
    {
      "cell_type": "code",
      "metadata": {
        "id": "WYsABWAjhvDW"
      },
      "source": [
        "class GruModel():\n",
        "\n",
        "    def scheduler(self,epoch, lr):\n",
        "        if lr < 0.0001:\n",
        "            lr = 0.001\n",
        "        if epoch < 5:\n",
        "            return lr*tf.math.exp(0.09855555)\n",
        "        elif epoch < 100:\n",
        "            return lr * tf.math.exp(-0.01)\n",
        "        elif epoch < 150:\n",
        "            return lr * tf.math.exp(-0.02)\n",
        "        elif epoch < 250:\n",
        "            return lr * tf.math.exp(-0.03)\n",
        "        else:\n",
        "            return lr*tf.math.exp(-0.04)\n",
        "    \n",
        "    def schedule_plotter(self,lr):\n",
        "        import matplotlib.pyplot as plt\n",
        "        lr_data = []\n",
        "        epochs = np.arange(0,300)\n",
        "        \n",
        "        for epoch in epochs:\n",
        "            lr = self.scheduler(epoch,lr)\n",
        "            lr_data.append(lr)\n",
        "        plt.figure()\n",
        "        plt.plot(epochs,lr_data)\n",
        "        plt.title(\"Learning Rate Schedule Simulation\")\n",
        "        plt.xlabel(\"Epochs\")\n",
        "        plt.ylabel(\"Learning rate\")\n",
        "        plt.show()\n",
        "    \n",
        "       \n",
        "    def gru_layer(self,X,n_neurons=128,l1_reg = [0,0,0,0], l2_reg = [0.01,0.02,0.03,0.03],dropout = [0.4,0.4,0.6,0.6],name_cust='orig',n_layers=2):\n",
        "        \n",
        "        for i in range(n_layers):\n",
        "            X = Bidirectional(GRU(n_neurons, recurrent_regularizer=L1L2(l1=l1_reg[1],l2=l2_reg[1]), dropout=dropout[1], return_sequences=True,activity_regularizer=L1L2(l2=0.006)),name='gru_2_'+name_cust+'_'+str(i))(X)\n",
        "            Dropout(0.4)(X)\n",
        "            X = BatchNormalization()(X)\n",
        "                \n",
        "        return X\n",
        "   \n",
        "    def encoder_decoder(self,X_in,n_neurons=[256,64,256]):\n",
        "\n",
        "        X = Dense(n_neurons[0],kernel_initializer='VarianceScaling',activation=None,activity_regularizer=L1L2(l2=0.003))(X_in)\n",
        "        #X = BatchNormalization()(X)\n",
        "        X = ReLU()(X) \n",
        "        X = Dense(n_neurons[1],kernel_initializer='VarianceScaling',activation=None,activity_regularizer=L1L2(l2=0.003))(X)\n",
        "        X = BatchNormalization()(X)\n",
        "        X = ReLU()(X)\n",
        "        X = Dense(n_neurons[2],kernel_initializer='VarianceScaling',activation=None,activity_regularizer=L1L2(l2=0.003))(X)\n",
        "        #X = BatchNormalization()(X)\n",
        "        X = ReLU()(X)\n",
        "        X = Dropout(0.4)(X)\n",
        "        \n",
        "        return X\n",
        "        \n",
        "    def gru_head(self,X_in,n_classes,n_neurons = [256,128],dropout=[0.4,0.2],names='int'):\n",
        "        \n",
        "        X = Flatten()(X_in)\n",
        "        X = Dense(n_neurons[0],activation=None)(X)\n",
        "        X = BatchNormalization()(X)\n",
        "        X = ReLU()(X)\n",
        "        X = Dropout(dropout[0])(X)\n",
        "        X = Dense(n_neurons[1],  'relu',name='last_stage_'+names)(X)\n",
        "        X = Dropout(dropout[1])(X)\n",
        "        X = Dense(n_classes, 'softmax',name='classification_layer_'+names)(X)\n",
        "        return X\n",
        "\n",
        "    \n",
        "    def gru_model(self,input_shape, voc_len,rec_n_neurons=32, emb_neurons=256, n_classes_int=49,n_classes_scen=19):\n",
        "        X_input = Input(input_shape)\n",
        "        X = Embedding(voc_len, emb_neurons, input_length=input_shape)(X_input)\n",
        "        X1 = Dropout(0.4)(X)\n",
        "        X_gru = self.gru_layer(X1,n_neurons=rec_n_neurons,name_cust=\"layer1\",n_layers=3)\n",
        "        \n",
        "        X_short = Embedding(voc_len, int(emb_neurons/2), input_length=input_shape)(X_input)\n",
        "        X_short = X1 = Dropout(0.4)(X_short)\n",
        "        #X_short = self.encoder_decoder(X_short,[512,32,512])\n",
        "        #X_short = Conv1D(32 ,5,padding='causal',activation='relu',activity_regularizer=L1L2(l2=0.0003))(X_short)\n",
        "        #X_short = BatchNormalization()(X_short)\n",
        "        #X_short = Conv1D(128,5,padding='causal',activation='relu',activity_regularizer=L1L2(l2=0.0003))(X_short)\n",
        "        #X_short = BatchNormalization()(X_short)\n",
        "        X_short1 = Conv1D(8,7,padding='causal',activation='relu',activity_regularizer=L1L2(l2=0.003))(X_short)\n",
        "        X_short1 = Conv1D(16,7,padding='causal',activation='relu',activity_regularizer=L1L2(l2=0.003))(X_short1)\n",
        "        X_short2 = Conv1D(8,7,padding='causal',activation='relu',activity_regularizer=L1L2(l2=0.003))(X_short)\n",
        "        X_short2 = Conv1D(16,7,padding='causal',activation='relu',activity_regularizer=L1L2(l2=0.003))(X_short2)\n",
        "        X_short3 = Conv1D(8,7,padding='causal',activation='relu',activity_regularizer=L1L2(l2=0.003))(X_short)\n",
        "        X_short3 = Conv1D(16,7,padding='causal',activation='relu',activity_regularizer=L1L2(l2=0.003))(X_short3)\n",
        "        X_skip = dot([X_short1,X_short2],axes=-1)\n",
        "        #X_skip = X_gru = self.gru_layer(X_skip,n_neurons=64,name_cust=\"layer2\",n_layers=2)\n",
        "        #X_short = AveragePooling1D(5)(X_short)\n",
        "        #X_short = self.gru_layer(X_short,name_cust='conv')\n",
        "        #X_skip = Concatenate()([X_short,X_short3,X_skip])\n",
        "        X_gru = Dropout(0.6)(X_gru) #last added\n",
        "        X_new = dot([X_short3,X_gru],axes=1)\n",
        "        X_new = tf.keras.activations.softmax(X_new)\n",
        "        #X2 = self.encoder_decoder(X_gru)\n",
        "        #X3 = self.encoder_decoder(X_short)\n",
        "        #X_short = Concatenate()([X_short1,X_short2])\n",
        "        X = Concatenate(axis=1)([X_skip,X_new]) #X1 era dot\n",
        "        #\n",
        "        #X = Dropout(0.6)(X) # last modified: dropout augmented to 0.6 from 0.2\n",
        "        X_intent = self.gru_head(X,n_classes_int,names='int')\n",
        "        X_scenario = self.gru_head(X,n_classes_scen,names='scen')\n",
        "\n",
        "        return Model(inputs=X_input,outputs=[X_intent,X_scenario],name='gru_model')"
      ],
      "execution_count": null,
      "outputs": []
    },
    {
      "cell_type": "markdown",
      "metadata": {
        "id": "QZ6J9scVOG8H"
      },
      "source": [
        "#### working class"
      ]
    },
    {
      "cell_type": "code",
      "metadata": {
        "id": "FWM67QA5W3tL"
      },
      "source": [
        "class data_preprocess():\n",
        "\n",
        "    def __init__(self,filename,text_col='question',sep=';',ext_data=None, col_change_dict = {'tag':'intent','pattern':'question','context_set':'scenario'}, json_cols=['intent','question','scenario']):\n",
        "        self.sep = sep\n",
        "        self.filename = filename\n",
        "        self.ext_data = ext_data\n",
        "        self.text_col = text_col\n",
        "        \n",
        "        if self.filename.endswith('json'):\n",
        "            \n",
        "            with open(self.filename, \"r+\") as files:\n",
        "                data = files.read()\n",
        "\n",
        "            json_data = json.loads(data)\n",
        "            data_all = pd.DataFrame(json_data['intents'])  # Qua va implementata la parte di data_ext! Posso portare dentro anche il json relativo\n",
        "            rows = []\n",
        "            _ = data_all.apply(lambda row: [rows.append([row['tag'],row['context_label'],row['context_set'], nn]) for nn in row.patterns], axis=1)\n",
        "            data_all_new = pd.DataFrame(rows, columns=['tag','context_label','context_set','pattern']).set_index(['tag', 'context_label','context_set'])\n",
        "            data_all=data_all_new.reset_index()\n",
        "            data_all=data_all.rename(col_change_dict,axis=1)\n",
        "            data_all = data_all[json_cols]\n",
        "            self.train = data_all\n",
        "\n",
        "#TODO: bisogna implementare l'appiattimento della classe\n",
        "\n",
        "        if self.filename.endswith('csv'):\n",
        "            self.train = pd.read_csv(filename,sep=sep)\n",
        "\n",
        "        if self.ext_data is not None:\n",
        "            self.train = pd.concat([self.train,self.ext_data],ignore_index=True)\n",
        "    \n",
        "    def preprocess_string(self, string):\n",
        "        x = re.sub('\\d+\\.\\d+\\.\\d+\\.\\d+','<IPV4>',re.sub(r'\\d+','<NUM>',re.sub('\\s{2,}', ' ', re.sub('([.,!?()\\'])', r' \\1 ', string)))).strip()\n",
        "        return x\n",
        "    \n",
        "    def preprocess_corpus(self,series=None, word_norm = None, language=None):\n",
        "\n",
        "        if series is not None: #Chiama il df da init\n",
        "\n",
        "            series = series.str.lower().apply(lambda x : self.preprocess_string(x)).str.strip()\n",
        "\n",
        "        else:\n",
        "\n",
        "            series = self.train[self.text_col]\n",
        "            series = series.str.lower().apply(lambda x : self.preprocess_string(x)).str.strip()\n",
        "\n",
        "        if not word_norm:\n",
        "\n",
        "            series = series\n",
        "        \n",
        "        elif word_norm == 'lemmatize':\n",
        "\n",
        "            wn = nltk.stem.WordNetLemmatizer()\n",
        "            lemmed = series.apply(lambda x: [wn.lemmatize(k) for k in x])\n",
        "            lemmed = series.apply(lambda x: ' '.join(x))\n",
        "            series = lemmed\n",
        "        \n",
        "        elif word_norm == 'stemmer' and language == 'english':\n",
        "\n",
        "            stemmer = nltk.stem.lancaster.LancasterStemmer()\n",
        "            stemmed = series.apply(lambda x: [stemmer.stem(k) for k in x])\n",
        "            stemmed = series.apply(lambda x: ' '.join(x))\n",
        "            series = stemmed\n",
        "\n",
        "        elif word_norm == 'stemmer' and language == 'italian':\n",
        "\n",
        "            stemmer = nltk.stem.snowball.ItalianStemmer()\n",
        "            stemmed = series.apply(lambda x: [stemmer.stem(k) for k in x])\n",
        "            stemmed = series.apply(lambda x: ' '.join(x))\n",
        "            series = stemmed\n",
        "\n",
        "        vocab = set([h for k in series for h in k.split()])\n",
        "\n",
        "        return series, vocab\n",
        "    \n",
        "    def tokenize_toseq(self,corpus = None, num_words = None, filters = '', lower = True, split = ' ', char_level = False, oov_token = '<UNK>', document_count = 0, seq2matrix = False, seq_2m_mode = 'binary', pad_max_len = None,word_norm=None,language=None,**kwargs):\n",
        "        #da sostituire con quella subito sopra, in caso self.data = self.train[text_col].apply(word_tokenize)\n",
        "        \n",
        "        if corpus is None and num_words is None:\n",
        "            \n",
        "            corpus, vocab = self.preprocess_corpus(word_norm=word_norm,language=language)\n",
        "            num_words = len(vocab)\n",
        "        \n",
        "        if num_words is None:\n",
        "\n",
        "            num_words = len(set([h for k in corpus for h in k.split()]))\n",
        "        \n",
        "        if corpus is None:\n",
        "\n",
        "            corpus = self.preprocess_corpus(word_norm=word_norm,language=language)[0]\n",
        "\n",
        "\n",
        "        tokenizer = Tokenizer(num_words,filters,lower,split,char_level,oov_token,document_count,**kwargs)\n",
        "        \n",
        "        tokenizer.fit_on_texts(corpus)\n",
        "        oh_data = tokenizer.texts_to_sequences(corpus)\n",
        "        if not pad_max_len:\n",
        "\n",
        "            max_len = max([len(_) for _ in oh_data])\n",
        "        \n",
        "        else:\n",
        "\n",
        "            max_len = pad_max_len\n",
        "\n",
        "        if seq2matrix: #utile per bag of words\n",
        "        \n",
        "            matrix = tokenizer.sequences_to_matrix(oh_data,mode=seq_2m_mode)\n",
        "        \n",
        "        else:\n",
        "\n",
        "            matrix = pad_sequences(oh_data,maxlen= max_len,padding='post',truncating='post')\n",
        "\n",
        "        return tokenizer, matrix\n",
        "    \n",
        "    def target_training(self,df = None,tgt_cols=['scenario', 'intent'],prefixes=['scen', 'int'],sparse=False):\n",
        "        \n",
        "        if df is None:\n",
        "\n",
        "            df = self.train[tgt_cols]\n",
        "        output = {}\n",
        "\n",
        "        if sparse: #to be adjusted!\n",
        "            \n",
        "            \n",
        "            tok_list = []\n",
        "            out_df = pd.DataFrame()\n",
        "            \n",
        "            for col in tgt_cols:\n",
        "                vocab_size = df[col].value_counts().shape[0]\n",
        "                locals()['tok_'+col],locals()['df_'+col] = self.tokenize_toseq(df[col],num_words=vocab_size,oov_token=None)\n",
        "                tmp = pd.Series(locals()['df_'+col].reshape(-1),name=col)\n",
        "                out_df = pd.concat([out_df,tmp],axis=1)\n",
        "                tok_list.append(locals()['tok_'+col])\n",
        "\n",
        "            y=out_df\n",
        "            output = {'out_df' : y, 'tok_list' : tok_list}\n",
        "                            \n",
        "        else:\n",
        "                \n",
        "            y = pd.get_dummies(df[tgt_cols], prefix=prefixes)\n",
        "            output = {'out_df':y,'tok_list':[y.columns]}\n",
        "        \n",
        "        return output\n",
        "\n",
        "    def preprocessing_pipeline(self, test_size=0.1, regex_match=['scen', 'int'],splitted=True,sparse=False,word_norm=None,language=None):\n",
        "\n",
        "        tokenizer, X = self.tokenize_toseq(word_norm=word_norm,language=language, pad_max_len=25)\n",
        "\n",
        "        if sparse:\n",
        "        \n",
        "            output = self.target_training(sparse=sparse)\n",
        "            y = output['out_df']\n",
        "        \n",
        "        else:\n",
        "            output = self.target_training()\n",
        "            y = output['out_df']\n",
        "            \n",
        "\n",
        "        # if self.ext_data is not None:\n",
        "        #     y_added = y.iloc[-data_all.shape[0]:]\n",
        "        #     y = y.iloc[:-data_all.shape[0]] #TODO: check where to readapt this\n",
        "\n",
        "        if splitted:\n",
        "            x_train, x_test, y_train, y_test = train_test_split(X, y, stratify=y, test_size=test_size)\n",
        "        \n",
        "        # if self.ext_data is not None:\n",
        "        #     x_train = np.append(x_train, self.sequences_added, axis=0) #TODO: check where to readapt this\n",
        "        #     y_train = pd.concat([y_train, y_added])\n",
        "        \n",
        "            y_train_scen = y_train[[el for el in y_train.columns if re.match(regex_match[0], el)]]\n",
        "            y_train_int = y_train[[el for el in y_train.columns if re.match(regex_match[1], el)]]\n",
        "            y_train = [y_train_int, y_train_scen]\n",
        "            y_test_scen = y_test[[el for el in y_test.columns if re.match(regex_match[0], el)]]\n",
        "            y_test_int = y_test[[el for el in y_test.columns if re.match(regex_match[1], el)]]\n",
        "            y_test = [y_test_int, y_test_scen]\n",
        "            output = {\n",
        "                'train_set': [x_train, y_train],\n",
        "                'test_set': [x_test, y_test],\n",
        "                'tokenizer': tokenizer\n",
        "            }\n",
        "\n",
        "        else:\n",
        "\n",
        "            y_scen = y[[el for el in y.columns if re.match(regex_match[0], el)]]\n",
        "            y_int = y[[el for el in y.columns if re.match(regex_match[1], el)]]\n",
        "            output = {\n",
        "\n",
        "                'data_set' : [X,[y_int,y_scen]],\n",
        "                'tokenizer' : tokenizer\n",
        "\n",
        "                }\n",
        "\n",
        "        return output"
      ],
      "execution_count": null,
      "outputs": []
    },
    {
      "cell_type": "markdown",
      "metadata": {
        "id": "IOirIcBjN6k_"
      },
      "source": [
        "#### experiment"
      ]
    },
    {
      "cell_type": "code",
      "metadata": {
        "id": "nAN3MXF2ARr7"
      },
      "source": [
        "class data_preprocess():\n",
        "\n",
        "    def __init__(self,filename,text_col='question',sep=';',ext_data=None, col_change_dict = {'tag':'intent','pattern':'question','context_set':'scenario'}, json_cols=['intent','question','scenario']):\n",
        "        self.sep = sep\n",
        "        self.filename = filename\n",
        "        self.ext_data = ext_data\n",
        "        self.text_col = text_col\n",
        "        \n",
        "        if self.filename.endswith('json'):\n",
        "            \n",
        "            with open(self.filename, \"r+\") as files:\n",
        "                data = files.read()\n",
        "\n",
        "            json_data = json.loads(data)\n",
        "            data_all = pd.DataFrame(json_data['intents'])  # Qua va implementata la parte di data_ext! Posso portare dentro anche il json relativo\n",
        "            rows = []\n",
        "            _ = data_all.apply(lambda row: [rows.append([row['tag'],row['context_label'],row['context_set'], nn]) for nn in row.patterns], axis=1)\n",
        "            data_all_new = pd.DataFrame(rows, columns=['tag','context_label','context_set','pattern']).set_index(['tag', 'context_label','context_set'])\n",
        "            data_all=data_all_new.reset_index()\n",
        "            data_all=data_all.rename(col_change_dict,axis=1)\n",
        "            data_all = data_all[json_cols]\n",
        "            self.train = data_all\n",
        "\n",
        "#TODO: bisogna implementare l'appiattimento della classe\n",
        "\n",
        "        if self.filename.endswith('csv'):\n",
        "            self.train = pd.read_csv(filename,sep=sep)\n",
        "\n",
        "        if self.ext_data is not None:\n",
        "            self.train = pd.concat([self.train,self.ext_data],ignore_index=True)\n",
        "    \n",
        "    def preprocess_string(self, string):\n",
        "        x = re.sub('\\d+\\.\\d+\\.\\d+\\.\\d+','<IPV4>',re.sub(r'\\d+','<NUM>',re.sub('\\s{2,}', ' ', re.sub('([.,!?()\\'])', r' \\1 ', string)))).strip()\n",
        "        return x\n",
        "    \n",
        "    def preprocess_corpus(self,series=None, word_norm = None, language=None):\n",
        "\n",
        "        if series is not None: #Chiama il df da init\n",
        "\n",
        "            series = series.str.lower().apply(lambda x : self.preprocess_string(x)).str.strip()\n",
        "\n",
        "        else:\n",
        "\n",
        "            series = self.train[self.text_col]\n",
        "            series = series.str.lower().apply(lambda x : self.preprocess_string(x)).str.strip()\n",
        "\n",
        "        if not word_norm:\n",
        "\n",
        "            series = series\n",
        "        \n",
        "        elif word_norm == 'lemmatize':\n",
        "\n",
        "            wn = nltk.stem.WordNetLemmatizer()\n",
        "            lemmed = series.apply(lambda x: [wn.lemmatize(k) for k in x])\n",
        "            lemmed = series.apply(lambda x: ' '.join(x))\n",
        "            series = lemmed\n",
        "        \n",
        "        elif word_norm == 'stemmer' and language == 'english':\n",
        "\n",
        "            stemmer = nltk.stem.lancaster.LancasterStemmer()\n",
        "            stemmed = series.apply(lambda x: [stemmer.stem(k) for k in x])\n",
        "            stemmed = series.apply(lambda x: ' '.join(x))\n",
        "            series = stemmed\n",
        "\n",
        "        elif word_norm == 'stemmer' and language == 'italian':\n",
        "\n",
        "            stemmer = nltk.stem.snowball.ItalianStemmer()\n",
        "            stemmed = series.apply(lambda x: [stemmer.stem(k) for k in x])\n",
        "            stemmed = series.apply(lambda x: ' '.join(x))\n",
        "            series = stemmed\n",
        "\n",
        "        vocab = set([h for k in series for h in k.split()])\n",
        "\n",
        "        return series, vocab\n",
        "    \n",
        "    def tokenize_toseq(self,corpus = None, num_words = None, filters = '', lower = True, split = ' ', char_level = False, oov_token = '<UNK>', document_count = 0, seq2matrix = False, seq_2m_mode = 'binary', pad_max_len = None,word_norm=None,language=None,**kwargs):\n",
        "        #da sostituire con quella subito sopra, in caso self.data = self.train[text_col].apply(word_tokenize)\n",
        "        \n",
        "        if corpus is None and num_words is None:\n",
        "            \n",
        "            corpus, vocab = self.preprocess_corpus(word_norm=word_norm,language=language)\n",
        "            num_words = len(vocab)\n",
        "        \n",
        "        if num_words is None:\n",
        "\n",
        "            num_words = len(set([h for k in corpus for h in k.split()]))\n",
        "        \n",
        "        if corpus is None:\n",
        "\n",
        "            corpus = self.preprocess_corpus(word_norm=word_norm,language=language)[0]\n",
        "\n",
        "\n",
        "        tokenizer = Tokenizer(num_words,filters,lower,split,char_level,oov_token,document_count,**kwargs)\n",
        "        \n",
        "        tokenizer.fit_on_texts(corpus)\n",
        "        oh_data = tokenizer.texts_to_sequences(corpus)\n",
        "        if not pad_max_len:\n",
        "\n",
        "            max_len = max([len(_) for _ in oh_data])\n",
        "        \n",
        "        else:\n",
        "\n",
        "            max_len = pad_max_len\n",
        "\n",
        "        if seq2matrix: #utile per bag of words\n",
        "        \n",
        "            matrix = tokenizer.sequences_to_matrix(oh_data,mode=seq_2m_mode)\n",
        "        \n",
        "        else:\n",
        "\n",
        "            matrix = pad_sequences(oh_data,maxlen= max_len,padding='post',truncating='post')\n",
        "\n",
        "        return tokenizer, matrix, max_len\n",
        "    \n",
        "    def target_training(self,df = None,tgt_cols=['scenario', 'intent'],prefixes=['scen', 'int'],sparse=False):\n",
        "        \n",
        "        if df is None:\n",
        "\n",
        "            df = self.train[tgt_cols]\n",
        "        output = {}\n",
        "\n",
        "        if sparse: #to be adjusted!\n",
        "            \n",
        "            \n",
        "            tok_list = []\n",
        "            out_df = pd.DataFrame()\n",
        "            \n",
        "            for col in tgt_cols:\n",
        "                vocab_size = df[col].value_counts().shape[0]\n",
        "                locals()['tok_'+col],locals()['df_'+col] = self.tokenize_toseq(df[col],num_words=vocab_size,oov_token=None)\n",
        "                tmp = pd.Series(locals()['df_'+col].reshape(-1),name=col)\n",
        "                out_df = pd.concat([out_df,tmp],axis=1)\n",
        "                tok_list.append(locals()['tok_'+col])\n",
        "\n",
        "            y=out_df\n",
        "            output = {'out_df' : y, 'tok_list' : tok_list}\n",
        "                            \n",
        "        else:\n",
        "                \n",
        "            y = pd.get_dummies(df[tgt_cols], prefix=prefixes)\n",
        "            output = {'out_df':y,'tok_list':[y.columns]}\n",
        "        \n",
        "        return output\n",
        "\n",
        "    def preprocessing_pipeline(self, test_size=0.1, regex_match=['scen', 'int'],splitted=True,sparse=False,word_norm=None,language=None):\n",
        "\n",
        "        tokenizer, X = self.tokenize_toseq(word_norm=word_norm,language=language, pad_max_len=25)\n",
        "\n",
        "        if sparse:\n",
        "        \n",
        "            output = self.target_training(sparse=sparse)\n",
        "            y = output['out_df']\n",
        "        \n",
        "        else:\n",
        "            output = self.target_training()\n",
        "            y = output['out_df']\n",
        "            \n",
        "\n",
        "        # if self.ext_data is not None:\n",
        "        #     y_added = y.iloc[-data_all.shape[0]:]\n",
        "        #     y = y.iloc[:-data_all.shape[0]] #TODO: check where to readapt this\n",
        "\n",
        "        if splitted:\n",
        "            x_train, x_test, y_train, y_test = train_test_split(X, y, stratify=y, test_size=test_size)\n",
        "        \n",
        "        # if self.ext_data is not None:\n",
        "        #     x_train = np.append(x_train, self.sequences_added, axis=0) #TODO: check where to readapt this\n",
        "        #     y_train = pd.concat([y_train, y_added])\n",
        "        \n",
        "            y_train_scen = y_train[[el for el in y_train.columns if re.match(regex_match[0], el)]]\n",
        "            y_train_int = y_train[[el for el in y_train.columns if re.match(regex_match[1], el)]]\n",
        "            y_train = [y_train_int, y_train_scen]\n",
        "            y_test_scen = y_test[[el for el in y_test.columns if re.match(regex_match[0], el)]]\n",
        "            y_test_int = y_test[[el for el in y_test.columns if re.match(regex_match[1], el)]]\n",
        "            y_test = [y_test_int, y_test_scen]\n",
        "            output = {\n",
        "                'train_set': [x_train, y_train],\n",
        "                'test_set': [x_test, y_test],\n",
        "                'tokenizer': tokenizer\n",
        "            }\n",
        "\n",
        "        else:\n",
        "\n",
        "            y_scen = y[[el for el in y.columns if re.match(regex_match[0], el)]]\n",
        "            y_int = y[[el for el in y.columns if re.match(regex_match[1], el)]]\n",
        "            output = {\n",
        "\n",
        "                'data_set' : [X,[y_int,y_scen]],\n",
        "                'tokenizer' : tokenizer\n",
        "\n",
        "                }\n",
        "\n",
        "        return output"
      ],
      "execution_count": null,
      "outputs": []
    },
    {
      "cell_type": "markdown",
      "metadata": {
        "id": "dYz_TWxt2EPd"
      },
      "source": [
        "### trials"
      ]
    },
    {
      "cell_type": "code",
      "metadata": {
        "id": "3Ml--2T4eRQS"
      },
      "source": [
        "json_data = data_preprocess(\"data_all.json\")\n",
        "tokenizer,data = json_data.tokenize_toseq()"
      ],
      "execution_count": null,
      "outputs": []
    },
    {
      "cell_type": "code",
      "metadata": {
        "id": "Zcuhr3cDW4gL"
      },
      "source": [
        "elements1 = data_preprocess('./indra_challenge/train_dataset_intent.csv')\n",
        "#elements2 = data_preprocess_alt('./indra_challenge/train_dataset_intent.csv')"
      ],
      "execution_count": null,
      "outputs": []
    },
    {
      "cell_type": "markdown",
      "metadata": {
        "id": "R44SkrSerR1q"
      },
      "source": [
        "da sistemare il pezzo qua sopra, bisogna fargli uscire quello che serve."
      ]
    },
    {
      "cell_type": "code",
      "metadata": {
        "id": "0vdbqyxLfax-"
      },
      "source": [
        ""
      ],
      "execution_count": null,
      "outputs": []
    },
    {
      "cell_type": "code",
      "metadata": {
        "id": "86XCk6Sj2uP0"
      },
      "source": [
        "train_test = elements1.preprocessing_pipeline(sparse=False,word_norm='lemmatizer')"
      ],
      "execution_count": null,
      "outputs": []
    },
    {
      "cell_type": "code",
      "metadata": {
        "colab": {
          "base_uri": "https://localhost:8080/"
        },
        "id": "EDOAl-wGQmgr",
        "outputId": "51c8aa03-0451-4119-daa0-ba9f9f23daa9"
      },
      "source": [
        "train_test"
      ],
      "execution_count": null,
      "outputs": [
        {
          "output_type": "execute_result",
          "data": {
            "text/plain": [
              "{'test_set': [array([[ 429,    6,   43, ...,    0,    0,    0],\n",
              "         [   7,   46, 6044, ...,    0,    0,    0],\n",
              "         [   7,   57,    2, ...,    0,    0,    0],\n",
              "         ...,\n",
              "         [5722,   13,  393, ...,    0,    0,    0],\n",
              "         [6453,    2,    2, ...,    0,    0,    0],\n",
              "         [ 727,  589,    3, ...,    0,    0,    0]], dtype=int32),\n",
              "  [       intent\n",
              "   12541       8\n",
              "   12357      32\n",
              "   10276      34\n",
              "   10049       4\n",
              "   5991        2\n",
              "   ...       ...\n",
              "   4098        1\n",
              "   5604       29\n",
              "   10984       1\n",
              "   14095      34\n",
              "   6017       12\n",
              "   \n",
              "   [1452 rows x 1 columns],        scenario\n",
              "   12541         2\n",
              "   12357         0\n",
              "   10276         5\n",
              "   10049         6\n",
              "   5991          1\n",
              "   ...         ...\n",
              "   4098          1\n",
              "   5604          5\n",
              "   10984         7\n",
              "   14095         5\n",
              "   6017          2\n",
              "   \n",
              "   [1452 rows x 1 columns]]],\n",
              " 'tokenizer': <keras_preprocessing.text.Tokenizer at 0x7fa1211e2790>,\n",
              " 'train_set': [array([[ 25,   7, 397, ...,   0,   0,   0],\n",
              "         [ 96, 556,   0, ...,   0,   0,   0],\n",
              "         [ 92,   2, 114, ...,   0,   0,   0],\n",
              "         ...,\n",
              "         [  5,   4, 527, ...,   0,   0,   0],\n",
              "         [ 14,  24,   2, ...,   0,   0,   0],\n",
              "         [ 68,   6,  86, ...,   0,   0,   0]], dtype=int32), [       intent\n",
              "   6716        1\n",
              "   11052       8\n",
              "   6396       26\n",
              "   1504       12\n",
              "   8803        3\n",
              "   ...       ...\n",
              "   10335       5\n",
              "   5483       12\n",
              "   4010       23\n",
              "   1805        1\n",
              "   5588        1\n",
              "   \n",
              "   [13062 rows x 1 columns],        scenario\n",
              "   6716         14\n",
              "   11052         2\n",
              "   6396          5\n",
              "   1504          2\n",
              "   8803          2\n",
              "   ...         ...\n",
              "   10335         3\n",
              "   5483          2\n",
              "   4010          4\n",
              "   1805          8\n",
              "   5588          8\n",
              "   \n",
              "   [13062 rows x 1 columns]]]}"
            ]
          },
          "metadata": {},
          "execution_count": 17
        }
      ]
    },
    {
      "cell_type": "code",
      "metadata": {
        "colab": {
          "base_uri": "https://localhost:8080/",
          "height": 424
        },
        "id": "hElEvEjOvKY1",
        "outputId": "defd8a33-bd85-4715-e96f-363e63558863"
      },
      "source": [
        "train_test['train_set'][1][0]"
      ],
      "execution_count": null,
      "outputs": [
        {
          "output_type": "execute_result",
          "data": {
            "text/html": [
              "<div>\n",
              "<style scoped>\n",
              "    .dataframe tbody tr th:only-of-type {\n",
              "        vertical-align: middle;\n",
              "    }\n",
              "\n",
              "    .dataframe tbody tr th {\n",
              "        vertical-align: top;\n",
              "    }\n",
              "\n",
              "    .dataframe thead th {\n",
              "        text-align: right;\n",
              "    }\n",
              "</style>\n",
              "<table border=\"1\" class=\"dataframe\">\n",
              "  <thead>\n",
              "    <tr style=\"text-align: right;\">\n",
              "      <th></th>\n",
              "      <th>intent</th>\n",
              "    </tr>\n",
              "  </thead>\n",
              "  <tbody>\n",
              "    <tr>\n",
              "      <th>6716</th>\n",
              "      <td>1</td>\n",
              "    </tr>\n",
              "    <tr>\n",
              "      <th>11052</th>\n",
              "      <td>8</td>\n",
              "    </tr>\n",
              "    <tr>\n",
              "      <th>6396</th>\n",
              "      <td>26</td>\n",
              "    </tr>\n",
              "    <tr>\n",
              "      <th>1504</th>\n",
              "      <td>12</td>\n",
              "    </tr>\n",
              "    <tr>\n",
              "      <th>8803</th>\n",
              "      <td>3</td>\n",
              "    </tr>\n",
              "    <tr>\n",
              "      <th>...</th>\n",
              "      <td>...</td>\n",
              "    </tr>\n",
              "    <tr>\n",
              "      <th>10335</th>\n",
              "      <td>5</td>\n",
              "    </tr>\n",
              "    <tr>\n",
              "      <th>5483</th>\n",
              "      <td>12</td>\n",
              "    </tr>\n",
              "    <tr>\n",
              "      <th>4010</th>\n",
              "      <td>23</td>\n",
              "    </tr>\n",
              "    <tr>\n",
              "      <th>1805</th>\n",
              "      <td>1</td>\n",
              "    </tr>\n",
              "    <tr>\n",
              "      <th>5588</th>\n",
              "      <td>1</td>\n",
              "    </tr>\n",
              "  </tbody>\n",
              "</table>\n",
              "<p>13062 rows × 1 columns</p>\n",
              "</div>"
            ],
            "text/plain": [
              "       intent\n",
              "6716        1\n",
              "11052       8\n",
              "6396       26\n",
              "1504       12\n",
              "8803        3\n",
              "...       ...\n",
              "10335       5\n",
              "5483       12\n",
              "4010       23\n",
              "1805        1\n",
              "5588        1\n",
              "\n",
              "[13062 rows x 1 columns]"
            ]
          },
          "metadata": {},
          "execution_count": 18
        }
      ]
    },
    {
      "cell_type": "code",
      "metadata": {
        "id": "eaNXxvnKph0D"
      },
      "source": [
        "super_train = np.append(train_test['train_set'][0],train_test['test_set'][0],axis=0)\n",
        "super_y = [pd.concat([train_test['train_set'][1][0],train_test['test_set'][1][0]]),pd.concat([train_test['train_set'][1][1],train_test['test_set'][1][1]])]"
      ],
      "execution_count": null,
      "outputs": []
    },
    {
      "cell_type": "code",
      "metadata": {
        "colab": {
          "base_uri": "https://localhost:8080/",
          "height": 291
        },
        "id": "d1bAAPbPFXmw",
        "outputId": "cac4c3b2-2433-4617-d96b-942be3611776"
      },
      "source": [
        "import seaborn as sns\n",
        "sns.heatmap((pd.DataFrame(super_train)>0).astype(int))"
      ],
      "execution_count": null,
      "outputs": [
        {
          "output_type": "execute_result",
          "data": {
            "text/plain": [
              "<matplotlib.axes._subplots.AxesSubplot at 0x7fa1209f7f90>"
            ]
          },
          "metadata": {},
          "execution_count": 20
        },
        {
          "output_type": "display_data",
          "data": {
            "image/png": "[encoded data removed]",
            "text/plain": [
              "<Figure size 432x288 with 2 Axes>"
            ]
          },
          "metadata": {
            "needs_background": "light"
          }
        }
      ]
    },
    {
      "cell_type": "markdown",
      "metadata": {
        "id": "bjHnqraAeC-5"
      },
      "source": [
        "per caricare i dati, vai qua: [link](https://iaml.it/blog/multitask-learning-tensorflow)"
      ]
    },
    {
      "cell_type": "code",
      "metadata": {
        "id": "0vGzJDuQTFMj"
      },
      "source": [
        "#train_tf = tf.data.Dataset.from_tensor_slices((super_train,super_y[1].values,super_y[0].values)) #da portare giù"
      ],
      "execution_count": null,
      "outputs": []
    },
    {
      "cell_type": "code",
      "metadata": {
        "id": "jdIAGqeDOpXS"
      },
      "source": [
        "def input_fn(data, is_eval=False):\n",
        "\n",
        "  # Path delle immagini\n",
        "  filenames = tf.constant(data.iloc[:, 0].tolist())\n",
        "\n",
        "  # Etichette delle immagini\n",
        "  labels = tf.constant(data.iloc[:, 1:].values.astype(np.float32))\n",
        "\n",
        "  # Costruisco il dataset\n",
        "  dataset = tf.data.Dataset.from_tensor_slices((filenames, labels))\n",
        "  #dataset = dataset.map(_parse_function)\n",
        "\n",
        "  # Logica di training / testing\n",
        "  if is_eval:\n",
        "    dataset = dataset.batch(64)\n",
        "  else:\n",
        "    dataset = dataset.repeat().shuffle(1000).batch(64)\n",
        "\n",
        "  # Costruisco l'iteratore\n",
        "  return dataset.make_one_shot_iterator().get_next()\n",
        "def multihead_input_fn(data, is_eval=True):\n",
        "  features, labels = input_fn(data, is_eval=is_eval)\n",
        "  return features, {'head_nose': labels[:, 2:8:5], 'head_pose': tf.cast(labels[:, -1] - 1.0, tf.int32)}"
      ],
      "execution_count": null,
      "outputs": []
    },
    {
      "cell_type": "code",
      "metadata": {
        "colab": {
          "base_uri": "https://localhost:8080/"
        },
        "id": "noIomFjjT6z7",
        "outputId": "f7af7dc3-60d3-4b25-9063-a8ce8b027f95"
      },
      "source": [
        "tf.constant(super_train)"
      ],
      "execution_count": null,
      "outputs": [
        {
          "output_type": "execute_result",
          "data": {
            "text/plain": [
              "<tf.Tensor: shape=(14514, 25), dtype=int32, numpy=\n",
              "array([[   5,    4,    2, ...,    0,    0,    0],\n",
              "       [  14,  258,    8, ...,    0,    0,    0],\n",
              "       [  16, 2001,   41, ...,    0,    0,    0],\n",
              "       ...,\n",
              "       [  26,   17,   27, ...,    0,    0,    0],\n",
              "       [  82,  337,   55, ...,    0,    0,    0],\n",
              "       [  44,   12,  163, ...,    0,    0,    0]], dtype=int32)>"
            ]
          },
          "metadata": {
            "tags": []
          },
          "execution_count": 17
        }
      ]
    },
    {
      "cell_type": "code",
      "metadata": {
        "colab": {
          "base_uri": "https://localhost:8080/"
        },
        "id": "CKZIYQbyWxbC",
        "outputId": "c632388a-d582-4198-abb5-9719533a107a"
      },
      "source": [
        "tf.concat([super_y[1],super_y[0]],axis = -1)"
      ],
      "execution_count": null,
      "outputs": [
        {
          "output_type": "execute_result",
          "data": {
            "text/plain": [
              "<tf.Tensor: shape=(14514, 64), dtype=uint8, numpy=\n",
              "array([[0, 0, 1, ..., 0, 0, 0],\n",
              "       [0, 0, 0, ..., 0, 0, 0],\n",
              "       [0, 0, 0, ..., 0, 0, 0],\n",
              "       ...,\n",
              "       [0, 0, 0, ..., 0, 0, 0],\n",
              "       [0, 0, 0, ..., 0, 0, 0],\n",
              "       [0, 0, 0, ..., 0, 0, 0]], dtype=uint8)>"
            ]
          },
          "metadata": {
            "tags": []
          },
          "execution_count": 18
        }
      ]
    },
    {
      "cell_type": "code",
      "metadata": {
        "id": "4g4KlK4PJQQ5"
      },
      "source": [
        "tokenizer = train_test['tokenizer']"
      ],
      "execution_count": null,
      "outputs": []
    },
    {
      "cell_type": "code",
      "metadata": {
        "colab": {
          "base_uri": "https://localhost:8080/"
        },
        "id": "_395i-jIf8XU",
        "outputId": "4b074b30-8860-43e5-b8d0-7c2dbb0ce8c3"
      },
      "source": [
        "len(tokenizer.word_index)"
      ],
      "execution_count": null,
      "outputs": [
        {
          "output_type": "execute_result",
          "data": {
            "text/plain": [
              "6556"
            ]
          },
          "metadata": {},
          "execution_count": 39
        }
      ]
    },
    {
      "cell_type": "code",
      "metadata": {
        "colab": {
          "base_uri": "https://localhost:8080/",
          "height": 313
        },
        "id": "i9pSN_5Awrwf",
        "outputId": "d61b13e5-4b83-443d-9b97-f8551686ad4f"
      },
      "source": [
        "#grumodel = GruModel()\n",
        "grumodel = GruModel_orig()\n",
        "#model = grumodel.gru_model(input_shape = train_test['train_set'][0].shape[1],voc_len = train_test['tokenizer'].num_words+1,rec_n_neurons=125,n_classes_int=train_test['train_set'][1][0]['intent'].unique().shape[0],n_classes_scen=train_test['train_set'][1][1]['scenario'].unique().shape[0],emb_neurons=64)\n",
        "model = grumodel.gru_model(input_shape = train_test['train_set'][0].shape[1],voc_len = train_test['tokenizer'].num_words+1,n_classes_int=train_test['train_set'][1][0].shape[1],n_classes_scen=train_test['train_set'][1][1].shape[1],emb_neurons=128)\n",
        "display(grumodel.schedule_plotter(0.002))"
      ],
      "execution_count": null,
      "outputs": [
        {
          "output_type": "display_data",
          "data": {
            "image/png": "[encoded data removed]",
            "text/plain": [
              "<Figure size 432x288 with 1 Axes>"
            ]
          },
          "metadata": {
            "needs_background": "light"
          }
        },
        {
          "output_type": "display_data",
          "data": {
            "text/plain": [
              "None"
            ]
          },
          "metadata": {}
        }
      ]
    },
    {
      "cell_type": "code",
      "metadata": {
        "colab": {
          "base_uri": "https://localhost:8080/",
          "height": 1000
        },
        "id": "0OSskIs8SO8v",
        "outputId": "1e46ddf9-9153-4216-ecf6-73ad054ada30"
      },
      "source": [
        "plot_model(model,show_shapes=True)"
      ],
      "execution_count": null,
      "outputs": [
        {
          "output_type": "execute_result",
          "data": {
            "image/png": "[encoded data removed]",
            "text/plain": [
              "<IPython.core.display.Image object>"
            ]
          },
          "metadata": {},
          "execution_count": 59
        }
      ]
    },
    {
      "cell_type": "code",
      "metadata": {
        "id": "-uqKbWXb8yUW",
        "colab": {
          "base_uri": "https://localhost:8080/"
        },
        "outputId": "b60abd0b-2a93-4d04-8d2b-ceab903324bf"
      },
      "source": [
        "model.summary()"
      ],
      "execution_count": null,
      "outputs": [
        {
          "output_type": "stream",
          "name": "stdout",
          "text": [
            "Model: \"gru_model\"\n",
            "__________________________________________________________________________________________________\n",
            "Layer (type)                    Output Shape         Param #     Connected to                     \n",
            "==================================================================================================\n",
            "input_7 (InputLayer)            [(None, 25)]         0                                            \n",
            "__________________________________________________________________________________________________\n",
            "embedding_6 (Embedding)         (None, 25, 128)      839168      input_7[0][0]                    \n",
            "__________________________________________________________________________________________________\n",
            "conv1d_24 (Conv1D)              (None, 25, 64)       41024       embedding_6[0][0]                \n",
            "__________________________________________________________________________________________________\n",
            "conv1d_25 (Conv1D)              (None, 25, 128)      41088       conv1d_24[0][0]                  \n",
            "__________________________________________________________________________________________________\n",
            "conv1d_26 (Conv1D)              (None, 25, 256)      164096      conv1d_25[0][0]                  \n",
            "__________________________________________________________________________________________________\n",
            "conv1d_27 (Conv1D)              (None, 25, 512)      918016      conv1d_26[0][0]                  \n",
            "__________________________________________________________________________________________________\n",
            "gru_1_grugru (Bidirectional)    (None, 25, 256)      493056      conv1d_27[0][0]                  \n",
            "__________________________________________________________________________________________________\n",
            "gru_2_grugru (Bidirectional)    (None, 25, 256)      296448      gru_1_grugru[0][0]               \n",
            "__________________________________________________________________________________________________\n",
            "gru_3_grugru (Bidirectional)    (None, 256)          296448      gru_2_grugru[0][0]               \n",
            "__________________________________________________________________________________________________\n",
            "dropout_29 (Dropout)            (None, 256)          0           gru_3_grugru[0][0]               \n",
            "__________________________________________________________________________________________________\n",
            "flatten_6 (Flatten)             (None, 256)          0           dropout_29[0][0]                 \n",
            "__________________________________________________________________________________________________\n",
            "flatten_7 (Flatten)             (None, 256)          0           dropout_29[0][0]                 \n",
            "__________________________________________________________________________________________________\n",
            "dense_6 (Dense)                 (None, 128)          32896       flatten_6[0][0]                  \n",
            "__________________________________________________________________________________________________\n",
            "dense_7 (Dense)                 (None, 128)          32896       flatten_7[0][0]                  \n",
            "__________________________________________________________________________________________________\n",
            "batch_normalization_6 (BatchNor (None, 128)          512         dense_6[0][0]                    \n",
            "__________________________________________________________________________________________________\n",
            "batch_normalization_7 (BatchNor (None, 128)          512         dense_7[0][0]                    \n",
            "__________________________________________________________________________________________________\n",
            "re_lu_6 (ReLU)                  (None, 128)          0           batch_normalization_6[0][0]      \n",
            "__________________________________________________________________________________________________\n",
            "re_lu_7 (ReLU)                  (None, 128)          0           batch_normalization_7[0][0]      \n",
            "__________________________________________________________________________________________________\n",
            "dropout_30 (Dropout)            (None, 128)          0           re_lu_6[0][0]                    \n",
            "__________________________________________________________________________________________________\n",
            "dropout_31 (Dropout)            (None, 128)          0           re_lu_7[0][0]                    \n",
            "__________________________________________________________________________________________________\n",
            "classification_layer_int (Dense (None, 46)           5934        dropout_30[0][0]                 \n",
            "__________________________________________________________________________________________________\n",
            "classification_layer_scen (Dens (None, 18)           2322        dropout_31[0][0]                 \n",
            "==================================================================================================\n",
            "Total params: 3,164,416\n",
            "Trainable params: 3,163,904\n",
            "Non-trainable params: 512\n",
            "__________________________________________________________________________________________________\n"
          ]
        }
      ]
    },
    {
      "cell_type": "code",
      "metadata": {
        "id": "Wkcj8sxRspWW",
        "colab": {
          "base_uri": "https://localhost:8080/",
          "height": 1000
        },
        "outputId": "81a01b08-5e80-40fa-bfad-1d9161aa6c6e"
      },
      "source": [
        "beta1 = 0.9\n",
        "beta2 = 0.999\n",
        "\n",
        "callb = [History(),EarlyStopping(patience=10,min_delta=0.001,restore_best_weights=True,monitor='val_loss'),LearningRateScheduler(grumodel.scheduler,verbose=True)]\n",
        "############# Compile if with one hot\n",
        "#model.compile(optimizer=Adam(learning_rate=0.002,decay=1e-10,beta_1=beta1,beta_2=beta2),loss='categorical_crossentropy',metrics=['accuracy']) # Adam(learning_rate=0.002,decay=1e-10,beta_1=beta1,beta_2=beta2)\n",
        "############# Compile if with sparse\n",
        "model.compile(optimizer=Adam(learning_rate=0.002,decay=1e-10,beta_1=beta1,beta_2=beta2,amsgrad=True),loss=tf.keras.losses.SparseCategoricalCrossentropy(),metrics=['accuracy']) # Adam(learning_rate=0.002,decay=1e-10,beta_1=beta1,beta_2=beta2)\n",
        "#train_data = model.fit(train_test['train_set'][0],train_test['train_set'][1],epochs=300,validation_data=(train_test['test_set'][0],train_test['test_set'][1]),batch_size = 32,callbacks=callb,use_multiprocessing=True)\n",
        "############################################\n",
        "#train_tf = train_tf.shuffle(len(super_train)).batch(32)\n",
        "#train_data = model.fit(train_tf,epochs=100,callbacks=callb) #batch_size = 16, validation_split=0.1,\n",
        "train_data = model.fit(super_train,super_y,epochs=100,batch_size = 128, validation_split=0.1,callbacks=callb) #\n",
        "\n",
        "tr_df = pd.DataFrame(train_data.history)\n",
        "display(tr_df[['loss','classification_layer_int_loss','classification_layer_scen_loss','val_loss','val_classification_layer_int_loss','val_classification_layer_scen_loss']].plot(title='losses'))\n",
        "display(tr_df[['classification_layer_int_accuracy','classification_layer_scen_accuracy','val_classification_layer_int_accuracy','val_classification_layer_scen_accuracy']].plot(title='accuracy'))"
      ],
      "execution_count": null,
      "outputs": [
        {
          "output_type": "stream",
          "name": "stdout",
          "text": [
            "Epoch 1/100\n",
            "\n",
            "Epoch 00001: LearningRateScheduler setting learning rate to tf.Tensor(0.0022071516, shape=(), dtype=float32).\n",
            "103/103 [==============================] - 15s 56ms/step - loss: 6.5788 - classification_layer_int_loss: 2.5223 - classification_layer_scen_loss: 2.1191 - classification_layer_int_accuracy: 0.3508 - classification_layer_scen_accuracy: 0.3441 - val_loss: 3.8830 - val_classification_layer_int_loss: 2.0955 - val_classification_layer_scen_loss: 1.6849 - val_classification_layer_int_accuracy: 0.4787 - val_classification_layer_scen_accuracy: 0.4800\n",
            "Epoch 2/100\n",
            "\n",
            "Epoch 00002: LearningRateScheduler setting learning rate to tf.Tensor(0.002435759, shape=(), dtype=float32).\n",
            "103/103 [==============================] - 3s 32ms/step - loss: 3.1017 - classification_layer_int_loss: 1.6820 - classification_layer_scen_loss: 1.3173 - classification_layer_int_accuracy: 0.5146 - classification_layer_scen_accuracy: 0.5785 - val_loss: 3.5670 - val_classification_layer_int_loss: 1.9517 - val_classification_layer_scen_loss: 1.5164 - val_classification_layer_int_accuracy: 0.4366 - val_classification_layer_scen_accuracy: 0.5248\n",
            "Epoch 3/100\n",
            "\n",
            "Epoch 00003: LearningRateScheduler setting learning rate to tf.Tensor(0.0026880444, shape=(), dtype=float32).\n",
            "103/103 [==============================] - 3s 32ms/step - loss: 2.1764 - classification_layer_int_loss: 1.2426 - classification_layer_scen_loss: 0.8298 - classification_layer_int_accuracy: 0.6147 - classification_layer_scen_accuracy: 0.7368 - val_loss: 2.2881 - val_classification_layer_int_loss: 1.3151 - val_classification_layer_scen_loss: 0.8867 - val_classification_layer_int_accuracy: 0.6185 - val_classification_layer_scen_accuracy: 0.7562\n",
            "Epoch 4/100\n",
            "\n",
            "Epoch 00004: LearningRateScheduler setting learning rate to tf.Tensor(0.0029664605, shape=(), dtype=float32).\n",
            "103/103 [==============================] - 3s 33ms/step - loss: 1.5839 - classification_layer_int_loss: 0.9530 - classification_layer_scen_loss: 0.5331 - classification_layer_int_accuracy: 0.7001 - classification_layer_scen_accuracy: 0.8475 - val_loss: 1.9679 - val_classification_layer_int_loss: 1.1346 - val_classification_layer_scen_loss: 0.7617 - val_classification_layer_int_accuracy: 0.6949 - val_classification_layer_scen_accuracy: 0.8099\n",
            "Epoch 5/100\n",
            "\n",
            "Epoch 00005: LearningRateScheduler setting learning rate to tf.Tensor(0.0032737139, shape=(), dtype=float32).\n",
            "103/103 [==============================] - 3s 33ms/step - loss: 1.1428 - classification_layer_int_loss: 0.7082 - classification_layer_scen_loss: 0.3607 - classification_layer_int_accuracy: 0.7794 - classification_layer_scen_accuracy: 0.8992 - val_loss: 2.0486 - val_classification_layer_int_loss: 1.1397 - val_classification_layer_scen_loss: 0.8311 - val_classification_layer_int_accuracy: 0.7052 - val_classification_layer_scen_accuracy: 0.8072\n",
            "Epoch 6/100\n",
            "\n",
            "Epoch 00006: LearningRateScheduler setting learning rate to tf.Tensor(0.00324114, shape=(), dtype=float32).\n",
            "103/103 [==============================] - 3s 32ms/step - loss: 0.9940 - classification_layer_int_loss: 0.6030 - classification_layer_scen_loss: 0.3035 - classification_layer_int_accuracy: 0.8101 - classification_layer_scen_accuracy: 0.9162 - val_loss: 1.8561 - val_classification_layer_int_loss: 0.9907 - val_classification_layer_scen_loss: 0.7976 - val_classification_layer_int_accuracy: 0.7397 - val_classification_layer_scen_accuracy: 0.8140\n",
            "Epoch 7/100\n",
            "\n",
            "Epoch 00007: LearningRateScheduler setting learning rate to tf.Tensor(0.00320889, shape=(), dtype=float32).\n",
            "103/103 [==============================] - 3s 34ms/step - loss: 0.7414 - classification_layer_int_loss: 0.4501 - classification_layer_scen_loss: 0.2217 - classification_layer_int_accuracy: 0.8615 - classification_layer_scen_accuracy: 0.9401 - val_loss: 2.5281 - val_classification_layer_int_loss: 1.3855 - val_classification_layer_scen_loss: 1.0685 - val_classification_layer_int_accuracy: 0.6873 - val_classification_layer_scen_accuracy: 0.7775\n",
            "Epoch 8/100\n",
            "\n",
            "Epoch 00008: LearningRateScheduler setting learning rate to tf.Tensor(0.003176961, shape=(), dtype=float32).\n",
            "103/103 [==============================] - 4s 34ms/step - loss: 0.8319 - classification_layer_int_loss: 0.4620 - classification_layer_scen_loss: 0.2388 - classification_layer_int_accuracy: 0.8566 - classification_layer_scen_accuracy: 0.9341 - val_loss: 1.8693 - val_classification_layer_int_loss: 0.9975 - val_classification_layer_scen_loss: 0.8039 - val_classification_layer_int_accuracy: 0.7645 - val_classification_layer_scen_accuracy: 0.8278\n",
            "Epoch 9/100\n",
            "\n",
            "Epoch 00009: LearningRateScheduler setting learning rate to tf.Tensor(0.00314535, shape=(), dtype=float32).\n",
            "103/103 [==============================] - 3s 32ms/step - loss: 0.5426 - classification_layer_int_loss: 0.3239 - classification_layer_scen_loss: 0.1522 - classification_layer_int_accuracy: 0.9005 - classification_layer_scen_accuracy: 0.9591 - val_loss: 1.7834 - val_classification_layer_int_loss: 0.9719 - val_classification_layer_scen_loss: 0.7554 - val_classification_layer_int_accuracy: 0.7700 - val_classification_layer_scen_accuracy: 0.8375\n",
            "Epoch 10/100\n",
            "\n",
            "Epoch 00010: LearningRateScheduler setting learning rate to tf.Tensor(0.0031140533, shape=(), dtype=float32).\n",
            "103/103 [==============================] - 3s 32ms/step - loss: 0.4549 - classification_layer_int_loss: 0.2714 - classification_layer_scen_loss: 0.1235 - classification_layer_int_accuracy: 0.9192 - classification_layer_scen_accuracy: 0.9681 - val_loss: 2.0067 - val_classification_layer_int_loss: 1.0721 - val_classification_layer_scen_loss: 0.8823 - val_classification_layer_int_accuracy: 0.7707 - val_classification_layer_scen_accuracy: 0.8320\n",
            "Epoch 11/100\n",
            "\n",
            "Epoch 00011: LearningRateScheduler setting learning rate to tf.Tensor(0.003083068, shape=(), dtype=float32).\n",
            "103/103 [==============================] - 3s 33ms/step - loss: 0.4635 - classification_layer_int_loss: 0.2548 - classification_layer_scen_loss: 0.1320 - classification_layer_int_accuracy: 0.9229 - classification_layer_scen_accuracy: 0.9643 - val_loss: 2.2214 - val_classification_layer_int_loss: 1.1813 - val_classification_layer_scen_loss: 0.9802 - val_classification_layer_int_accuracy: 0.7638 - val_classification_layer_scen_accuracy: 0.8196\n",
            "Epoch 12/100\n",
            "\n",
            "Epoch 00012: LearningRateScheduler setting learning rate to tf.Tensor(0.0030523909, shape=(), dtype=float32).\n",
            "103/103 [==============================] - 3s 33ms/step - loss: 0.4489 - classification_layer_int_loss: 0.2444 - classification_layer_scen_loss: 0.1242 - classification_layer_int_accuracy: 0.9260 - classification_layer_scen_accuracy: 0.9662 - val_loss: 1.8574 - val_classification_layer_int_loss: 1.0057 - val_classification_layer_scen_loss: 0.7897 - val_classification_layer_int_accuracy: 0.7720 - val_classification_layer_scen_accuracy: 0.8264\n",
            "Epoch 13/100\n",
            "\n",
            "Epoch 00013: LearningRateScheduler setting learning rate to tf.Tensor(0.003022019, shape=(), dtype=float32).\n",
            "103/103 [==============================] - 3s 32ms/step - loss: 0.4801 - classification_layer_int_loss: 0.2506 - classification_layer_scen_loss: 0.1248 - classification_layer_int_accuracy: 0.9254 - classification_layer_scen_accuracy: 0.9666 - val_loss: 2.0515 - val_classification_layer_int_loss: 1.1302 - val_classification_layer_scen_loss: 0.8542 - val_classification_layer_int_accuracy: 0.7631 - val_classification_layer_scen_accuracy: 0.8320\n",
            "Epoch 14/100\n",
            "\n",
            "Epoch 00014: LearningRateScheduler setting learning rate to tf.Tensor(0.0029919494, shape=(), dtype=float32).\n",
            "103/103 [==============================] - 3s 34ms/step - loss: 0.3623 - classification_layer_int_loss: 0.2005 - classification_layer_scen_loss: 0.0894 - classification_layer_int_accuracy: 0.9433 - classification_layer_scen_accuracy: 0.9763 - val_loss: 2.1449 - val_classification_layer_int_loss: 1.1113 - val_classification_layer_scen_loss: 0.9754 - val_classification_layer_int_accuracy: 0.7727 - val_classification_layer_scen_accuracy: 0.8251\n",
            "Epoch 15/100\n",
            "\n",
            "Epoch 00015: LearningRateScheduler setting learning rate to tf.Tensor(0.002962179, shape=(), dtype=float32).\n",
            "103/103 [==============================] - 3s 32ms/step - loss: 0.3951 - classification_layer_int_loss: 0.1950 - classification_layer_scen_loss: 0.1125 - classification_layer_int_accuracy: 0.9430 - classification_layer_scen_accuracy: 0.9682 - val_loss: 2.1585 - val_classification_layer_int_loss: 1.1244 - val_classification_layer_scen_loss: 0.9763 - val_classification_layer_int_accuracy: 0.7755 - val_classification_layer_scen_accuracy: 0.8251\n",
            "Epoch 16/100\n",
            "\n",
            "Epoch 00016: LearningRateScheduler setting learning rate to tf.Tensor(0.0029327048, shape=(), dtype=float32).\n",
            "103/103 [==============================] - 3s 34ms/step - loss: 0.2958 - classification_layer_int_loss: 0.1577 - classification_layer_scen_loss: 0.0791 - classification_layer_int_accuracy: 0.9545 - classification_layer_scen_accuracy: 0.9798 - val_loss: 2.1797 - val_classification_layer_int_loss: 1.1547 - val_classification_layer_scen_loss: 0.9720 - val_classification_layer_int_accuracy: 0.7927 - val_classification_layer_scen_accuracy: 0.8154\n",
            "Epoch 17/100\n",
            "\n",
            "Epoch 00017: LearningRateScheduler setting learning rate to tf.Tensor(0.0029035239, shape=(), dtype=float32).\n",
            "103/103 [==============================] - 3s 33ms/step - loss: 0.2632 - classification_layer_int_loss: 0.1410 - classification_layer_scen_loss: 0.0677 - classification_layer_int_accuracy: 0.9596 - classification_layer_scen_accuracy: 0.9819 - val_loss: 2.3157 - val_classification_layer_int_loss: 1.2627 - val_classification_layer_scen_loss: 1.0050 - val_classification_layer_int_accuracy: 0.7858 - val_classification_layer_scen_accuracy: 0.8292\n",
            "Epoch 18/100\n",
            "\n",
            "Epoch 00018: LearningRateScheduler setting learning rate to tf.Tensor(0.0028746333, shape=(), dtype=float32).\n",
            "103/103 [==============================] - 3s 33ms/step - loss: 0.2036 - classification_layer_int_loss: 0.0994 - classification_layer_scen_loss: 0.0571 - classification_layer_int_accuracy: 0.9723 - classification_layer_scen_accuracy: 0.9855 - val_loss: 2.1309 - val_classification_layer_int_loss: 1.1016 - val_classification_layer_scen_loss: 0.9892 - val_classification_layer_int_accuracy: 0.7858 - val_classification_layer_scen_accuracy: 0.8244\n",
            "Epoch 19/100\n",
            "\n",
            "Epoch 00019: LearningRateScheduler setting learning rate to tf.Tensor(0.0028460303, shape=(), dtype=float32).\n",
            "103/103 [==============================] - 4s 34ms/step - loss: 0.1701 - classification_layer_int_loss: 0.0837 - classification_layer_scen_loss: 0.0423 - classification_layer_int_accuracy: 0.9760 - classification_layer_scen_accuracy: 0.9894 - val_loss: 2.2306 - val_classification_layer_int_loss: 1.1527 - val_classification_layer_scen_loss: 1.0386 - val_classification_layer_int_accuracy: 0.7989 - val_classification_layer_scen_accuracy: 0.8202\n"
          ]
        },
        {
          "output_type": "display_data",
          "data": {
            "text/plain": [
              "<matplotlib.axes._subplots.AxesSubplot at 0x7fa121d95990>"
            ]
          },
          "metadata": {}
        },
        {
          "output_type": "display_data",
          "data": {
            "text/plain": [
              "<matplotlib.axes._subplots.AxesSubplot at 0x7fa121253d90>"
            ]
          },
          "metadata": {}
        },
        {
          "output_type": "display_data",
          "data": {
            "image/png": "[encoded data removed]",
            "text/plain": [
              "<Figure size 432x288 with 1 Axes>"
            ]
          },
          "metadata": {
            "needs_background": "light"
          }
        },
        {
          "output_type": "display_data",
          "data": {
            "image/png": "[encoded data removed]",
            "text/plain": [
              "<Figure size 432x288 with 1 Axes>"
            ]
          },
          "metadata": {
            "needs_background": "light"
          }
        }
      ]
    },
    {
      "cell_type": "code",
      "metadata": {
        "colab": {
          "base_uri": "https://localhost:8080/",
          "height": 163
        },
        "id": "kN2xXOucbups",
        "outputId": "f943e3f8-600b-42ef-f08f-03b87e237a7d"
      },
      "source": [
        "model.layers[1].shape"
      ],
      "execution_count": null,
      "outputs": [
        {
          "output_type": "error",
          "ename": "AttributeError",
          "evalue": "ignored",
          "traceback": [
            "\u001b[0;31m---------------------------------------------------------------------------\u001b[0m",
            "\u001b[0;31mAttributeError\u001b[0m                            Traceback (most recent call last)",
            "\u001b[0;32m<ipython-input-65-fb4ae438cbe7>\u001b[0m in \u001b[0;36m<module>\u001b[0;34m()\u001b[0m\n\u001b[0;32m----> 1\u001b[0;31m \u001b[0mmodel\u001b[0m\u001b[0;34m.\u001b[0m\u001b[0mlayers\u001b[0m\u001b[0;34m[\u001b[0m\u001b[0;36m1\u001b[0m\u001b[0;34m]\u001b[0m\u001b[0;34m.\u001b[0m\u001b[0mshape\u001b[0m\u001b[0;34m\u001b[0m\u001b[0;34m\u001b[0m\u001b[0m\n\u001b[0m",
            "\u001b[0;31mAttributeError\u001b[0m: 'Embedding' object has no attribute 'shape'"
          ]
        }
      ]
    },
    {
      "cell_type": "code",
      "metadata": {
        "id": "yYCUgtjG99Gy",
        "colab": {
          "base_uri": "https://localhost:8080/",
          "height": 913
        },
        "outputId": "aee13a6b-e983-4ffb-a9c4-63e1f54e8ef2"
      },
      "source": [
        "tr_df_old = pd.read_csv(\"./drive/My Drive/indra_challenge/model_data_training_multiple_elements.csv\")\n",
        "l = []\n",
        "x = []\n",
        "l_m = []\n",
        "v_l_m = []\n",
        "for k in tr_df_old.beta1.unique():\n",
        "    for c in tr_df_old.beta2.unique():\n",
        "        print(\"beta1 = {} | beta2 = {} | min loss = {} | min val_loss = {}\".format(k,c,tr_df_old.loc[(tr_df_old.beta1==k) & (tr_df_old.beta2==c),\"loss\"].min(),tr_df_old.loc[(tr_df_old.beta1==k) & (tr_df_old.beta2==c),\"val_loss\"].min()))\n",
        "        l.append(k)\n",
        "        x.append(c)\n",
        "        l_m.append(tr_df_old.loc[(tr_df_old.beta1==k) & (tr_df_old.beta2==c),\"loss\"].min())\n",
        "        v_l_m.append(tr_df_old.loc[(tr_df_old.beta1==k) & (tr_df_old.beta2==c),\"val_loss\"].min())\n",
        "\n",
        "pd.DataFrame({'beta1':l,'beta2':x,'loss_min':l_m,'val_loss_min':v_l_m})"
      ],
      "execution_count": null,
      "outputs": [
        {
          "output_type": "stream",
          "text": [
            "beta1 = 0.91 | beta2 = 0.9995 | min loss = 0.007211541291326284 | min val_loss = 1.9128093719482424\n",
            "beta1 = 0.91 | beta2 = 0.9998 | min loss = 0.00788529310375452 | min val_loss = 1.883827447891236\n",
            "beta1 = 0.91 | beta2 = 0.998 | min loss = 0.0060071442276239395 | min val_loss = 2.09229588508606\n",
            "beta1 = 0.91 | beta2 = 0.99985 | min loss = 0.009459915570914744 | min val_loss = 1.934241771697998\n",
            "beta1 = 0.91 | beta2 = 0.9985 | min loss = 0.04674873873591423 | min val_loss = 2.0255448818206787\n",
            "beta1 = 0.91 | beta2 = 0.99285 | min loss = nan | min val_loss = nan\n",
            "beta1 = 0.915 | beta2 = 0.9995 | min loss = 0.012305879034101965 | min val_loss = 2.056542158126831\n",
            "beta1 = 0.915 | beta2 = 0.9998 | min loss = 0.009579098783433436 | min val_loss = 1.9029687643051147\n",
            "beta1 = 0.915 | beta2 = 0.998 | min loss = 0.005595457274466753 | min val_loss = 1.9440299272537231\n",
            "beta1 = 0.915 | beta2 = 0.99985 | min loss = 0.007625427562743425 | min val_loss = 1.8682600259780884\n",
            "beta1 = 0.915 | beta2 = 0.9985 | min loss = 0.04153915122151375 | min val_loss = 2.0029964447021484\n",
            "beta1 = 0.915 | beta2 = 0.99285 | min loss = nan | min val_loss = nan\n",
            "beta1 = 0.9 | beta2 = 0.9995 | min loss = 0.02757176943123341 | min val_loss = 1.988031268119812\n",
            "beta1 = 0.9 | beta2 = 0.9998 | min loss = 0.009368167258799076 | min val_loss = 1.9079887866973884\n",
            "beta1 = 0.9 | beta2 = 0.998 | min loss = 0.007579823955893517 | min val_loss = 1.7877204418182373\n",
            "beta1 = 0.9 | beta2 = 0.99985 | min loss = 0.010361411608755587 | min val_loss = 2.1330220699310303\n",
            "beta1 = 0.9 | beta2 = 0.9985 | min loss = 0.0292791947722435 | min val_loss = 1.8853106498718264\n",
            "beta1 = 0.9 | beta2 = 0.99285 | min loss = 0.05264472588896752 | min val_loss = 2.027407169342041\n"
          ],
          "name": "stdout"
        },
        {
          "output_type": "execute_result",
          "data": {
            "text/html": [
              "<div>\n",
              "<style scoped>\n",
              "    .dataframe tbody tr th:only-of-type {\n",
              "        vertical-align: middle;\n",
              "    }\n",
              "\n",
              "    .dataframe tbody tr th {\n",
              "        vertical-align: top;\n",
              "    }\n",
              "\n",
              "    .dataframe thead th {\n",
              "        text-align: right;\n",
              "    }\n",
              "</style>\n",
              "<table border=\"1\" class=\"dataframe\">\n",
              "  <thead>\n",
              "    <tr style=\"text-align: right;\">\n",
              "      <th></th>\n",
              "      <th>beta1</th>\n",
              "      <th>beta2</th>\n",
              "      <th>loss_min</th>\n",
              "      <th>val_loss_min</th>\n",
              "    </tr>\n",
              "  </thead>\n",
              "  <tbody>\n",
              "    <tr>\n",
              "      <th>0</th>\n",
              "      <td>0.910</td>\n",
              "      <td>0.99950</td>\n",
              "      <td>0.007212</td>\n",
              "      <td>1.912809</td>\n",
              "    </tr>\n",
              "    <tr>\n",
              "      <th>1</th>\n",
              "      <td>0.910</td>\n",
              "      <td>0.99980</td>\n",
              "      <td>0.007885</td>\n",
              "      <td>1.883827</td>\n",
              "    </tr>\n",
              "    <tr>\n",
              "      <th>2</th>\n",
              "      <td>0.910</td>\n",
              "      <td>0.99800</td>\n",
              "      <td>0.006007</td>\n",
              "      <td>2.092296</td>\n",
              "    </tr>\n",
              "    <tr>\n",
              "      <th>3</th>\n",
              "      <td>0.910</td>\n",
              "      <td>0.99985</td>\n",
              "      <td>0.009460</td>\n",
              "      <td>1.934242</td>\n",
              "    </tr>\n",
              "    <tr>\n",
              "      <th>4</th>\n",
              "      <td>0.910</td>\n",
              "      <td>0.99850</td>\n",
              "      <td>0.046749</td>\n",
              "      <td>2.025545</td>\n",
              "    </tr>\n",
              "    <tr>\n",
              "      <th>5</th>\n",
              "      <td>0.910</td>\n",
              "      <td>0.99285</td>\n",
              "      <td>NaN</td>\n",
              "      <td>NaN</td>\n",
              "    </tr>\n",
              "    <tr>\n",
              "      <th>6</th>\n",
              "      <td>0.915</td>\n",
              "      <td>0.99950</td>\n",
              "      <td>0.012306</td>\n",
              "      <td>2.056542</td>\n",
              "    </tr>\n",
              "    <tr>\n",
              "      <th>7</th>\n",
              "      <td>0.915</td>\n",
              "      <td>0.99980</td>\n",
              "      <td>0.009579</td>\n",
              "      <td>1.902969</td>\n",
              "    </tr>\n",
              "    <tr>\n",
              "      <th>8</th>\n",
              "      <td>0.915</td>\n",
              "      <td>0.99800</td>\n",
              "      <td>0.005595</td>\n",
              "      <td>1.944030</td>\n",
              "    </tr>\n",
              "    <tr>\n",
              "      <th>9</th>\n",
              "      <td>0.915</td>\n",
              "      <td>0.99985</td>\n",
              "      <td>0.007625</td>\n",
              "      <td>1.868260</td>\n",
              "    </tr>\n",
              "    <tr>\n",
              "      <th>10</th>\n",
              "      <td>0.915</td>\n",
              "      <td>0.99850</td>\n",
              "      <td>0.041539</td>\n",
              "      <td>2.002996</td>\n",
              "    </tr>\n",
              "    <tr>\n",
              "      <th>11</th>\n",
              "      <td>0.915</td>\n",
              "      <td>0.99285</td>\n",
              "      <td>NaN</td>\n",
              "      <td>NaN</td>\n",
              "    </tr>\n",
              "    <tr>\n",
              "      <th>12</th>\n",
              "      <td>0.900</td>\n",
              "      <td>0.99950</td>\n",
              "      <td>0.027572</td>\n",
              "      <td>1.988031</td>\n",
              "    </tr>\n",
              "    <tr>\n",
              "      <th>13</th>\n",
              "      <td>0.900</td>\n",
              "      <td>0.99980</td>\n",
              "      <td>0.009368</td>\n",
              "      <td>1.907989</td>\n",
              "    </tr>\n",
              "    <tr>\n",
              "      <th>14</th>\n",
              "      <td>0.900</td>\n",
              "      <td>0.99800</td>\n",
              "      <td>0.007580</td>\n",
              "      <td>1.787720</td>\n",
              "    </tr>\n",
              "    <tr>\n",
              "      <th>15</th>\n",
              "      <td>0.900</td>\n",
              "      <td>0.99985</td>\n",
              "      <td>0.010361</td>\n",
              "      <td>2.133022</td>\n",
              "    </tr>\n",
              "    <tr>\n",
              "      <th>16</th>\n",
              "      <td>0.900</td>\n",
              "      <td>0.99850</td>\n",
              "      <td>0.029279</td>\n",
              "      <td>1.885311</td>\n",
              "    </tr>\n",
              "    <tr>\n",
              "      <th>17</th>\n",
              "      <td>0.900</td>\n",
              "      <td>0.99285</td>\n",
              "      <td>0.052645</td>\n",
              "      <td>2.027407</td>\n",
              "    </tr>\n",
              "  </tbody>\n",
              "</table>\n",
              "</div>"
            ],
            "text/plain": [
              "    beta1    beta2  loss_min  val_loss_min\n",
              "0   0.910  0.99950  0.007212      1.912809\n",
              "1   0.910  0.99980  0.007885      1.883827\n",
              "2   0.910  0.99800  0.006007      2.092296\n",
              "3   0.910  0.99985  0.009460      1.934242\n",
              "4   0.910  0.99850  0.046749      2.025545\n",
              "5   0.910  0.99285       NaN           NaN\n",
              "6   0.915  0.99950  0.012306      2.056542\n",
              "7   0.915  0.99980  0.009579      1.902969\n",
              "8   0.915  0.99800  0.005595      1.944030\n",
              "9   0.915  0.99985  0.007625      1.868260\n",
              "10  0.915  0.99850  0.041539      2.002996\n",
              "11  0.915  0.99285       NaN           NaN\n",
              "12  0.900  0.99950  0.027572      1.988031\n",
              "13  0.900  0.99980  0.009368      1.907989\n",
              "14  0.900  0.99800  0.007580      1.787720\n",
              "15  0.900  0.99985  0.010361      2.133022\n",
              "16  0.900  0.99850  0.029279      1.885311\n",
              "17  0.900  0.99285  0.052645      2.027407"
            ]
          },
          "metadata": {
            "tags": []
          },
          "execution_count": 19
        }
      ]
    },
    {
      "cell_type": "code",
      "metadata": {
        "colab": {
          "base_uri": "https://localhost:8080/",
          "height": 913
        },
        "id": "ajLs1FTPtYod",
        "outputId": "6900a063-e4d9-43b9-f25b-ec1123a9d828"
      },
      "source": [
        "tr_df['beta1'] = beta1\n",
        "tr_df['beta2'] = beta2\n",
        "\n",
        "tr_df_old = pd.concat([tr_df_old,tr_df])\n",
        "tr_df_old.to_csv(\"./drive/My Drive/indra_challenge/model_data_training_multiple_elements.csv\")\n",
        "l = []\n",
        "x = []\n",
        "l_m = []\n",
        "v_l_m = []\n",
        "\n",
        "for k in tr_df_old.beta1.unique():\n",
        "    for c in tr_df_old.beta2.unique():\n",
        "        print(\"beta1 = {} | beta2 = {} | min loss = {} | min val_loss = {}\".format(k,c,tr_df_old.loc[(tr_df_old.beta1==k) & (tr_df_old.beta2==c),\"loss\"].min(),tr_df_old.loc[(tr_df_old.beta1==k) & (tr_df_old.beta2==c),\"val_loss\"].min()))\n",
        "        l.append(k)\n",
        "        x.append(c)\n",
        "        l_m.append(tr_df_old.loc[(tr_df_old.beta1==k) & (tr_df_old.beta2==c),\"loss\"].min())\n",
        "        v_l_m.append(tr_df_old.loc[(tr_df_old.beta1==k) & (tr_df_old.beta2==c),\"val_loss\"].min())\n",
        "\n",
        "pd.DataFrame({'beta1':l,'beta2':x,'loss_min':l_m,'val_loss_min':v_l_m})"
      ],
      "execution_count": null,
      "outputs": [
        {
          "output_type": "stream",
          "text": [
            "beta1 = 0.91 | beta2 = 0.9995 | min loss = 0.007211541291326284 | min val_loss = 1.9128093719482424\n",
            "beta1 = 0.91 | beta2 = 0.9998 | min loss = 0.00788529310375452 | min val_loss = 1.883827447891236\n",
            "beta1 = 0.91 | beta2 = 0.998 | min loss = 0.0060071442276239395 | min val_loss = 2.09229588508606\n",
            "beta1 = 0.91 | beta2 = 0.99985 | min loss = 0.009459915570914744 | min val_loss = 1.934241771697998\n",
            "beta1 = 0.91 | beta2 = 0.9985 | min loss = 0.04674873873591423 | min val_loss = 2.0255448818206787\n",
            "beta1 = 0.91 | beta2 = 0.99285 | min loss = nan | min val_loss = nan\n",
            "beta1 = 0.915 | beta2 = 0.9995 | min loss = 0.012305879034101965 | min val_loss = 2.056542158126831\n",
            "beta1 = 0.915 | beta2 = 0.9998 | min loss = 0.009579098783433436 | min val_loss = 1.9029687643051147\n",
            "beta1 = 0.915 | beta2 = 0.998 | min loss = 0.005595457274466753 | min val_loss = 1.9440299272537231\n",
            "beta1 = 0.915 | beta2 = 0.99985 | min loss = 0.007625427562743425 | min val_loss = 1.8682600259780884\n",
            "beta1 = 0.915 | beta2 = 0.9985 | min loss = 0.04153915122151375 | min val_loss = 2.0029964447021484\n",
            "beta1 = 0.915 | beta2 = 0.99285 | min loss = nan | min val_loss = nan\n",
            "beta1 = 0.9 | beta2 = 0.9995 | min loss = 0.02757176943123341 | min val_loss = 1.9880312681198118\n",
            "beta1 = 0.9 | beta2 = 0.9998 | min loss = 0.009368167258799076 | min val_loss = 1.9079887866973884\n",
            "beta1 = 0.9 | beta2 = 0.998 | min loss = 0.007579823955893517 | min val_loss = 1.7877204418182373\n",
            "beta1 = 0.9 | beta2 = 0.99985 | min loss = 0.010361411608755587 | min val_loss = 2.1330220699310303\n",
            "beta1 = 0.9 | beta2 = 0.9985 | min loss = 0.0292791947722435 | min val_loss = 1.8853106498718262\n",
            "beta1 = 0.9 | beta2 = 0.99285 | min loss = 0.052644725888967514 | min val_loss = 2.027407169342041\n"
          ],
          "name": "stdout"
        },
        {
          "output_type": "execute_result",
          "data": {
            "text/html": [
              "<div>\n",
              "<style scoped>\n",
              "    .dataframe tbody tr th:only-of-type {\n",
              "        vertical-align: middle;\n",
              "    }\n",
              "\n",
              "    .dataframe tbody tr th {\n",
              "        vertical-align: top;\n",
              "    }\n",
              "\n",
              "    .dataframe thead th {\n",
              "        text-align: right;\n",
              "    }\n",
              "</style>\n",
              "<table border=\"1\" class=\"dataframe\">\n",
              "  <thead>\n",
              "    <tr style=\"text-align: right;\">\n",
              "      <th></th>\n",
              "      <th>beta1</th>\n",
              "      <th>beta2</th>\n",
              "      <th>loss_min</th>\n",
              "      <th>val_loss_min</th>\n",
              "    </tr>\n",
              "  </thead>\n",
              "  <tbody>\n",
              "    <tr>\n",
              "      <th>0</th>\n",
              "      <td>0.910</td>\n",
              "      <td>0.99950</td>\n",
              "      <td>0.007212</td>\n",
              "      <td>1.912809</td>\n",
              "    </tr>\n",
              "    <tr>\n",
              "      <th>1</th>\n",
              "      <td>0.910</td>\n",
              "      <td>0.99980</td>\n",
              "      <td>0.007885</td>\n",
              "      <td>1.883827</td>\n",
              "    </tr>\n",
              "    <tr>\n",
              "      <th>2</th>\n",
              "      <td>0.910</td>\n",
              "      <td>0.99800</td>\n",
              "      <td>0.006007</td>\n",
              "      <td>2.092296</td>\n",
              "    </tr>\n",
              "    <tr>\n",
              "      <th>3</th>\n",
              "      <td>0.910</td>\n",
              "      <td>0.99985</td>\n",
              "      <td>0.009460</td>\n",
              "      <td>1.934242</td>\n",
              "    </tr>\n",
              "    <tr>\n",
              "      <th>4</th>\n",
              "      <td>0.910</td>\n",
              "      <td>0.99850</td>\n",
              "      <td>0.046749</td>\n",
              "      <td>2.025545</td>\n",
              "    </tr>\n",
              "    <tr>\n",
              "      <th>5</th>\n",
              "      <td>0.910</td>\n",
              "      <td>0.99285</td>\n",
              "      <td>NaN</td>\n",
              "      <td>NaN</td>\n",
              "    </tr>\n",
              "    <tr>\n",
              "      <th>6</th>\n",
              "      <td>0.915</td>\n",
              "      <td>0.99950</td>\n",
              "      <td>0.012306</td>\n",
              "      <td>2.056542</td>\n",
              "    </tr>\n",
              "    <tr>\n",
              "      <th>7</th>\n",
              "      <td>0.915</td>\n",
              "      <td>0.99980</td>\n",
              "      <td>0.009579</td>\n",
              "      <td>1.902969</td>\n",
              "    </tr>\n",
              "    <tr>\n",
              "      <th>8</th>\n",
              "      <td>0.915</td>\n",
              "      <td>0.99800</td>\n",
              "      <td>0.005595</td>\n",
              "      <td>1.944030</td>\n",
              "    </tr>\n",
              "    <tr>\n",
              "      <th>9</th>\n",
              "      <td>0.915</td>\n",
              "      <td>0.99985</td>\n",
              "      <td>0.007625</td>\n",
              "      <td>1.868260</td>\n",
              "    </tr>\n",
              "    <tr>\n",
              "      <th>10</th>\n",
              "      <td>0.915</td>\n",
              "      <td>0.99850</td>\n",
              "      <td>0.041539</td>\n",
              "      <td>2.002996</td>\n",
              "    </tr>\n",
              "    <tr>\n",
              "      <th>11</th>\n",
              "      <td>0.915</td>\n",
              "      <td>0.99285</td>\n",
              "      <td>NaN</td>\n",
              "      <td>NaN</td>\n",
              "    </tr>\n",
              "    <tr>\n",
              "      <th>12</th>\n",
              "      <td>0.900</td>\n",
              "      <td>0.99950</td>\n",
              "      <td>0.027572</td>\n",
              "      <td>1.988031</td>\n",
              "    </tr>\n",
              "    <tr>\n",
              "      <th>13</th>\n",
              "      <td>0.900</td>\n",
              "      <td>0.99980</td>\n",
              "      <td>0.009368</td>\n",
              "      <td>1.907989</td>\n",
              "    </tr>\n",
              "    <tr>\n",
              "      <th>14</th>\n",
              "      <td>0.900</td>\n",
              "      <td>0.99800</td>\n",
              "      <td>0.007580</td>\n",
              "      <td>1.787720</td>\n",
              "    </tr>\n",
              "    <tr>\n",
              "      <th>15</th>\n",
              "      <td>0.900</td>\n",
              "      <td>0.99985</td>\n",
              "      <td>0.010361</td>\n",
              "      <td>2.133022</td>\n",
              "    </tr>\n",
              "    <tr>\n",
              "      <th>16</th>\n",
              "      <td>0.900</td>\n",
              "      <td>0.99850</td>\n",
              "      <td>0.029279</td>\n",
              "      <td>1.885311</td>\n",
              "    </tr>\n",
              "    <tr>\n",
              "      <th>17</th>\n",
              "      <td>0.900</td>\n",
              "      <td>0.99285</td>\n",
              "      <td>0.052645</td>\n",
              "      <td>2.027407</td>\n",
              "    </tr>\n",
              "  </tbody>\n",
              "</table>\n",
              "</div>"
            ],
            "text/plain": [
              "    beta1    beta2  loss_min  val_loss_min\n",
              "0   0.910  0.99950  0.007212      1.912809\n",
              "1   0.910  0.99980  0.007885      1.883827\n",
              "2   0.910  0.99800  0.006007      2.092296\n",
              "3   0.910  0.99985  0.009460      1.934242\n",
              "4   0.910  0.99850  0.046749      2.025545\n",
              "5   0.910  0.99285       NaN           NaN\n",
              "6   0.915  0.99950  0.012306      2.056542\n",
              "7   0.915  0.99980  0.009579      1.902969\n",
              "8   0.915  0.99800  0.005595      1.944030\n",
              "9   0.915  0.99985  0.007625      1.868260\n",
              "10  0.915  0.99850  0.041539      2.002996\n",
              "11  0.915  0.99285       NaN           NaN\n",
              "12  0.900  0.99950  0.027572      1.988031\n",
              "13  0.900  0.99980  0.009368      1.907989\n",
              "14  0.900  0.99800  0.007580      1.787720\n",
              "15  0.900  0.99985  0.010361      2.133022\n",
              "16  0.900  0.99850  0.029279      1.885311\n",
              "17  0.900  0.99285  0.052645      2.027407"
            ]
          },
          "metadata": {
            "tags": []
          },
          "execution_count": 51
        }
      ]
    },
    {
      "cell_type": "code",
      "metadata": {
        "id": "zsvIKh2V0ewk",
        "colab": {
          "base_uri": "https://localhost:8080/"
        },
        "outputId": "5b3ffb44-a89d-407b-ddad-240cbcf6095a"
      },
      "source": [
        "model.summary()"
      ],
      "execution_count": null,
      "outputs": [
        {
          "output_type": "stream",
          "text": [
            "Model: \"gru_model\"\n",
            "__________________________________________________________________________________________________\n",
            "Layer (type)                    Output Shape         Param #     Connected to                     \n",
            "==================================================================================================\n",
            "input_7 (InputLayer)            [(None, 51)]         0                                            \n",
            "__________________________________________________________________________________________________\n",
            "embedding_13 (Embedding)        (None, 51, 64)       419584      input_7[0][0]                    \n",
            "__________________________________________________________________________________________________\n",
            "dropout_75 (Dropout)            (None, 51, 64)       0           embedding_13[0][0]               \n",
            "__________________________________________________________________________________________________\n",
            "conv1d_36 (Conv1D)              (None, 51, 8)        3592        dropout_75[0][0]                 \n",
            "__________________________________________________________________________________________________\n",
            "conv1d_38 (Conv1D)              (None, 51, 8)        3592        dropout_75[0][0]                 \n",
            "__________________________________________________________________________________________________\n",
            "conv1d_40 (Conv1D)              (None, 51, 8)        3592        dropout_75[0][0]                 \n",
            "__________________________________________________________________________________________________\n",
            "conv1d_37 (Conv1D)              (None, 51, 16)       912         conv1d_36[0][0]                  \n",
            "__________________________________________________________________________________________________\n",
            "conv1d_39 (Conv1D)              (None, 51, 16)       912         conv1d_38[0][0]                  \n",
            "__________________________________________________________________________________________________\n",
            "conv1d_41 (Conv1D)              (None, 51, 16)       912         conv1d_40[0][0]                  \n",
            "__________________________________________________________________________________________________\n",
            "dot_6 (Dot)                     (None, 51, 51)       0           conv1d_37[0][0]                  \n",
            "                                                                 conv1d_39[0][0]                  \n",
            "__________________________________________________________________________________________________\n",
            "concatenate_12 (Concatenate)    (None, 51, 131)      0           dropout_75[0][0]                 \n",
            "                                                                 conv1d_41[0][0]                  \n",
            "                                                                 dot_6[0][0]                      \n",
            "__________________________________________________________________________________________________\n",
            "gru_2_layer2_0 (Bidirectional)  (None, 51, 128)      75648       concatenate_12[0][0]             \n",
            "__________________________________________________________________________________________________\n",
            "batch_normalization_38 (BatchNo (None, 51, 128)      512         gru_2_layer2_0[0][0]             \n",
            "__________________________________________________________________________________________________\n",
            "gru_2_layer2_1 (Bidirectional)  (None, 51, 128)      74496       batch_normalization_38[0][0]     \n",
            "__________________________________________________________________________________________________\n",
            "batch_normalization_39 (BatchNo (None, 51, 128)      512         gru_2_layer2_1[0][0]             \n",
            "__________________________________________________________________________________________________\n",
            "dropout_78 (Dropout)            (None, 51, 128)      0           batch_normalization_39[0][0]     \n",
            "__________________________________________________________________________________________________\n",
            "concatenate_13 (Concatenate)    (None, 51, 256)      0           dropout_78[0][0]                 \n",
            "                                                                 batch_normalization_39[0][0]     \n",
            "__________________________________________________________________________________________________\n",
            "flatten_12 (Flatten)            (None, 13056)        0           concatenate_13[0][0]             \n",
            "__________________________________________________________________________________________________\n",
            "flatten_13 (Flatten)            (None, 13056)        0           concatenate_13[0][0]             \n",
            "__________________________________________________________________________________________________\n",
            "dense_12 (Dense)                (None, 256)          3342592     flatten_12[0][0]                 \n",
            "__________________________________________________________________________________________________\n",
            "dense_13 (Dense)                (None, 256)          3342592     flatten_13[0][0]                 \n",
            "__________________________________________________________________________________________________\n",
            "batch_normalization_40 (BatchNo (None, 256)          1024        dense_12[0][0]                   \n",
            "__________________________________________________________________________________________________\n",
            "batch_normalization_41 (BatchNo (None, 256)          1024        dense_13[0][0]                   \n",
            "__________________________________________________________________________________________________\n",
            "re_lu_12 (ReLU)                 (None, 256)          0           batch_normalization_40[0][0]     \n",
            "__________________________________________________________________________________________________\n",
            "re_lu_13 (ReLU)                 (None, 256)          0           batch_normalization_41[0][0]     \n",
            "__________________________________________________________________________________________________\n",
            "dropout_79 (Dropout)            (None, 256)          0           re_lu_12[0][0]                   \n",
            "__________________________________________________________________________________________________\n",
            "dropout_81 (Dropout)            (None, 256)          0           re_lu_13[0][0]                   \n",
            "__________________________________________________________________________________________________\n",
            "last_stage_int (Dense)          (None, 128)          32896       dropout_79[0][0]                 \n",
            "__________________________________________________________________________________________________\n",
            "last_stage_scen (Dense)         (None, 128)          32896       dropout_81[0][0]                 \n",
            "__________________________________________________________________________________________________\n",
            "dropout_80 (Dropout)            (None, 128)          0           last_stage_int[0][0]             \n",
            "__________________________________________________________________________________________________\n",
            "dropout_82 (Dropout)            (None, 128)          0           last_stage_scen[0][0]            \n",
            "__________________________________________________________________________________________________\n",
            "classification_layer_int (Dense (None, 46)           5934        dropout_80[0][0]                 \n",
            "__________________________________________________________________________________________________\n",
            "classification_layer_scen (Dens (None, 18)           2322        dropout_82[0][0]                 \n",
            "==================================================================================================\n",
            "Total params: 7,345,544\n",
            "Trainable params: 7,344,008\n",
            "Non-trainable params: 1,536\n",
            "__________________________________________________________________________________________________\n"
          ],
          "name": "stdout"
        }
      ]
    },
    {
      "cell_type": "markdown",
      "metadata": {
        "id": "W1V009PqD8qo"
      },
      "source": [
        "### Esempio:\n",
        "\n",
        "Di seguito si propone un esempio del chatbot. Dipende da come si porta avanti il processo di training."
      ]
    },
    {
      "cell_type": "code",
      "metadata": {
        "colab": {
          "base_uri": "https://localhost:8080/"
        },
        "id": "q4FMvd5Feck1",
        "outputId": "0f94caba-835d-4ecd-b391-ad93a3774e18"
      },
      "source": [
        "q_n = 33\n",
        "print(\"Question: \",data_all.loc[q_n,'question'])\n",
        "data_all.loc[q_n,'question']\n",
        "onehotted = one_hot(re.sub('\\s{2,}', ' ', re.sub('([.,!?()\\'])', r' \\1 ', data_all.loc[q_n,'question'].lower().strip())),elements1.voc_len,filters='')"
      ],
      "execution_count": null,
      "outputs": [
        {
          "output_type": "stream",
          "text": [
            "Question:  good morning\n"
          ],
          "name": "stdout"
        }
      ]
    },
    {
      "cell_type": "code",
      "metadata": {
        "id": "v_deZgnLiDKV",
        "colab": {
          "base_uri": "https://localhost:8080/"
        },
        "outputId": "5c32f207-73cf-4567-8f1a-cf79a753388a"
      },
      "source": [
        "prediction = model.predict(pad_sequences([onehotted],elements1.pad_max_len, padding='post')) \n",
        "print(\"Confidence is: %f for intent and %f for scenery\"%(prediction[0].max(),prediction[1].max()))\n",
        "print(\"Scenery is: \",train_test['train_set'][1][1].columns[prediction[1].argmax()].replace(\"scen_\",\"\"))\n",
        "print(\"Intent is: \",train_test['train_set'][1][0].columns[prediction[0].argmax()].replace(\"int_\",\"\"))"
      ],
      "execution_count": null,
      "outputs": [
        {
          "output_type": "stream",
          "text": [
            "Confidence is: 0.453207 for intent and 0.600452 for scenery\n",
            "Scenery is:  [[START_CHAT]]\n",
            "Intent is:  ciao\n"
          ],
          "name": "stdout"
        }
      ]
    },
    {
      "cell_type": "markdown",
      "metadata": {
        "id": "xtDHjY3FJE9T"
      },
      "source": [
        "Confrontiamo i risultati di accuracy con i valori contenuti in scenario ed intent:"
      ]
    },
    {
      "cell_type": "code",
      "metadata": {
        "colab": {
          "base_uri": "https://localhost:8080/"
        },
        "id": "b-DVB_cTz3fW",
        "outputId": "36096dc3-84d8-41fe-cbf1-583dc90c1c38"
      },
      "source": [
        "train.scenario.value_counts()"
      ],
      "execution_count": null,
      "outputs": [
        {
          "output_type": "execute_result",
          "data": {
            "text/plain": [
              "calendar          2094\n",
              "play              1822\n",
              "qa                1656\n",
              "email             1230\n",
              "iot                927\n",
              "general            842\n",
              "weather            739\n",
              "transport          724\n",
              "lists              690\n",
              "news               592\n",
              "datetime           502\n",
              "social             499\n",
              "recommendation     482\n",
              "alarm              432\n",
              "music              412\n",
              "takeaway           295\n",
              "cooking            291\n",
              "audio              285\n",
              "Name: scenario, dtype: int64"
            ]
          },
          "metadata": {
            "tags": []
          },
          "execution_count": 32
        }
      ]
    },
    {
      "cell_type": "code",
      "metadata": {
        "colab": {
          "base_uri": "https://localhost:8080/"
        },
        "id": "e3Mw1kmpz8Pe",
        "outputId": "b09874fc-f55a-4ea4-ace6-15422bb649c5"
      },
      "source": [
        "train.intent.value_counts()"
      ],
      "execution_count": null,
      "outputs": [
        {
          "output_type": "execute_result",
          "data": {
            "text/plain": [
              "query              4166\n",
              "set                1213\n",
              "music               841\n",
              "quirky              740\n",
              "factoid             736\n",
              "remove              689\n",
              "sendemail           482\n",
              "radio               385\n",
              "post                379\n",
              "definition          353\n",
              "recipe              289\n",
              "podcasts            265\n",
              "currency            265\n",
              "events              225\n",
              "createoradd         206\n",
              "stock               189\n",
              "locations           179\n",
              "hue_lightoff        172\n",
              "audiobook           167\n",
              "ticket              167\n",
              "game                164\n",
              "hue_lightchange     157\n",
              "querycontact        155\n",
              "likeness            143\n",
              "traffic             140\n",
              "order               139\n",
              "coffee              139\n",
              "taxi                129\n",
              "cleaning            120\n",
              "volume_mute         114\n",
              "maths               113\n",
              "volume_up           101\n",
              "hue_lightup          99\n",
              "hue_lightdim         88\n",
              "joke                 85\n",
              "movies               78\n",
              "wemo_off             69\n",
              "convert              68\n",
              "addcontact           62\n",
              "wemo_on              56\n",
              "settings             56\n",
              "volume_down          53\n",
              "hue_lighton          27\n",
              "dislikeness          17\n",
              "greet                17\n",
              "volume_other         17\n",
              "Name: intent, dtype: int64"
            ]
          },
          "metadata": {
            "tags": []
          },
          "execution_count": 33
        }
      ]
    },
    {
      "cell_type": "code",
      "metadata": {
        "colab": {
          "base_uri": "https://localhost:8080/"
        },
        "id": "BdkWPzgoKmng",
        "outputId": "782ec14c-a414-460e-b815-806e59a78c7c"
      },
      "source": [
        "data_all.intent.value_counts()"
      ],
      "execution_count": null,
      "outputs": [
        {
          "output_type": "execute_result",
          "data": {
            "text/plain": [
              "MTM                                             13\n",
              "apertura_ticket                                 10\n",
              "ciao                                            10\n",
              "guide_MTM                                        9\n",
              "cambio_valore_programmazione_settimanale_MRP     8\n",
              "programmazione_settimanale_MRP                   7\n",
              "enhancement_ultimo_mese                          6\n",
              "anticipo_OSS                                     6\n",
              "cosa_approvare                                   6\n",
              "report_MTM                                       6\n",
              "subPKOSS_1                                       5\n",
              "ordini_su_OSS                                    1\n",
              "programmazione_settimanale_MRP_valore            1\n",
              "programmazione settimanale MRP                   1\n",
              "apertura_ticket_modale                           1\n",
              "Name: intent, dtype: int64"
            ]
          },
          "metadata": {
            "tags": []
          },
          "execution_count": 34
        }
      ]
    },
    {
      "cell_type": "code",
      "metadata": {
        "colab": {
          "base_uri": "https://localhost:8080/"
        },
        "id": "EVX7sbNgKqYN",
        "outputId": "6da2ffb0-e12b-48db-fc2c-f875580f1ab8"
      },
      "source": [
        "data_all.scenario.value_counts()"
      ],
      "execution_count": null,
      "outputs": [
        {
          "output_type": "execute_result",
          "data": {
            "text/plain": [
              "[[START_CHAT]]               84\n",
              "Create a new SubPK on OSS     5\n",
              "Open ticket                   1\n",
              "Name: scenario, dtype: int64"
            ]
          },
          "metadata": {
            "tags": []
          },
          "execution_count": 35
        }
      ]
    },
    {
      "cell_type": "markdown",
      "metadata": {
        "id": "ZwpVl3aVKz_n"
      },
      "source": [
        "Com'è possibile notare, la numerosità degli intent per pattern è bassa in generale, con molti intent che presentano sì e no un solo pattern di riferimento. Questo può essere una delle cause dietro la scarsa confidenza presente per alcuni risultati.\n",
        "\n",
        "Per tal motivo, si suggerisce un processo di **Data Augmentation** apposito."
      ]
    },
    {
      "cell_type": "markdown",
      "metadata": {
        "id": "dpaavMfws2tx"
      },
      "source": [
        "### Error analysis\n",
        "\n",
        "Dall'analisi degli errori risulta essere meglio usare un numero maggiore di patterns per singolo tag di minoranza, ovvero quello da noi utilizzato. Questo tipo di data generation si prefigge l'obiettivo di rendere il dataset error consistent ed, inotre, permetterebbe di avere una generalizzazione dei patterns durante tutto il processo di addestramento. Non solo, ma rendendo in generale il dataset consistente agli errori potremmo contare su una quantità di dati maggiore e, nonsolo, su uno stimatore che più difficilmente può sbagliare.\n",
        "\n",
        "Da provare:\n",
        "\n",
        "- SMOTE\n",
        "- Generazione di dati da testi scritti"
      ]
    },
    {
      "cell_type": "code",
      "metadata": {
        "id": "Hr12HY2is2Yv"
      },
      "source": [
        ""
      ],
      "execution_count": null,
      "outputs": []
    },
    {
      "cell_type": "code",
      "metadata": {
        "id": "2BqnTjRJs0V7"
      },
      "source": [
        "train_test['train_set']"
      ],
      "execution_count": null,
      "outputs": []
    },
    {
      "cell_type": "code",
      "metadata": {
        "colab": {
          "base_uri": "https://localhost:8080/"
        },
        "id": "PRVZNIkpmCPC",
        "outputId": "80ea4a84-1468-40d9-8076-214759abe2ba"
      },
      "source": [
        "model.layers"
      ],
      "execution_count": null,
      "outputs": [
        {
          "output_type": "execute_result",
          "data": {
            "text/plain": [
              "[<tensorflow.python.keras.engine.input_layer.InputLayer at 0x7f5ec9e569b0>,\n",
              " <tensorflow.python.keras.layers.embeddings.Embedding at 0x7f6104367ba8>,\n",
              " <tensorflow.python.keras.layers.embeddings.Embedding at 0x7f613ddde048>,\n",
              " <tensorflow.python.keras.layers.wrappers.Bidirectional at 0x7f610aa13ef0>,\n",
              " <tensorflow.python.keras.layers.convolutional.Conv1D at 0x7f613de01358>,\n",
              " <tensorflow.python.keras.layers.wrappers.Bidirectional at 0x7f613dc56ef0>,\n",
              " <tensorflow.python.keras.layers.convolutional.Conv1D at 0x7f613de014e0>,\n",
              " <tensorflow.python.keras.layers.wrappers.Bidirectional at 0x7f613dd3ea58>,\n",
              " <tensorflow.python.keras.layers.convolutional.Conv1D at 0x7f613de6f048>,\n",
              " <tensorflow.python.keras.layers.wrappers.Bidirectional at 0x7f613dd9ba90>,\n",
              " <tensorflow.python.keras.layers.core.Dense at 0x7f5ec0bc9e48>,\n",
              " <tensorflow.python.keras.layers.core.Dense at 0x7f613de6d8d0>,\n",
              " <tensorflow.python.keras.layers.core.Dense at 0x7f613dec4278>,\n",
              " <tensorflow.python.keras.layers.normalization_v2.BatchNormalization at 0x7f6104306390>,\n",
              " <tensorflow.python.keras.layers.normalization_v2.BatchNormalization at 0x7f613de697b8>,\n",
              " <tensorflow.python.keras.layers.normalization_v2.BatchNormalization at 0x7f613debf358>,\n",
              " <tensorflow.python.keras.layers.advanced_activations.ReLU at 0x7f6104319198>,\n",
              " <tensorflow.python.keras.layers.advanced_activations.ReLU at 0x7f613de63dd8>,\n",
              " <tensorflow.python.keras.layers.advanced_activations.ReLU at 0x7f613debb390>,\n",
              " <tensorflow.python.keras.layers.core.Dense at 0x7f61043994a8>,\n",
              " <tensorflow.python.keras.layers.core.Dense at 0x7f613de604e0>,\n",
              " <tensorflow.python.keras.layers.core.Dense at 0x7f613debb358>,\n",
              " <tensorflow.python.keras.layers.normalization_v2.BatchNormalization at 0x7f61043db978>,\n",
              " <tensorflow.python.keras.layers.normalization_v2.BatchNormalization at 0x7f613de5d7f0>,\n",
              " <tensorflow.python.keras.layers.normalization_v2.BatchNormalization at 0x7f613deb4358>,\n",
              " <tensorflow.python.keras.layers.advanced_activations.ReLU at 0x7f61042c4278>,\n",
              " <tensorflow.python.keras.layers.advanced_activations.ReLU at 0x7f613de568d0>,\n",
              " <tensorflow.python.keras.layers.advanced_activations.ReLU at 0x7f613deb2550>,\n",
              " <tensorflow.python.keras.layers.core.Dense at 0x7f61042c4358>,\n",
              " <tensorflow.python.keras.layers.core.Dense at 0x7f613de590b8>,\n",
              " <tensorflow.python.keras.layers.core.Dense at 0x7f613deb06a0>,\n",
              " <tensorflow.python.keras.layers.normalization_v2.BatchNormalization at 0x7f61044c4860>,\n",
              " <tensorflow.python.keras.layers.normalization_v2.BatchNormalization at 0x7f613decbda0>,\n",
              " <tensorflow.python.keras.layers.normalization_v2.BatchNormalization at 0x7f613dea8160>,\n",
              " <tensorflow.python.keras.layers.merge.Concatenate at 0x7f613de6ecc0>,\n",
              " <tensorflow.python.keras.layers.advanced_activations.ReLU at 0x7f610a965748>,\n",
              " <tensorflow.python.keras.layers.advanced_activations.ReLU at 0x7f613dec8048>,\n",
              " <tensorflow.python.keras.layers.advanced_activations.ReLU at 0x7f613dea6400>,\n",
              " <tensorflow.python.keras.layers.core.Dropout at 0x7f613de6d978>,\n",
              " <tensorflow.python.keras.layers.core.Dropout at 0x7f610aa0da58>,\n",
              " <tensorflow.python.keras.layers.core.Dropout at 0x7f613dec8940>,\n",
              " <tensorflow.python.keras.layers.core.Dropout at 0x7f613dea4630>,\n",
              " <tensorflow.python.keras.layers.merge.Concatenate at 0x7f613de9cb00>,\n",
              " <tensorflow.python.keras.layers.core.Dropout at 0x7f613de98a20>,\n",
              " <tensorflow.python.keras.layers.core.Flatten at 0x7f613de946a0>,\n",
              " <tensorflow.python.keras.layers.core.Flatten at 0x7f613df011d0>,\n",
              " <tensorflow.python.keras.layers.core.Dense at 0x7f613de94320>,\n",
              " <tensorflow.python.keras.layers.core.Dense at 0x7f613df02cf8>,\n",
              " <tensorflow.python.keras.layers.normalization_v2.BatchNormalization at 0x7f613df12160>,\n",
              " <tensorflow.python.keras.layers.normalization_v2.BatchNormalization at 0x7f613df00828>,\n",
              " <tensorflow.python.keras.layers.advanced_activations.ReLU at 0x7f613df12358>,\n",
              " <tensorflow.python.keras.layers.advanced_activations.ReLU at 0x7f613df00748>,\n",
              " <tensorflow.python.keras.layers.core.Dropout at 0x7f613df10710>,\n",
              " <tensorflow.python.keras.layers.core.Dropout at 0x7f613df004a8>,\n",
              " <tensorflow.python.keras.layers.core.Dense at 0x7f613df045f8>,\n",
              " <tensorflow.python.keras.layers.core.Dense at 0x7f613defa358>]"
            ]
          },
          "metadata": {
            "tags": []
          },
          "execution_count": 132
        }
      ]
    },
    {
      "cell_type": "code",
      "metadata": {
        "id": "2TIg7jjZicpQ"
      },
      "source": [
        "plot_model(model,to_file='model_alt.png',show_shapes=True)"
      ],
      "execution_count": null,
      "outputs": []
    },
    {
      "cell_type": "code",
      "metadata": {
        "id": "VceYg7gti9uU"
      },
      "source": [
        "files.download('model_alt.png')"
      ],
      "execution_count": null,
      "outputs": []
    },
    {
      "cell_type": "code",
      "metadata": {
        "id": "AUKqlrvsKr82"
      },
      "source": [
        "model.summary()"
      ],
      "execution_count": null,
      "outputs": []
    },
    {
      "cell_type": "code",
      "metadata": {
        "id": "RksmXckstTey"
      },
      "source": [
        "#model.evaluate(trial['test_set'][0],trial['test_set'][1],callbacks=callb)"
      ],
      "execution_count": null,
      "outputs": []
    },
    {
      "cell_type": "code",
      "metadata": {
        "id": "FPqw1JhZAncW"
      },
      "source": [
        "question = \"Requested product info\""
      ],
      "execution_count": null,
      "outputs": []
    },
    {
      "cell_type": "code",
      "metadata": {
        "id": "1FOVx0iqQOgM"
      },
      "source": [
        "one_hot_pred = one_hot(question,49)"
      ],
      "execution_count": null,
      "outputs": []
    },
    {
      "cell_type": "code",
      "metadata": {
        "id": "yRjzBdTPDtdX"
      },
      "source": [
        ""
      ],
      "execution_count": null,
      "outputs": []
    },
    {
      "cell_type": "code",
      "metadata": {
        "id": "XNpl_fLFEKrw"
      },
      "source": [
        "el = data_preprocess_alt()"
      ],
      "execution_count": null,
      "outputs": []
    },
    {
      "cell_type": "code",
      "metadata": {
        "id": "5eVO5eXnFIPW"
      },
      "source": [
        "pd.options.display.max_rows "
      ],
      "execution_count": null,
      "outputs": []
    },
    {
      "cell_type": "code",
      "metadata": {
        "id": "QWvqt2gvEy0s"
      },
      "source": [
        "#to calculate vocab length:\n",
        "import seaborn as sns\n",
        "voc_length = len(set([el for k in train.question.apply(el.normalize_sentence) for el in k.split()]))"
      ],
      "execution_count": null,
      "outputs": []
    },
    {
      "cell_type": "code",
      "metadata": {
        "id": "DppVemz6E34e"
      },
      "source": [
        ""
      ],
      "execution_count": null,
      "outputs": []
    },
    {
      "cell_type": "code",
      "metadata": {
        "id": "XGOJBIVdoLIy"
      },
      "source": [
        "train.head()"
      ],
      "execution_count": null,
      "outputs": []
    },
    {
      "cell_type": "code",
      "metadata": {
        "id": "1MQDVR7olrO2"
      },
      "source": [
        "data, tokenizer = el.tokenize_and_filter(train.question.apply(el.normalize_sentence),voc_length)"
      ],
      "execution_count": null,
      "outputs": []
    },
    {
      "cell_type": "code",
      "metadata": {
        "id": "Nvx9fLvboOHx"
      },
      "source": [
        "def evaluate(sentence,max_len):\n",
        "    sentence = el.normalize_sentence(sentence)\n",
        "    START_TOKEN, END_TOKEN = [tokenizer.vocab_size],[tokenizer.vocab_size+1]\n",
        "    sentence = tf.expand_dims(\n",
        "      START_TOKEN + tokenizer.encode(sentence) + END_TOKEN, axis=0)\n",
        "\n",
        "    for i in range(max_len):\n",
        "        predictions = model(inputs=[sentence], training=False)\n",
        "\n",
        "        # select the last word from the seq_len dimension\n",
        "        predictions = predictions[:, -1:, :]\n",
        "        predicted_id = tf.cast(tf.argmax(predictions, axis=-1), tf.int32)\n",
        "\n",
        "        # return the result if the predicted_id is equal to the end token\n",
        "        if tf.equal(predicted_id, END_TOKEN[0]):\n",
        "            break\n",
        "\n",
        "        # concatenated the predicted_id to the output which is given to the decoder\n",
        "        # as its input.\n",
        "        output = tf.concat([output, predicted_id], axis=-1)\n",
        "\n",
        "    return tf.squeeze(output, axis=0)\n",
        "\n",
        "\n",
        "def predict(sentence,voc_len):\n",
        "    prediction = evaluate(sentence,voc_len)\n",
        "\n",
        "    predicted_sentence = tokenizer.decode(\n",
        "        [i for i in prediction if i < tokenizer.vocab_size])\n",
        "\n",
        "    print('Input: {}'.format(sentence))\n",
        "    print('Output: {}'.format(predicted_sentence))\n",
        "\n",
        "    return predicted_sentence"
      ],
      "execution_count": null,
      "outputs": []
    },
    {
      "cell_type": "code",
      "metadata": {
        "id": "_IMNIaQyuSxa"
      },
      "source": [
        "train"
      ],
      "execution_count": null,
      "outputs": []
    },
    {
      "cell_type": "code",
      "metadata": {
        "colab": {
          "base_uri": "https://localhost:8080/"
        },
        "id": "HB56ePCRyvzT",
        "outputId": "9d4ba282-982e-4823-8bbd-aefdbf9c7613"
      },
      "source": [
        "data"
      ],
      "execution_count": null,
      "outputs": [
        {
          "output_type": "execute_result",
          "data": {
            "text/plain": [
              "['hello',\n",
              " ',',\n",
              " 'Greg',\n",
              " 'be',\n",
              " 'upstairs',\n",
              " 'and',\n",
              " 'want',\n",
              " 'to',\n",
              " 'be',\n",
              " 'with',\n",
              " '-PRON-']"
            ]
          },
          "metadata": {
            "tags": []
          },
          "execution_count": 78
        }
      ]
    },
    {
      "cell_type": "markdown",
      "metadata": {
        "id": "wZzgMr446Pcq"
      },
      "source": [
        "### To be worked: \n",
        "\n",
        "- We need to encode the text\n",
        "- We need to make prediction from the encoded text\n",
        "- Error from the predict method of the model."
      ]
    },
    {
      "cell_type": "code",
      "metadata": {
        "id": "ARm3CMg10Yda"
      },
      "source": [
        ""
      ],
      "execution_count": null,
      "outputs": []
    },
    {
      "cell_type": "code",
      "metadata": {
        "id": "zffdz7TOK5eZ"
      },
      "source": [
        ""
      ],
      "execution_count": null,
      "outputs": []
    },
    {
      "cell_type": "markdown",
      "metadata": {
        "id": "2bxiPVlgZiAq"
      },
      "source": [
        "# *Other Approaches*"
      ]
    },
    {
      "cell_type": "code",
      "metadata": {
        "id": "NG2eZ2k3Dfs3",
        "colab": {
          "base_uri": "https://localhost:8080/"
        },
        "outputId": "bb9a6111-1e9d-4787-8f91-5781e68c2888"
      },
      "source": [
        "!wget http://www.cs.cmu.edu/~ark/QA-data/data/Question_Answer_Dataset_v1.2.tar.gz && tar -xvzf Question_Answer_Dataset_v1.2.tar.gz"
      ],
      "execution_count": null,
      "outputs": [
        {
          "output_type": "stream",
          "text": [
            "--2020-12-07 08:43:42--  http://www.cs.cmu.edu/~ark/QA-data/data/Question_Answer_Dataset_v1.2.tar.gz\n",
            "Resolving www.cs.cmu.edu (www.cs.cmu.edu)... 128.2.42.95\n",
            "Connecting to www.cs.cmu.edu (www.cs.cmu.edu)|128.2.42.95|:80... connected.\n",
            "HTTP request sent, awaiting response... 200 OK\n",
            "Length: 8254496 (7.9M) [application/x-gzip]\n",
            "Saving to: ‘Question_Answer_Dataset_v1.2.tar.gz’\n",
            "\n",
            "Question_Answer_Dat 100%[===================>]   7.87M  2.37MB/s    in 3.4s    \n",
            "\n",
            "2020-12-07 08:43:46 (2.30 MB/s) - ‘Question_Answer_Dataset_v1.2.tar.gz’ saved [8254496/8254496]\n",
            "\n",
            "Question_Answer_Dataset_v1.2/\n",
            "Question_Answer_Dataset_v1.2/S08/\n",
            "Question_Answer_Dataset_v1.2/S08/question_answer_pairs.txt\n",
            "Question_Answer_Dataset_v1.2/S08/data/\n",
            "Question_Answer_Dataset_v1.2/S08/data/set4/\n",
            "Question_Answer_Dataset_v1.2/S08/data/set4/a6.txt.clean\n",
            "Question_Answer_Dataset_v1.2/S08/data/set4/a3.txt.clean\n",
            "Question_Answer_Dataset_v1.2/S08/data/set4/a3.txt\n",
            "Question_Answer_Dataset_v1.2/S08/data/set4/a5.txt\n",
            "Question_Answer_Dataset_v1.2/S08/data/set4/a4o.htm\n",
            "Question_Answer_Dataset_v1.2/S08/data/set4/a3.htm\n",
            "Question_Answer_Dataset_v1.2/S08/data/set4/a9.htm\n",
            "Question_Answer_Dataset_v1.2/S08/data/set4/a2.txt\n",
            "Question_Answer_Dataset_v1.2/S08/data/set4/a9.txt.clean\n",
            "Question_Answer_Dataset_v1.2/S08/data/set4/a4.htm\n",
            "Question_Answer_Dataset_v1.2/S08/data/set4/a4.txt\n",
            "Question_Answer_Dataset_v1.2/S08/data/set4/a4.txt.clean\n",
            "Question_Answer_Dataset_v1.2/S08/data/set4/a2.htm\n",
            "Question_Answer_Dataset_v1.2/S08/data/set4/a7o.htm\n",
            "Question_Answer_Dataset_v1.2/S08/data/set4/a6.txt\n",
            "Question_Answer_Dataset_v1.2/S08/data/set4/a5o.htm\n",
            "Question_Answer_Dataset_v1.2/S08/data/set4/a1o.htm\n",
            "Question_Answer_Dataset_v1.2/S08/data/set4/a9o.htm\n",
            "Question_Answer_Dataset_v1.2/S08/data/set4/a8.txt\n",
            "Question_Answer_Dataset_v1.2/S08/data/set4/a10.htm\n",
            "Question_Answer_Dataset_v1.2/S08/data/set4/a10.txt\n",
            "Question_Answer_Dataset_v1.2/S08/data/set4/a8.txt.clean\n",
            "Question_Answer_Dataset_v1.2/S08/data/set4/topics.txt\n",
            "Question_Answer_Dataset_v1.2/S08/data/set4/a2o.htm\n",
            "Question_Answer_Dataset_v1.2/S08/data/set4/a8.htm\n",
            "Question_Answer_Dataset_v1.2/S08/data/set4/a7.htm\n",
            "Question_Answer_Dataset_v1.2/S08/data/set4/a1.txt.clean\n",
            "Question_Answer_Dataset_v1.2/S08/data/set4/a2.txt.clean\n",
            "Question_Answer_Dataset_v1.2/S08/data/set4/a10.txt.clean\n",
            "Question_Answer_Dataset_v1.2/S08/data/set4/a10o.htm\n",
            "Question_Answer_Dataset_v1.2/S08/data/set4/a6.htm\n",
            "Question_Answer_Dataset_v1.2/S08/data/set4/a7.txt\n",
            "Question_Answer_Dataset_v1.2/S08/data/set4/a9.txt\n",
            "Question_Answer_Dataset_v1.2/S08/data/set4/a6o.htm\n",
            "Question_Answer_Dataset_v1.2/S08/data/set4/a8o.htm\n",
            "Question_Answer_Dataset_v1.2/S08/data/set4/a1.htm\n",
            "Question_Answer_Dataset_v1.2/S08/data/set4/a1.txt\n",
            "Question_Answer_Dataset_v1.2/S08/data/set4/a7.txt.clean\n",
            "Question_Answer_Dataset_v1.2/S08/data/set4/a5.txt.clean\n",
            "Question_Answer_Dataset_v1.2/S08/data/set4/a5.htm\n",
            "Question_Answer_Dataset_v1.2/S08/data/set4/a3o.htm\n",
            "Question_Answer_Dataset_v1.2/S08/data/set3/\n",
            "Question_Answer_Dataset_v1.2/S08/data/set3/a6.txt.clean\n",
            "Question_Answer_Dataset_v1.2/S08/data/set3/a3.txt.clean\n",
            "Question_Answer_Dataset_v1.2/S08/data/set3/a3.txt\n",
            "Question_Answer_Dataset_v1.2/S08/data/set3/a5.txt\n",
            "Question_Answer_Dataset_v1.2/S08/data/set3/a4o.htm\n",
            "Question_Answer_Dataset_v1.2/S08/data/set3/a3.htm\n",
            "Question_Answer_Dataset_v1.2/S08/data/set3/a9.htm\n",
            "Question_Answer_Dataset_v1.2/S08/data/set3/a2.txt\n",
            "Question_Answer_Dataset_v1.2/S08/data/set3/a9.txt.clean\n",
            "Question_Answer_Dataset_v1.2/S08/data/set3/a4.htm\n",
            "Question_Answer_Dataset_v1.2/S08/data/set3/a4.txt\n",
            "Question_Answer_Dataset_v1.2/S08/data/set3/a4.txt.clean\n",
            "Question_Answer_Dataset_v1.2/S08/data/set3/a2.htm\n",
            "Question_Answer_Dataset_v1.2/S08/data/set3/a7o.htm\n",
            "Question_Answer_Dataset_v1.2/S08/data/set3/a6.txt\n",
            "Question_Answer_Dataset_v1.2/S08/data/set3/a5o.htm\n",
            "Question_Answer_Dataset_v1.2/S08/data/set3/a1o.htm\n",
            "Question_Answer_Dataset_v1.2/S08/data/set3/a9o.htm\n",
            "Question_Answer_Dataset_v1.2/S08/data/set3/a8.txt\n",
            "Question_Answer_Dataset_v1.2/S08/data/set3/a10.htm\n",
            "Question_Answer_Dataset_v1.2/S08/data/set3/a10.txt\n",
            "Question_Answer_Dataset_v1.2/S08/data/set3/a8.txt.clean\n",
            "Question_Answer_Dataset_v1.2/S08/data/set3/topics.txt\n",
            "Question_Answer_Dataset_v1.2/S08/data/set3/a2o.htm\n",
            "Question_Answer_Dataset_v1.2/S08/data/set3/a8.htm\n",
            "Question_Answer_Dataset_v1.2/S08/data/set3/a7.htm\n",
            "Question_Answer_Dataset_v1.2/S08/data/set3/a1.txt.clean\n",
            "Question_Answer_Dataset_v1.2/S08/data/set3/a2.txt.clean\n",
            "Question_Answer_Dataset_v1.2/S08/data/set3/a10.txt.clean\n",
            "Question_Answer_Dataset_v1.2/S08/data/set3/a10o.htm\n",
            "Question_Answer_Dataset_v1.2/S08/data/set3/a6.htm\n",
            "Question_Answer_Dataset_v1.2/S08/data/set3/a7.txt\n",
            "Question_Answer_Dataset_v1.2/S08/data/set3/a9.txt\n",
            "Question_Answer_Dataset_v1.2/S08/data/set3/a6o.htm\n",
            "Question_Answer_Dataset_v1.2/S08/data/set3/a8o.htm\n",
            "Question_Answer_Dataset_v1.2/S08/data/set3/a1.htm\n",
            "Question_Answer_Dataset_v1.2/S08/data/set3/a1.txt\n",
            "Question_Answer_Dataset_v1.2/S08/data/set3/a7.txt.clean\n",
            "Question_Answer_Dataset_v1.2/S08/data/set3/a5.txt.clean\n",
            "Question_Answer_Dataset_v1.2/S08/data/set3/a5.htm\n",
            "Question_Answer_Dataset_v1.2/S08/data/set3/a3o.htm\n",
            "Question_Answer_Dataset_v1.2/S08/data/set2/\n",
            "Question_Answer_Dataset_v1.2/S08/data/set2/a6.txt.clean\n",
            "Question_Answer_Dataset_v1.2/S08/data/set2/a3.txt.clean\n",
            "Question_Answer_Dataset_v1.2/S08/data/set2/a3.txt\n",
            "Question_Answer_Dataset_v1.2/S08/data/set2/a5.txt\n",
            "Question_Answer_Dataset_v1.2/S08/data/set2/a4o.htm\n",
            "Question_Answer_Dataset_v1.2/S08/data/set2/a3.htm\n",
            "Question_Answer_Dataset_v1.2/S08/data/set2/a9.htm\n",
            "Question_Answer_Dataset_v1.2/S08/data/set2/a2.txt\n",
            "Question_Answer_Dataset_v1.2/S08/data/set2/a9.txt.clean\n",
            "Question_Answer_Dataset_v1.2/S08/data/set2/a4.htm\n",
            "Question_Answer_Dataset_v1.2/S08/data/set2/a4.txt\n",
            "Question_Answer_Dataset_v1.2/S08/data/set2/a4.txt.clean\n",
            "Question_Answer_Dataset_v1.2/S08/data/set2/a2.htm\n",
            "Question_Answer_Dataset_v1.2/S08/data/set2/a7o.htm\n",
            "Question_Answer_Dataset_v1.2/S08/data/set2/a6.txt\n",
            "Question_Answer_Dataset_v1.2/S08/data/set2/a5o.htm\n",
            "Question_Answer_Dataset_v1.2/S08/data/set2/a1o.htm\n",
            "Question_Answer_Dataset_v1.2/S08/data/set2/a9o.htm\n",
            "Question_Answer_Dataset_v1.2/S08/data/set2/a8.txt\n",
            "Question_Answer_Dataset_v1.2/S08/data/set2/a10.htm\n",
            "Question_Answer_Dataset_v1.2/S08/data/set2/a10.txt\n",
            "Question_Answer_Dataset_v1.2/S08/data/set2/a8.txt.clean\n",
            "Question_Answer_Dataset_v1.2/S08/data/set2/topics.txt\n",
            "Question_Answer_Dataset_v1.2/S08/data/set2/a2o.htm\n",
            "Question_Answer_Dataset_v1.2/S08/data/set2/a8.htm\n",
            "Question_Answer_Dataset_v1.2/S08/data/set2/a7.htm\n",
            "Question_Answer_Dataset_v1.2/S08/data/set2/a1.txt.clean\n",
            "Question_Answer_Dataset_v1.2/S08/data/set2/a2.txt.clean\n",
            "Question_Answer_Dataset_v1.2/S08/data/set2/a10.txt.clean\n",
            "Question_Answer_Dataset_v1.2/S08/data/set2/a10o.htm\n",
            "Question_Answer_Dataset_v1.2/S08/data/set2/a6.htm\n",
            "Question_Answer_Dataset_v1.2/S08/data/set2/a7.txt\n",
            "Question_Answer_Dataset_v1.2/S08/data/set2/a9.txt\n",
            "Question_Answer_Dataset_v1.2/S08/data/set2/a6o.htm\n",
            "Question_Answer_Dataset_v1.2/S08/data/set2/a8o.htm\n",
            "Question_Answer_Dataset_v1.2/S08/data/set2/a1.htm\n",
            "Question_Answer_Dataset_v1.2/S08/data/set2/a1.txt\n",
            "Question_Answer_Dataset_v1.2/S08/data/set2/a7.txt.clean\n",
            "Question_Answer_Dataset_v1.2/S08/data/set2/a5.txt.clean\n",
            "Question_Answer_Dataset_v1.2/S08/data/set2/a5.htm\n",
            "Question_Answer_Dataset_v1.2/S08/data/set2/a3o.htm\n",
            "Question_Answer_Dataset_v1.2/S08/data/set1/\n",
            "Question_Answer_Dataset_v1.2/S08/data/set1/a6.txt.clean\n",
            "Question_Answer_Dataset_v1.2/S08/data/set1/a3.txt.clean\n",
            "Question_Answer_Dataset_v1.2/S08/data/set1/a3.txt\n",
            "Question_Answer_Dataset_v1.2/S08/data/set1/a5.txt\n",
            "Question_Answer_Dataset_v1.2/S08/data/set1/a4o.htm\n",
            "Question_Answer_Dataset_v1.2/S08/data/set1/a3.htm\n",
            "Question_Answer_Dataset_v1.2/S08/data/set1/a9.htm\n",
            "Question_Answer_Dataset_v1.2/S08/data/set1/a2.txt\n",
            "Question_Answer_Dataset_v1.2/S08/data/set1/a9.txt.clean\n",
            "Question_Answer_Dataset_v1.2/S08/data/set1/a4.htm\n",
            "Question_Answer_Dataset_v1.2/S08/data/set1/a4.txt\n",
            "Question_Answer_Dataset_v1.2/S08/data/set1/a4.txt.clean\n",
            "Question_Answer_Dataset_v1.2/S08/data/set1/a2.htm\n",
            "Question_Answer_Dataset_v1.2/S08/data/set1/a7o.htm\n",
            "Question_Answer_Dataset_v1.2/S08/data/set1/a6.txt\n",
            "Question_Answer_Dataset_v1.2/S08/data/set1/a5o.htm\n",
            "Question_Answer_Dataset_v1.2/S08/data/set1/a1o.htm\n",
            "Question_Answer_Dataset_v1.2/S08/data/set1/a9o.htm\n",
            "Question_Answer_Dataset_v1.2/S08/data/set1/a8.txt\n",
            "Question_Answer_Dataset_v1.2/S08/data/set1/a10.htm\n",
            "Question_Answer_Dataset_v1.2/S08/data/set1/a10.txt\n",
            "Question_Answer_Dataset_v1.2/S08/data/set1/a8.txt.clean\n",
            "Question_Answer_Dataset_v1.2/S08/data/set1/topics.txt\n",
            "Question_Answer_Dataset_v1.2/S08/data/set1/a2o.htm\n",
            "Question_Answer_Dataset_v1.2/S08/data/set1/a8.htm\n",
            "Question_Answer_Dataset_v1.2/S08/data/set1/a7.htm\n",
            "Question_Answer_Dataset_v1.2/S08/data/set1/a1.txt.clean\n",
            "Question_Answer_Dataset_v1.2/S08/data/set1/a2.txt.clean\n",
            "Question_Answer_Dataset_v1.2/S08/data/set1/a10.txt.clean\n",
            "Question_Answer_Dataset_v1.2/S08/data/set1/a10o.htm\n",
            "Question_Answer_Dataset_v1.2/S08/data/set1/a6.htm\n",
            "Question_Answer_Dataset_v1.2/S08/data/set1/a7.txt\n",
            "Question_Answer_Dataset_v1.2/S08/data/set1/a9.txt\n",
            "Question_Answer_Dataset_v1.2/S08/data/set1/a6o.htm\n",
            "Question_Answer_Dataset_v1.2/S08/data/set1/a8o.htm\n",
            "Question_Answer_Dataset_v1.2/S08/data/set1/a1.htm\n",
            "Question_Answer_Dataset_v1.2/S08/data/set1/a1.txt\n",
            "Question_Answer_Dataset_v1.2/S08/data/set1/a7.txt.clean\n",
            "Question_Answer_Dataset_v1.2/S08/data/set1/a5.txt.clean\n",
            "Question_Answer_Dataset_v1.2/S08/data/set1/a5.htm\n",
            "Question_Answer_Dataset_v1.2/S08/data/set1/a3o.htm\n",
            "Question_Answer_Dataset_v1.2/S10/\n",
            "Question_Answer_Dataset_v1.2/S10/question_answer_pairs.txt\n",
            "Question_Answer_Dataset_v1.2/S10/data/\n",
            "Question_Answer_Dataset_v1.2/S10/data/set6/\n",
            "Question_Answer_Dataset_v1.2/S10/data/set6/a6.txt.clean\n",
            "Question_Answer_Dataset_v1.2/S10/data/set6/a3.txt.clean\n",
            "Question_Answer_Dataset_v1.2/S10/data/set6/a3.txt\n",
            "Question_Answer_Dataset_v1.2/S10/data/set6/a5.txt\n",
            "Question_Answer_Dataset_v1.2/S10/data/set6/a4o.htm\n",
            "Question_Answer_Dataset_v1.2/S10/data/set6/a3.htm\n",
            "Question_Answer_Dataset_v1.2/S10/data/set6/a9.htm\n",
            "Question_Answer_Dataset_v1.2/S10/data/set6/a2.txt\n",
            "Question_Answer_Dataset_v1.2/S10/data/set6/a9.txt.clean\n",
            "Question_Answer_Dataset_v1.2/S10/data/set6/a4.htm\n",
            "Question_Answer_Dataset_v1.2/S10/data/set6/a4.txt\n",
            "Question_Answer_Dataset_v1.2/S10/data/set6/a4.txt.clean\n",
            "Question_Answer_Dataset_v1.2/S10/data/set6/a2.htm\n",
            "Question_Answer_Dataset_v1.2/S10/data/set6/a7o.htm\n",
            "Question_Answer_Dataset_v1.2/S10/data/set6/a6.txt\n",
            "Question_Answer_Dataset_v1.2/S10/data/set6/a5o.htm\n",
            "Question_Answer_Dataset_v1.2/S10/data/set6/a1o.htm\n",
            "Question_Answer_Dataset_v1.2/S10/data/set6/a9o.htm\n",
            "Question_Answer_Dataset_v1.2/S10/data/set6/a8.txt\n",
            "Question_Answer_Dataset_v1.2/S10/data/set6/a10.htm\n",
            "Question_Answer_Dataset_v1.2/S10/data/set6/a10.txt\n",
            "Question_Answer_Dataset_v1.2/S10/data/set6/a8.txt.clean\n",
            "Question_Answer_Dataset_v1.2/S10/data/set6/topics.txt\n",
            "Question_Answer_Dataset_v1.2/S10/data/set6/a2o.htm\n",
            "Question_Answer_Dataset_v1.2/S10/data/set6/a8.htm\n",
            "Question_Answer_Dataset_v1.2/S10/data/set6/a7.htm\n",
            "Question_Answer_Dataset_v1.2/S10/data/set6/a1.txt.clean\n",
            "Question_Answer_Dataset_v1.2/S10/data/set6/a2.txt.clean\n",
            "Question_Answer_Dataset_v1.2/S10/data/set6/a10.txt.clean\n",
            "Question_Answer_Dataset_v1.2/S10/data/set6/a10o.htm\n",
            "Question_Answer_Dataset_v1.2/S10/data/set6/a6.htm\n",
            "Question_Answer_Dataset_v1.2/S10/data/set6/a7.txt\n",
            "Question_Answer_Dataset_v1.2/S10/data/set6/a9.txt\n",
            "Question_Answer_Dataset_v1.2/S10/data/set6/a6o.htm\n",
            "Question_Answer_Dataset_v1.2/S10/data/set6/a8o.htm\n",
            "Question_Answer_Dataset_v1.2/S10/data/set6/a1.htm\n",
            "Question_Answer_Dataset_v1.2/S10/data/set6/a1.txt\n",
            "Question_Answer_Dataset_v1.2/S10/data/set6/a7.txt.clean\n",
            "Question_Answer_Dataset_v1.2/S10/data/set6/a5.txt.clean\n",
            "Question_Answer_Dataset_v1.2/S10/data/set6/a5.htm\n",
            "Question_Answer_Dataset_v1.2/S10/data/set6/a3o.htm\n",
            "Question_Answer_Dataset_v1.2/S10/data/set4/\n",
            "Question_Answer_Dataset_v1.2/S10/data/set4/a6.txt.clean\n",
            "Question_Answer_Dataset_v1.2/S10/data/set4/a3.txt.clean\n",
            "Question_Answer_Dataset_v1.2/S10/data/set4/a3.txt\n",
            "Question_Answer_Dataset_v1.2/S10/data/set4/a5.txt\n",
            "Question_Answer_Dataset_v1.2/S10/data/set4/a4o.htm\n",
            "Question_Answer_Dataset_v1.2/S10/data/set4/a3.htm\n",
            "Question_Answer_Dataset_v1.2/S10/data/set4/a9.htm\n",
            "Question_Answer_Dataset_v1.2/S10/data/set4/a2.txt\n",
            "Question_Answer_Dataset_v1.2/S10/data/set4/a9.txt.clean\n",
            "Question_Answer_Dataset_v1.2/S10/data/set4/a4.htm\n",
            "Question_Answer_Dataset_v1.2/S10/data/set4/a4.txt\n",
            "Question_Answer_Dataset_v1.2/S10/data/set4/a4.txt.clean\n",
            "Question_Answer_Dataset_v1.2/S10/data/set4/a2.htm\n",
            "Question_Answer_Dataset_v1.2/S10/data/set4/a7o.htm\n",
            "Question_Answer_Dataset_v1.2/S10/data/set4/a6.txt\n",
            "Question_Answer_Dataset_v1.2/S10/data/set4/a5o.htm\n",
            "Question_Answer_Dataset_v1.2/S10/data/set4/a1o.htm\n",
            "Question_Answer_Dataset_v1.2/S10/data/set4/a9o.htm\n",
            "Question_Answer_Dataset_v1.2/S10/data/set4/a8.txt\n",
            "Question_Answer_Dataset_v1.2/S10/data/set4/a10.htm\n",
            "Question_Answer_Dataset_v1.2/S10/data/set4/a10.txt\n",
            "Question_Answer_Dataset_v1.2/S10/data/set4/a8.txt.clean\n",
            "Question_Answer_Dataset_v1.2/S10/data/set4/topics.txt\n",
            "Question_Answer_Dataset_v1.2/S10/data/set4/a2o.htm\n",
            "Question_Answer_Dataset_v1.2/S10/data/set4/a8.htm\n",
            "Question_Answer_Dataset_v1.2/S10/data/set4/a7.htm\n",
            "Question_Answer_Dataset_v1.2/S10/data/set4/a1.txt.clean\n",
            "Question_Answer_Dataset_v1.2/S10/data/set4/a2.txt.clean\n",
            "Question_Answer_Dataset_v1.2/S10/data/set4/a10.txt.clean\n",
            "Question_Answer_Dataset_v1.2/S10/data/set4/a10o.htm\n",
            "Question_Answer_Dataset_v1.2/S10/data/set4/a6.htm\n",
            "Question_Answer_Dataset_v1.2/S10/data/set4/a7.txt\n",
            "Question_Answer_Dataset_v1.2/S10/data/set4/a9.txt\n",
            "Question_Answer_Dataset_v1.2/S10/data/set4/a6o.htm\n",
            "Question_Answer_Dataset_v1.2/S10/data/set4/a8o.htm\n",
            "Question_Answer_Dataset_v1.2/S10/data/set4/a1.htm\n",
            "Question_Answer_Dataset_v1.2/S10/data/set4/a1.txt\n",
            "Question_Answer_Dataset_v1.2/S10/data/set4/a7.txt.clean\n",
            "Question_Answer_Dataset_v1.2/S10/data/set4/a5.txt.clean\n",
            "Question_Answer_Dataset_v1.2/S10/data/set4/a5.htm\n",
            "Question_Answer_Dataset_v1.2/S10/data/set4/a3o.htm\n",
            "Question_Answer_Dataset_v1.2/S10/data/set3/\n",
            "Question_Answer_Dataset_v1.2/S10/data/set3/a6.txt.clean\n",
            "Question_Answer_Dataset_v1.2/S10/data/set3/a3.txt.clean\n",
            "Question_Answer_Dataset_v1.2/S10/data/set3/a3.txt\n",
            "Question_Answer_Dataset_v1.2/S10/data/set3/a5.txt\n",
            "Question_Answer_Dataset_v1.2/S10/data/set3/a4o.htm\n",
            "Question_Answer_Dataset_v1.2/S10/data/set3/a3.htm\n",
            "Question_Answer_Dataset_v1.2/S10/data/set3/a9.htm\n",
            "Question_Answer_Dataset_v1.2/S10/data/set3/a2.txt\n",
            "Question_Answer_Dataset_v1.2/S10/data/set3/a9.txt.clean\n",
            "Question_Answer_Dataset_v1.2/S10/data/set3/a4.htm\n",
            "Question_Answer_Dataset_v1.2/S10/data/set3/a4.txt\n",
            "Question_Answer_Dataset_v1.2/S10/data/set3/a4.txt.clean\n",
            "Question_Answer_Dataset_v1.2/S10/data/set3/a2.htm\n",
            "Question_Answer_Dataset_v1.2/S10/data/set3/a7o.htm\n",
            "Question_Answer_Dataset_v1.2/S10/data/set3/a6.txt\n",
            "Question_Answer_Dataset_v1.2/S10/data/set3/a5o.htm\n",
            "Question_Answer_Dataset_v1.2/S10/data/set3/a1o.htm\n",
            "Question_Answer_Dataset_v1.2/S10/data/set3/a9o.htm\n",
            "Question_Answer_Dataset_v1.2/S10/data/set3/a8.txt\n",
            "Question_Answer_Dataset_v1.2/S10/data/set3/a10.htm\n",
            "Question_Answer_Dataset_v1.2/S10/data/set3/a10.txt\n",
            "Question_Answer_Dataset_v1.2/S10/data/set3/a8.txt.clean\n",
            "Question_Answer_Dataset_v1.2/S10/data/set3/topics.txt\n",
            "Question_Answer_Dataset_v1.2/S10/data/set3/a2o.htm\n",
            "Question_Answer_Dataset_v1.2/S10/data/set3/a8.htm\n",
            "Question_Answer_Dataset_v1.2/S10/data/set3/a7.htm\n",
            "Question_Answer_Dataset_v1.2/S10/data/set3/a1.txt.clean\n",
            "Question_Answer_Dataset_v1.2/S10/data/set3/a2.txt.clean\n",
            "Question_Answer_Dataset_v1.2/S10/data/set3/a10.txt.clean\n",
            "Question_Answer_Dataset_v1.2/S10/data/set3/a10o.htm\n",
            "Question_Answer_Dataset_v1.2/S10/data/set3/a6.htm\n",
            "Question_Answer_Dataset_v1.2/S10/data/set3/a7.txt\n",
            "Question_Answer_Dataset_v1.2/S10/data/set3/a9.txt\n",
            "Question_Answer_Dataset_v1.2/S10/data/set3/a6o.htm\n",
            "Question_Answer_Dataset_v1.2/S10/data/set3/a8o.htm\n",
            "Question_Answer_Dataset_v1.2/S10/data/set3/a1.htm\n",
            "Question_Answer_Dataset_v1.2/S10/data/set3/a1.txt\n",
            "Question_Answer_Dataset_v1.2/S10/data/set3/a7.txt.clean\n",
            "Question_Answer_Dataset_v1.2/S10/data/set3/a5.txt.clean\n",
            "Question_Answer_Dataset_v1.2/S10/data/set3/a5.htm\n",
            "Question_Answer_Dataset_v1.2/S10/data/set3/a3o.htm\n",
            "Question_Answer_Dataset_v1.2/S10/data/set2/\n",
            "Question_Answer_Dataset_v1.2/S10/data/set2/a6.txt.clean\n",
            "Question_Answer_Dataset_v1.2/S10/data/set2/a3.txt.clean\n",
            "Question_Answer_Dataset_v1.2/S10/data/set2/a3.txt\n",
            "Question_Answer_Dataset_v1.2/S10/data/set2/a5.txt\n",
            "Question_Answer_Dataset_v1.2/S10/data/set2/a4o.htm\n",
            "Question_Answer_Dataset_v1.2/S10/data/set2/a3.htm\n",
            "Question_Answer_Dataset_v1.2/S10/data/set2/a9.htm\n",
            "Question_Answer_Dataset_v1.2/S10/data/set2/a2.txt\n",
            "Question_Answer_Dataset_v1.2/S10/data/set2/a9.txt.clean\n",
            "Question_Answer_Dataset_v1.2/S10/data/set2/a4.htm\n",
            "Question_Answer_Dataset_v1.2/S10/data/set2/a4.txt\n",
            "Question_Answer_Dataset_v1.2/S10/data/set2/a4.txt.clean\n",
            "Question_Answer_Dataset_v1.2/S10/data/set2/a2.htm\n",
            "Question_Answer_Dataset_v1.2/S10/data/set2/a7o.htm\n",
            "Question_Answer_Dataset_v1.2/S10/data/set2/a6.txt\n",
            "Question_Answer_Dataset_v1.2/S10/data/set2/a5o.htm\n",
            "Question_Answer_Dataset_v1.2/S10/data/set2/a1o.htm\n",
            "Question_Answer_Dataset_v1.2/S10/data/set2/a9o.htm\n",
            "Question_Answer_Dataset_v1.2/S10/data/set2/a8.txt\n",
            "Question_Answer_Dataset_v1.2/S10/data/set2/a10.htm\n",
            "Question_Answer_Dataset_v1.2/S10/data/set2/a10.txt\n",
            "Question_Answer_Dataset_v1.2/S10/data/set2/a8.txt.clean\n",
            "Question_Answer_Dataset_v1.2/S10/data/set2/topics.txt\n",
            "Question_Answer_Dataset_v1.2/S10/data/set2/a2o.htm\n",
            "Question_Answer_Dataset_v1.2/S10/data/set2/a8.htm\n",
            "Question_Answer_Dataset_v1.2/S10/data/set2/a7.htm\n",
            "Question_Answer_Dataset_v1.2/S10/data/set2/a1.txt.clean\n",
            "Question_Answer_Dataset_v1.2/S10/data/set2/a2.txt.clean\n",
            "Question_Answer_Dataset_v1.2/S10/data/set2/a10.txt.clean\n",
            "Question_Answer_Dataset_v1.2/S10/data/set2/a10o.htm\n",
            "Question_Answer_Dataset_v1.2/S10/data/set2/a6.htm\n",
            "Question_Answer_Dataset_v1.2/S10/data/set2/a7.txt\n",
            "Question_Answer_Dataset_v1.2/S10/data/set2/a9.txt\n",
            "Question_Answer_Dataset_v1.2/S10/data/set2/a6o.htm\n",
            "Question_Answer_Dataset_v1.2/S10/data/set2/a8o.htm\n",
            "Question_Answer_Dataset_v1.2/S10/data/set2/a1.htm\n",
            "Question_Answer_Dataset_v1.2/S10/data/set2/a1.txt\n",
            "Question_Answer_Dataset_v1.2/S10/data/set2/a7.txt.clean\n",
            "Question_Answer_Dataset_v1.2/S10/data/set2/a5.txt.clean\n",
            "Question_Answer_Dataset_v1.2/S10/data/set2/a5.htm\n",
            "Question_Answer_Dataset_v1.2/S10/data/set2/a3o.htm\n",
            "Question_Answer_Dataset_v1.2/S10/data/set5/\n",
            "Question_Answer_Dataset_v1.2/S10/data/set5/a6.txt.clean\n",
            "Question_Answer_Dataset_v1.2/S10/data/set5/a3.txt.clean\n",
            "Question_Answer_Dataset_v1.2/S10/data/set5/a3.txt\n",
            "Question_Answer_Dataset_v1.2/S10/data/set5/a5.txt\n",
            "Question_Answer_Dataset_v1.2/S10/data/set5/a4o.htm\n",
            "Question_Answer_Dataset_v1.2/S10/data/set5/a3.htm\n",
            "Question_Answer_Dataset_v1.2/S10/data/set5/a9.htm\n",
            "Question_Answer_Dataset_v1.2/S10/data/set5/a2.txt\n",
            "Question_Answer_Dataset_v1.2/S10/data/set5/a9.txt.clean\n",
            "Question_Answer_Dataset_v1.2/S10/data/set5/a4.htm\n",
            "Question_Answer_Dataset_v1.2/S10/data/set5/a4.txt\n",
            "Question_Answer_Dataset_v1.2/S10/data/set5/a4.txt.clean\n",
            "Question_Answer_Dataset_v1.2/S10/data/set5/a2.htm\n",
            "Question_Answer_Dataset_v1.2/S10/data/set5/a7o.htm\n",
            "Question_Answer_Dataset_v1.2/S10/data/set5/a6.txt\n",
            "Question_Answer_Dataset_v1.2/S10/data/set5/a5o.htm\n",
            "Question_Answer_Dataset_v1.2/S10/data/set5/a1o.htm\n",
            "Question_Answer_Dataset_v1.2/S10/data/set5/a9o.htm\n",
            "Question_Answer_Dataset_v1.2/S10/data/set5/a8.txt\n",
            "Question_Answer_Dataset_v1.2/S10/data/set5/a10.htm\n",
            "Question_Answer_Dataset_v1.2/S10/data/set5/a10.txt\n",
            "Question_Answer_Dataset_v1.2/S10/data/set5/a8.txt.clean\n",
            "Question_Answer_Dataset_v1.2/S10/data/set5/topics.txt\n",
            "Question_Answer_Dataset_v1.2/S10/data/set5/a2o.htm\n",
            "Question_Answer_Dataset_v1.2/S10/data/set5/a8.htm\n",
            "Question_Answer_Dataset_v1.2/S10/data/set5/a7.htm\n",
            "Question_Answer_Dataset_v1.2/S10/data/set5/a1.txt.clean\n",
            "Question_Answer_Dataset_v1.2/S10/data/set5/a2.txt.clean\n",
            "Question_Answer_Dataset_v1.2/S10/data/set5/a10.txt.clean\n",
            "Question_Answer_Dataset_v1.2/S10/data/set5/a10o.htm\n",
            "Question_Answer_Dataset_v1.2/S10/data/set5/a6.htm\n",
            "Question_Answer_Dataset_v1.2/S10/data/set5/a7.txt\n",
            "Question_Answer_Dataset_v1.2/S10/data/set5/a9.txt\n",
            "Question_Answer_Dataset_v1.2/S10/data/set5/a6o.htm\n",
            "Question_Answer_Dataset_v1.2/S10/data/set5/a8o.htm\n",
            "Question_Answer_Dataset_v1.2/S10/data/set5/a1.htm\n",
            "Question_Answer_Dataset_v1.2/S10/data/set5/a1.txt\n",
            "Question_Answer_Dataset_v1.2/S10/data/set5/a7.txt.clean\n",
            "Question_Answer_Dataset_v1.2/S10/data/set5/a5.txt.clean\n",
            "Question_Answer_Dataset_v1.2/S10/data/set5/a5.htm\n",
            "Question_Answer_Dataset_v1.2/S10/data/set5/a3o.htm\n",
            "Question_Answer_Dataset_v1.2/S10/data/set1/\n",
            "Question_Answer_Dataset_v1.2/S10/data/set1/a6.txt.clean\n",
            "Question_Answer_Dataset_v1.2/S10/data/set1/a3.txt.clean\n",
            "Question_Answer_Dataset_v1.2/S10/data/set1/a3.txt\n",
            "Question_Answer_Dataset_v1.2/S10/data/set1/a5.txt\n",
            "Question_Answer_Dataset_v1.2/S10/data/set1/a4o.htm\n",
            "Question_Answer_Dataset_v1.2/S10/data/set1/a3.htm\n",
            "Question_Answer_Dataset_v1.2/S10/data/set1/a9.htm\n",
            "Question_Answer_Dataset_v1.2/S10/data/set1/a2.txt\n",
            "Question_Answer_Dataset_v1.2/S10/data/set1/a9.txt.clean\n",
            "Question_Answer_Dataset_v1.2/S10/data/set1/a4.htm\n",
            "Question_Answer_Dataset_v1.2/S10/data/set1/a4.txt\n",
            "Question_Answer_Dataset_v1.2/S10/data/set1/a4.txt.clean\n",
            "Question_Answer_Dataset_v1.2/S10/data/set1/a2.htm\n",
            "Question_Answer_Dataset_v1.2/S10/data/set1/a7o.htm\n",
            "Question_Answer_Dataset_v1.2/S10/data/set1/a6.txt\n",
            "Question_Answer_Dataset_v1.2/S10/data/set1/a5o.htm\n",
            "Question_Answer_Dataset_v1.2/S10/data/set1/a1o.htm\n",
            "Question_Answer_Dataset_v1.2/S10/data/set1/a9o.htm\n",
            "Question_Answer_Dataset_v1.2/S10/data/set1/a8.txt\n",
            "Question_Answer_Dataset_v1.2/S10/data/set1/a10.htm\n",
            "Question_Answer_Dataset_v1.2/S10/data/set1/a10.txt\n",
            "Question_Answer_Dataset_v1.2/S10/data/set1/a8.txt.clean\n",
            "Question_Answer_Dataset_v1.2/S10/data/set1/topics.txt\n",
            "Question_Answer_Dataset_v1.2/S10/data/set1/a2o.htm\n",
            "Question_Answer_Dataset_v1.2/S10/data/set1/a8.htm\n",
            "Question_Answer_Dataset_v1.2/S10/data/set1/a7.htm\n",
            "Question_Answer_Dataset_v1.2/S10/data/set1/a1.txt.clean\n",
            "Question_Answer_Dataset_v1.2/S10/data/set1/a2.txt.clean\n",
            "Question_Answer_Dataset_v1.2/S10/data/set1/a10.txt.clean\n",
            "Question_Answer_Dataset_v1.2/S10/data/set1/a10o.htm\n",
            "Question_Answer_Dataset_v1.2/S10/data/set1/a6.htm\n",
            "Question_Answer_Dataset_v1.2/S10/data/set1/a7.txt\n",
            "Question_Answer_Dataset_v1.2/S10/data/set1/a9.txt\n",
            "Question_Answer_Dataset_v1.2/S10/data/set1/a6o.htm\n",
            "Question_Answer_Dataset_v1.2/S10/data/set1/a8o.htm\n",
            "Question_Answer_Dataset_v1.2/S10/data/set1/a1.htm\n",
            "Question_Answer_Dataset_v1.2/S10/data/set1/a1.txt\n",
            "Question_Answer_Dataset_v1.2/S10/data/set1/a7.txt.clean\n",
            "Question_Answer_Dataset_v1.2/S10/data/set1/a5.txt.clean\n",
            "Question_Answer_Dataset_v1.2/S10/data/set1/a5.htm\n",
            "Question_Answer_Dataset_v1.2/S10/data/set1/a3o.htm\n",
            "Question_Answer_Dataset_v1.2/LICENSE-S08,S09\n",
            "Question_Answer_Dataset_v1.2/README.v1.2\n",
            "Question_Answer_Dataset_v1.2/S09/\n",
            "Question_Answer_Dataset_v1.2/S09/question_answer_pairs.txt\n",
            "Question_Answer_Dataset_v1.2/S09/data/\n",
            "Question_Answer_Dataset_v1.2/S09/data/set4/\n",
            "Question_Answer_Dataset_v1.2/S09/data/set4/a6.txt.clean\n",
            "Question_Answer_Dataset_v1.2/S09/data/set4/a3.txt.clean\n",
            "Question_Answer_Dataset_v1.2/S09/data/set4/a3.txt\n",
            "Question_Answer_Dataset_v1.2/S09/data/set4/a5.txt\n",
            "Question_Answer_Dataset_v1.2/S09/data/set4/a4o.htm\n",
            "Question_Answer_Dataset_v1.2/S09/data/set4/a3.htm\n",
            "Question_Answer_Dataset_v1.2/S09/data/set4/a9.htm\n",
            "Question_Answer_Dataset_v1.2/S09/data/set4/a2.txt\n",
            "Question_Answer_Dataset_v1.2/S09/data/set4/a9.txt.clean\n",
            "Question_Answer_Dataset_v1.2/S09/data/set4/a4.htm\n",
            "Question_Answer_Dataset_v1.2/S09/data/set4/a4.txt\n",
            "Question_Answer_Dataset_v1.2/S09/data/set4/a4.txt.clean\n",
            "Question_Answer_Dataset_v1.2/S09/data/set4/a2.htm\n",
            "Question_Answer_Dataset_v1.2/S09/data/set4/a7o.htm\n",
            "Question_Answer_Dataset_v1.2/S09/data/set4/a6.txt\n",
            "Question_Answer_Dataset_v1.2/S09/data/set4/a5o.htm\n",
            "Question_Answer_Dataset_v1.2/S09/data/set4/a1o.htm\n",
            "Question_Answer_Dataset_v1.2/S09/data/set4/a9o.htm\n",
            "Question_Answer_Dataset_v1.2/S09/data/set4/a8.txt\n",
            "Question_Answer_Dataset_v1.2/S09/data/set4/a10.htm\n",
            "Question_Answer_Dataset_v1.2/S09/data/set4/a10.txt\n",
            "Question_Answer_Dataset_v1.2/S09/data/set4/a8.txt.clean\n",
            "Question_Answer_Dataset_v1.2/S09/data/set4/topics.txt\n",
            "Question_Answer_Dataset_v1.2/S09/data/set4/a2o.htm\n",
            "Question_Answer_Dataset_v1.2/S09/data/set4/a8.htm\n",
            "Question_Answer_Dataset_v1.2/S09/data/set4/a7.htm\n",
            "Question_Answer_Dataset_v1.2/S09/data/set4/a1.txt.clean\n",
            "Question_Answer_Dataset_v1.2/S09/data/set4/a2.txt.clean\n",
            "Question_Answer_Dataset_v1.2/S09/data/set4/a10.txt.clean\n",
            "Question_Answer_Dataset_v1.2/S09/data/set4/a10o.htm\n",
            "Question_Answer_Dataset_v1.2/S09/data/set4/a6.htm\n",
            "Question_Answer_Dataset_v1.2/S09/data/set4/a7.txt\n",
            "Question_Answer_Dataset_v1.2/S09/data/set4/a9.txt\n",
            "Question_Answer_Dataset_v1.2/S09/data/set4/a6o.htm\n",
            "Question_Answer_Dataset_v1.2/S09/data/set4/a8o.htm\n",
            "Question_Answer_Dataset_v1.2/S09/data/set4/a1.htm\n",
            "Question_Answer_Dataset_v1.2/S09/data/set4/a1.txt\n",
            "Question_Answer_Dataset_v1.2/S09/data/set4/a7.txt.clean\n",
            "Question_Answer_Dataset_v1.2/S09/data/set4/a5.txt.clean\n",
            "Question_Answer_Dataset_v1.2/S09/data/set4/a5.htm\n",
            "Question_Answer_Dataset_v1.2/S09/data/set4/a3o.htm\n",
            "Question_Answer_Dataset_v1.2/S09/data/set3/\n",
            "Question_Answer_Dataset_v1.2/S09/data/set3/a6.txt.clean\n",
            "Question_Answer_Dataset_v1.2/S09/data/set3/a3.txt.clean\n",
            "Question_Answer_Dataset_v1.2/S09/data/set3/a3.txt\n",
            "Question_Answer_Dataset_v1.2/S09/data/set3/a5.txt\n",
            "Question_Answer_Dataset_v1.2/S09/data/set3/a4o.htm\n",
            "Question_Answer_Dataset_v1.2/S09/data/set3/a3.htm\n",
            "Question_Answer_Dataset_v1.2/S09/data/set3/a9.htm\n",
            "Question_Answer_Dataset_v1.2/S09/data/set3/a2.txt\n",
            "Question_Answer_Dataset_v1.2/S09/data/set3/a9.txt.clean\n",
            "Question_Answer_Dataset_v1.2/S09/data/set3/a4.htm\n",
            "Question_Answer_Dataset_v1.2/S09/data/set3/a4.txt\n",
            "Question_Answer_Dataset_v1.2/S09/data/set3/a4.txt.clean\n",
            "Question_Answer_Dataset_v1.2/S09/data/set3/a2.htm\n",
            "Question_Answer_Dataset_v1.2/S09/data/set3/a7o.htm\n",
            "Question_Answer_Dataset_v1.2/S09/data/set3/a6.txt\n",
            "Question_Answer_Dataset_v1.2/S09/data/set3/a5o.htm\n",
            "Question_Answer_Dataset_v1.2/S09/data/set3/a1o.htm\n",
            "Question_Answer_Dataset_v1.2/S09/data/set3/a9o.htm\n",
            "Question_Answer_Dataset_v1.2/S09/data/set3/a8.txt\n",
            "Question_Answer_Dataset_v1.2/S09/data/set3/a10.htm\n",
            "Question_Answer_Dataset_v1.2/S09/data/set3/a10.txt\n",
            "Question_Answer_Dataset_v1.2/S09/data/set3/a8.txt.clean\n",
            "Question_Answer_Dataset_v1.2/S09/data/set3/topics.txt\n",
            "Question_Answer_Dataset_v1.2/S09/data/set3/a2o.htm\n",
            "Question_Answer_Dataset_v1.2/S09/data/set3/a8.htm\n",
            "Question_Answer_Dataset_v1.2/S09/data/set3/a7.htm\n",
            "Question_Answer_Dataset_v1.2/S09/data/set3/a1.txt.clean\n",
            "Question_Answer_Dataset_v1.2/S09/data/set3/a2.txt.clean\n",
            "Question_Answer_Dataset_v1.2/S09/data/set3/a10.txt.clean\n",
            "Question_Answer_Dataset_v1.2/S09/data/set3/a10o.htm\n",
            "Question_Answer_Dataset_v1.2/S09/data/set3/a6.htm\n",
            "Question_Answer_Dataset_v1.2/S09/data/set3/a7.txt\n",
            "Question_Answer_Dataset_v1.2/S09/data/set3/a9.txt\n",
            "Question_Answer_Dataset_v1.2/S09/data/set3/a6o.htm\n",
            "Question_Answer_Dataset_v1.2/S09/data/set3/a8o.htm\n",
            "Question_Answer_Dataset_v1.2/S09/data/set3/a1.htm\n",
            "Question_Answer_Dataset_v1.2/S09/data/set3/a1.txt\n",
            "Question_Answer_Dataset_v1.2/S09/data/set3/a7.txt.clean\n",
            "Question_Answer_Dataset_v1.2/S09/data/set3/a5.txt.clean\n",
            "Question_Answer_Dataset_v1.2/S09/data/set3/a5.htm\n",
            "Question_Answer_Dataset_v1.2/S09/data/set3/a3o.htm\n",
            "Question_Answer_Dataset_v1.2/S09/data/set2/\n",
            "Question_Answer_Dataset_v1.2/S09/data/set2/a6.txt.clean\n",
            "Question_Answer_Dataset_v1.2/S09/data/set2/a3.txt.clean\n",
            "Question_Answer_Dataset_v1.2/S09/data/set2/a3.txt\n",
            "Question_Answer_Dataset_v1.2/S09/data/set2/a5.txt\n",
            "Question_Answer_Dataset_v1.2/S09/data/set2/a4o.htm\n",
            "Question_Answer_Dataset_v1.2/S09/data/set2/a3.htm\n",
            "Question_Answer_Dataset_v1.2/S09/data/set2/a9.htm\n",
            "Question_Answer_Dataset_v1.2/S09/data/set2/a2.txt\n",
            "Question_Answer_Dataset_v1.2/S09/data/set2/a9.txt.clean\n",
            "Question_Answer_Dataset_v1.2/S09/data/set2/a4.htm\n",
            "Question_Answer_Dataset_v1.2/S09/data/set2/a4.txt\n",
            "Question_Answer_Dataset_v1.2/S09/data/set2/a4.txt.clean\n",
            "Question_Answer_Dataset_v1.2/S09/data/set2/a2.htm\n",
            "Question_Answer_Dataset_v1.2/S09/data/set2/a7o.htm\n",
            "Question_Answer_Dataset_v1.2/S09/data/set2/a6.txt\n",
            "Question_Answer_Dataset_v1.2/S09/data/set2/a5o.htm\n",
            "Question_Answer_Dataset_v1.2/S09/data/set2/a1o.htm\n",
            "Question_Answer_Dataset_v1.2/S09/data/set2/a9o.htm\n",
            "Question_Answer_Dataset_v1.2/S09/data/set2/a8.txt\n",
            "Question_Answer_Dataset_v1.2/S09/data/set2/a10.htm\n",
            "Question_Answer_Dataset_v1.2/S09/data/set2/a10.txt\n",
            "Question_Answer_Dataset_v1.2/S09/data/set2/a8.txt.clean\n",
            "Question_Answer_Dataset_v1.2/S09/data/set2/topics.txt\n",
            "Question_Answer_Dataset_v1.2/S09/data/set2/a2o.htm\n",
            "Question_Answer_Dataset_v1.2/S09/data/set2/a8.htm\n",
            "Question_Answer_Dataset_v1.2/S09/data/set2/a7.htm\n",
            "Question_Answer_Dataset_v1.2/S09/data/set2/a1.txt.clean\n",
            "Question_Answer_Dataset_v1.2/S09/data/set2/a2.txt.clean\n",
            "Question_Answer_Dataset_v1.2/S09/data/set2/a10.txt.clean\n",
            "Question_Answer_Dataset_v1.2/S09/data/set2/a10o.htm\n",
            "Question_Answer_Dataset_v1.2/S09/data/set2/a6.htm\n",
            "Question_Answer_Dataset_v1.2/S09/data/set2/a7.txt\n",
            "Question_Answer_Dataset_v1.2/S09/data/set2/a9.txt\n",
            "Question_Answer_Dataset_v1.2/S09/data/set2/a6o.htm\n",
            "Question_Answer_Dataset_v1.2/S09/data/set2/a8o.htm\n",
            "Question_Answer_Dataset_v1.2/S09/data/set2/a1.htm\n",
            "Question_Answer_Dataset_v1.2/S09/data/set2/a1.txt\n",
            "Question_Answer_Dataset_v1.2/S09/data/set2/a7.txt.clean\n",
            "Question_Answer_Dataset_v1.2/S09/data/set2/a5.txt.clean\n",
            "Question_Answer_Dataset_v1.2/S09/data/set2/a5.htm\n",
            "Question_Answer_Dataset_v1.2/S09/data/set2/a3o.htm\n",
            "Question_Answer_Dataset_v1.2/S09/data/set5/\n",
            "Question_Answer_Dataset_v1.2/S09/data/set5/a6.txt.clean\n",
            "Question_Answer_Dataset_v1.2/S09/data/set5/a3.txt.clean\n",
            "Question_Answer_Dataset_v1.2/S09/data/set5/a3.txt\n",
            "Question_Answer_Dataset_v1.2/S09/data/set5/a5.txt\n",
            "Question_Answer_Dataset_v1.2/S09/data/set5/a4o.htm\n",
            "Question_Answer_Dataset_v1.2/S09/data/set5/a3.htm\n",
            "Question_Answer_Dataset_v1.2/S09/data/set5/a9.htm\n",
            "Question_Answer_Dataset_v1.2/S09/data/set5/a2.txt\n",
            "Question_Answer_Dataset_v1.2/S09/data/set5/a9.txt.clean\n",
            "Question_Answer_Dataset_v1.2/S09/data/set5/a4.htm\n",
            "Question_Answer_Dataset_v1.2/S09/data/set5/a4.txt\n",
            "Question_Answer_Dataset_v1.2/S09/data/set5/a4.txt.clean\n",
            "Question_Answer_Dataset_v1.2/S09/data/set5/a2.htm\n",
            "Question_Answer_Dataset_v1.2/S09/data/set5/a7o.htm\n",
            "Question_Answer_Dataset_v1.2/S09/data/set5/a6.txt\n",
            "Question_Answer_Dataset_v1.2/S09/data/set5/a5o.htm\n",
            "Question_Answer_Dataset_v1.2/S09/data/set5/a1o.htm\n",
            "Question_Answer_Dataset_v1.2/S09/data/set5/a9o.htm\n",
            "Question_Answer_Dataset_v1.2/S09/data/set5/a8.txt\n",
            "Question_Answer_Dataset_v1.2/S09/data/set5/a10.htm\n",
            "Question_Answer_Dataset_v1.2/S09/data/set5/a10.txt\n",
            "Question_Answer_Dataset_v1.2/S09/data/set5/a8.txt.clean\n",
            "Question_Answer_Dataset_v1.2/S09/data/set5/topics.txt\n",
            "Question_Answer_Dataset_v1.2/S09/data/set5/a2o.htm\n",
            "Question_Answer_Dataset_v1.2/S09/data/set5/a8.htm\n",
            "Question_Answer_Dataset_v1.2/S09/data/set5/a7.htm\n",
            "Question_Answer_Dataset_v1.2/S09/data/set5/a1.txt.clean\n",
            "Question_Answer_Dataset_v1.2/S09/data/set5/a2.txt.clean\n",
            "Question_Answer_Dataset_v1.2/S09/data/set5/a10.txt.clean\n",
            "Question_Answer_Dataset_v1.2/S09/data/set5/a10o.htm\n",
            "Question_Answer_Dataset_v1.2/S09/data/set5/a6.htm\n",
            "Question_Answer_Dataset_v1.2/S09/data/set5/a7.txt\n",
            "Question_Answer_Dataset_v1.2/S09/data/set5/a9.txt\n",
            "Question_Answer_Dataset_v1.2/S09/data/set5/a6o.htm\n",
            "Question_Answer_Dataset_v1.2/S09/data/set5/a8o.htm\n",
            "Question_Answer_Dataset_v1.2/S09/data/set5/a1.htm\n",
            "Question_Answer_Dataset_v1.2/S09/data/set5/a1.txt\n",
            "Question_Answer_Dataset_v1.2/S09/data/set5/a7.txt.clean\n",
            "Question_Answer_Dataset_v1.2/S09/data/set5/a5.txt.clean\n",
            "Question_Answer_Dataset_v1.2/S09/data/set5/a5.htm\n",
            "Question_Answer_Dataset_v1.2/S09/data/set5/a3o.htm\n",
            "Question_Answer_Dataset_v1.2/S09/data/set1/\n",
            "Question_Answer_Dataset_v1.2/S09/data/set1/a6.txt.clean\n",
            "Question_Answer_Dataset_v1.2/S09/data/set1/a3.txt.clean\n",
            "Question_Answer_Dataset_v1.2/S09/data/set1/a3.txt\n",
            "Question_Answer_Dataset_v1.2/S09/data/set1/a5.txt\n",
            "Question_Answer_Dataset_v1.2/S09/data/set1/a4o.htm\n",
            "Question_Answer_Dataset_v1.2/S09/data/set1/a3.htm\n",
            "Question_Answer_Dataset_v1.2/S09/data/set1/a9.htm\n",
            "Question_Answer_Dataset_v1.2/S09/data/set1/a2.txt\n",
            "Question_Answer_Dataset_v1.2/S09/data/set1/a9.txt.clean\n",
            "Question_Answer_Dataset_v1.2/S09/data/set1/a4.htm\n",
            "Question_Answer_Dataset_v1.2/S09/data/set1/a4.txt\n",
            "Question_Answer_Dataset_v1.2/S09/data/set1/a4.txt.clean\n",
            "Question_Answer_Dataset_v1.2/S09/data/set1/a2.htm\n",
            "Question_Answer_Dataset_v1.2/S09/data/set1/a7o.htm\n",
            "Question_Answer_Dataset_v1.2/S09/data/set1/a6.txt\n",
            "Question_Answer_Dataset_v1.2/S09/data/set1/a5o.htm\n",
            "Question_Answer_Dataset_v1.2/S09/data/set1/a1o.htm\n",
            "Question_Answer_Dataset_v1.2/S09/data/set1/a9o.htm\n",
            "Question_Answer_Dataset_v1.2/S09/data/set1/a8.txt\n",
            "Question_Answer_Dataset_v1.2/S09/data/set1/a10.htm\n",
            "Question_Answer_Dataset_v1.2/S09/data/set1/a10.txt\n",
            "Question_Answer_Dataset_v1.2/S09/data/set1/a8.txt.clean\n",
            "Question_Answer_Dataset_v1.2/S09/data/set1/topics.txt\n",
            "Question_Answer_Dataset_v1.2/S09/data/set1/a2o.htm\n",
            "Question_Answer_Dataset_v1.2/S09/data/set1/a8.htm\n",
            "Question_Answer_Dataset_v1.2/S09/data/set1/a7.htm\n",
            "Question_Answer_Dataset_v1.2/S09/data/set1/a1.txt.clean\n",
            "Question_Answer_Dataset_v1.2/S09/data/set1/a2.txt.clean\n",
            "Question_Answer_Dataset_v1.2/S09/data/set1/a10.txt.clean\n",
            "Question_Answer_Dataset_v1.2/S09/data/set1/a10o.htm\n",
            "Question_Answer_Dataset_v1.2/S09/data/set1/a6.htm\n",
            "Question_Answer_Dataset_v1.2/S09/data/set1/a7.txt\n",
            "Question_Answer_Dataset_v1.2/S09/data/set1/a9.txt\n",
            "Question_Answer_Dataset_v1.2/S09/data/set1/a6o.htm\n",
            "Question_Answer_Dataset_v1.2/S09/data/set1/a8o.htm\n",
            "Question_Answer_Dataset_v1.2/S09/data/set1/a1.htm\n",
            "Question_Answer_Dataset_v1.2/S09/data/set1/a1.txt\n",
            "Question_Answer_Dataset_v1.2/S09/data/set1/a7.txt.clean\n",
            "Question_Answer_Dataset_v1.2/S09/data/set1/a5.txt.clean\n",
            "Question_Answer_Dataset_v1.2/S09/data/set1/a5.htm\n",
            "Question_Answer_Dataset_v1.2/S09/data/set1/a3o.htm\n"
          ],
          "name": "stdout"
        }
      ]
    },
    {
      "cell_type": "code",
      "metadata": {
        "id": "DCUWdW18Xu4s"
      },
      "source": [
        "!cd ./Question_Answer_Dataset_v1.2"
      ],
      "execution_count": null,
      "outputs": []
    },
    {
      "cell_type": "code",
      "metadata": {
        "colab": {
          "base_uri": "https://localhost:8080/"
        },
        "id": "11bqJmPPX4gV",
        "outputId": "6046f5bf-8e05-41d3-9d63-91c07eb784d4"
      },
      "source": [
        "!ls -llah \"./Question_Answer_Dataset_v1.2\" "
      ],
      "execution_count": null,
      "outputs": [
        {
          "output_type": "stream",
          "text": [
            "total 48K\n",
            "drwxr-xr-x 5 12174 users 4.0K Aug 23  2013 .\n",
            "drwxr-xr-x 1 root  root  4.0K Dec  7 08:43 ..\n",
            "-rw-r--r-- 1 12174 users  23K Nov  3  2008 LICENSE-S08,S09\n",
            "-rwxr-xr-x 1 12174 users 2.8K Aug 23  2013 README.v1.2\n",
            "drwxr-xr-x 3 12174 users 4.0K Aug  6  2010 S08\n",
            "drwxr-xr-x 3 12174 users 4.0K Aug  6  2010 S09\n",
            "drwxr-xr-x 3 12174 users 4.0K Aug  6  2010 S10\n"
          ],
          "name": "stdout"
        }
      ]
    },
    {
      "cell_type": "code",
      "metadata": {
        "colab": {
          "base_uri": "https://localhost:8080/"
        },
        "id": "VhYqVsE-X5FO",
        "outputId": "3acfbe3f-8cac-4a08-a807-0efbbe2e6199"
      },
      "source": [
        ""
      ],
      "execution_count": null,
      "outputs": [
        {
          "output_type": "stream",
          "text": [
            "cat: 508: No such file or directory\n"
          ],
          "name": "stdout"
        }
      ]
    },
    {
      "cell_type": "markdown",
      "metadata": {
        "id": "66E3b4XSTJJT"
      },
      "source": [
        "# Kaggle dataset\n",
        "\n",
        "an approach is here: [attention](https://www.kaggle.com/samsonleegh/chat-bot-word-based-with-attention)"
      ]
    },
    {
      "cell_type": "code",
      "metadata": {
        "id": "Ib_AZyjMceSi"
      },
      "source": [
        "import json\n",
        "token = {\"username\":\"jenny1test\",\"key\":\"bd70ce34724ba5feb06606ff161cabe4\"}\n",
        "with open('kaggle.json', 'w') as file:\n",
        "    json.dump(token, file)\n",
        "!mkdir -p ~/.kaggle\n",
        "!cp kaggle.json ~/.kaggle/\n",
        "!chmod 600 ~/.kaggle/kaggle.json\n",
        "import kaggle"
      ],
      "execution_count": null,
      "outputs": []
    },
    {
      "cell_type": "code",
      "metadata": {
        "id": "OXV8tHZlcuAa"
      },
      "source": [
        "!kaggle datasets list -s Ticket"
      ],
      "execution_count": null,
      "outputs": []
    },
    {
      "cell_type": "code",
      "metadata": {
        "id": "-mOg8yZVebnF"
      },
      "source": [
        "!kaggle datasets download -d aniketg11/supportticketsclassification && unzip supportticketsclassification.zip"
      ],
      "execution_count": null,
      "outputs": []
    },
    {
      "cell_type": "markdown",
      "metadata": {
        "id": "6lwBPpTttYQY"
      },
      "source": [
        "# Synonims\n",
        "\n",
        "Here we illustrate synonims data driven approach. The dataset comes from WordNet from Princeton ([here](https://www.kaggle.com/duketemon/wordnet-synonyms?select=synonyms.json) the link).\n",
        "\n"
      ]
    },
    {
      "cell_type": "code",
      "metadata": {
        "id": "4ZsyTDGztWZf"
      },
      "source": [
        "import numpy as np\n",
        "array = np.array([1,2,3,4,5,6])"
      ],
      "execution_count": null,
      "outputs": []
    },
    {
      "cell_type": "code",
      "metadata": {
        "colab": {
          "base_uri": "https://localhost:8080/"
        },
        "id": "G5lFA-Ej8EBs",
        "outputId": "6f26468f-8829-47a7-b3e7-18cb6b050498"
      },
      "source": [
        "array"
      ],
      "execution_count": null,
      "outputs": [
        {
          "output_type": "execute_result",
          "data": {
            "text/plain": [
              "array([1, 2, 3, 4, 5, 6])"
            ]
          },
          "metadata": {
            "tags": []
          },
          "execution_count": 2
        }
      ]
    },
    {
      "cell_type": "code",
      "metadata": {
        "colab": {
          "base_uri": "https://localhost:8080/"
        },
        "id": "WGtuqzX88OLe",
        "outputId": "195a74c2-4f6e-4b0b-bb3a-4af57d6ecd28"
      },
      "source": [
        "(array-6)*(-1)+1"
      ],
      "execution_count": null,
      "outputs": [
        {
          "output_type": "execute_result",
          "data": {
            "text/plain": [
              "array([6, 5, 4, 3, 2, 1])"
            ]
          },
          "metadata": {
            "tags": []
          },
          "execution_count": 4
        }
      ]
    },
    {
      "cell_type": "code",
      "metadata": {
        "id": "6L3ey9p48TDF"
      },
      "source": [
        ""
      ],
      "execution_count": null,
      "outputs": []
    }
  ]
}